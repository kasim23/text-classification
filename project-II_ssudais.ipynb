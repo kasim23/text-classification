{
 "cells": [
  {
   "cell_type": "markdown",
   "metadata": {
    "id": "tsR-pjMWoQFf"
   },
   "source": [
    "1. Ensure you fill in all cells containing `YOUR CODE HERE`, `YOUR ANSWER HERE`, and `NotImplementedError()`.\n",
    "2. After you finish, `Restart the kernel & run` all cells in order.\n",
    "3. Scores will be awarded based on the code, not based on the higher accuracy the better grade. However, the expected accuracy will need to be > 80%."
   ]
  },
  {
   "cell_type": "markdown",
   "metadata": {
    "id": "G6g-G0g210GQ",
    "outputId": "195791cb-9f4a-4093-d404-3db3919f50da"
   },
   "source": [
    "# Project II: Text Classification Using LSTM and Transformer Network\n",
    "## Deadline: Nov 14, 11:59 pm\n",
    "\n",
    "You have learned about the basics of neural network training and testing during the class. Let's proceed to the text classification tasks using simple Transformer and LSTM networks!\n",
    "    \n",
    "\n",
    "Let's get started!"
   ]
  },
  {
   "cell_type": "markdown",
   "metadata": {
    "id": "Mo2DgS6onvfP"
   },
   "source": [
    "# Part 1: LSTM Network (15 points)"
   ]
  },
  {
   "cell_type": "markdown",
   "metadata": {
    "id": "wcqf0h8Fn-OD"
   },
   "source": [
    "**Import library**"
   ]
  },
  {
   "cell_type": "code",
   "execution_count": 1,
   "metadata": {
    "id": "0jK5fQiIeNv7"
   },
   "outputs": [
    {
     "name": "stderr",
     "output_type": "stream",
     "text": [
      "/p/cs245/anaconda3/envs/project-II/lib/python3.9/site-packages/tqdm/auto.py:21: TqdmWarning: IProgress not found. Please update jupyter and ipywidgets. See https://ipywidgets.readthedocs.io/en/stable/user_install.html\n",
      "  from .autonotebook import tqdm as notebook_tqdm\n"
     ]
    },
    {
     "data": {
      "text/html": [
       "<div>\n",
       "<style scoped>\n",
       "    .dataframe tbody tr th:only-of-type {\n",
       "        vertical-align: middle;\n",
       "    }\n",
       "\n",
       "    .dataframe tbody tr th {\n",
       "        vertical-align: top;\n",
       "    }\n",
       "\n",
       "    .dataframe thead th {\n",
       "        text-align: right;\n",
       "    }\n",
       "</style>\n",
       "<table border=\"1\" class=\"dataframe\">\n",
       "  <thead>\n",
       "    <tr style=\"text-align: right;\">\n",
       "      <th></th>\n",
       "      <th>type</th>\n",
       "      <th>text</th>\n",
       "    </tr>\n",
       "  </thead>\n",
       "  <tbody>\n",
       "    <tr>\n",
       "      <th>0</th>\n",
       "      <td>ham</td>\n",
       "      <td>Go until jurong point, crazy.. Available only ...</td>\n",
       "    </tr>\n",
       "    <tr>\n",
       "      <th>1</th>\n",
       "      <td>ham</td>\n",
       "      <td>Ok lar... Joking wif u oni...</td>\n",
       "    </tr>\n",
       "    <tr>\n",
       "      <th>2</th>\n",
       "      <td>spam</td>\n",
       "      <td>Free entry in 2 a wkly comp to win FA Cup fina...</td>\n",
       "    </tr>\n",
       "    <tr>\n",
       "      <th>3</th>\n",
       "      <td>ham</td>\n",
       "      <td>U dun say so early hor... U c already then say...</td>\n",
       "    </tr>\n",
       "    <tr>\n",
       "      <th>4</th>\n",
       "      <td>ham</td>\n",
       "      <td>Nah I don't think he goes to usf, he lives aro...</td>\n",
       "    </tr>\n",
       "  </tbody>\n",
       "</table>\n",
       "</div>"
      ],
      "text/plain": [
       "   type                                               text\n",
       "0   ham  Go until jurong point, crazy.. Available only ...\n",
       "1   ham                      Ok lar... Joking wif u oni...\n",
       "2  spam  Free entry in 2 a wkly comp to win FA Cup fina...\n",
       "3   ham  U dun say so early hor... U c already then say...\n",
       "4   ham  Nah I don't think he goes to usf, he lives aro..."
      ]
     },
     "execution_count": 1,
     "metadata": {},
     "output_type": "execute_result"
    }
   ],
   "source": [
    "import pandas as pd\n",
    "import numpy as np\n",
    "import torch\n",
    "import torch.nn as nn\n",
    "import torch.optim as optim\n",
    "from torch.utils.data import Dataset, DataLoader\n",
    "from sklearn.model_selection import train_test_split\n",
    "from collections import Counter\n",
    "from sklearn.preprocessing import LabelEncoder\n",
    "from torch.nn.utils.rnn import pad_sequence, pack_padded_sequence, pad_packed_sequence\n",
    "import torch.nn.functional as F\n",
    "\n",
    "\n",
    "# Load data\n",
    "df = pd.read_csv('sms_spam.csv')\n",
    "df.head()\n"
   ]
  },
  {
   "cell_type": "markdown",
   "metadata": {
    "id": "vGhRSoP2rBx3"
   },
   "source": [
    "**Data processing**"
   ]
  },
  {
   "cell_type": "code",
   "execution_count": 2,
   "metadata": {
    "id": "7KwkxeqQg6b0"
   },
   "outputs": [],
   "source": [
    "pad_index = 0\n",
    "unknown_index = 1\n",
    "\n",
    "# Tokenizing\n",
    "def tokenize(text):\n",
    "    return text.lower().split()"
   ]
  },
  {
   "cell_type": "code",
   "execution_count": 3,
   "metadata": {
    "id": "0aJiHLyYq-T2"
   },
   "outputs": [],
   "source": [
    "def build_vocab(tokenized_texts):\n",
    "    vocab = Counter()\n",
    "    for tokens in tokenized_texts:\n",
    "        vocab.update(tokens)\n",
    "\n",
    "    vocab = {word: i + 2 for i, (word, _) in enumerate(vocab.most_common())}\n",
    "    vocab_size = len(vocab) + 2\n",
    "    return vocab, vocab_size"
   ]
  },
  {
   "cell_type": "code",
   "execution_count": 4,
   "metadata": {
    "colab": {
     "base_uri": "https://localhost:8080/"
    },
    "id": "oY-LcKzSq-Wn",
    "outputId": "2423b5fe-ce9d-4ea2-a0bd-75029ec97647"
   },
   "outputs": [
    {
     "name": "stdout",
     "output_type": "stream",
     "text": [
      "{'to': 2, 'i': 3, 'you': 4, 'a': 5, 'the': 6, 'u': 7, 'and': 8, 'is': 9, 'in': 10, 'my': 11, 'for': 12, 'your': 13, 'of': 14, 'me': 15, 'have': 16, 'call': 17, 'on': 18, 'are': 19, 'that': 20, 'it': 21, '2': 22, 'so': 23, 'but': 24, 'or': 25, 'not': 26, 'at': 27, 'ur': 28, 'can': 29, 'if': 30, \"i'm\": 31, 'with': 32, 'will': 33, 'be': 34, 'get': 35, 'just': 36, 'do': 37, 'we': 38, 'this': 39, 'when': 40, 'from': 41, '&lt;#&gt;': 42, 'go': 43, 'up': 44, 'all': 45, 'no': 46, '4': 47, 'how': 48, 'what': 49, 'now': 50, '.': 51, 'like': 52, 'got': 53, 'know': 54, 'was': 55, 'free': 56, 'out': 57, 'come': 58, 'am': 59, 'its': 60, 'then': 61, 'good': 62, 'send': 63, '?': 64, 'only': 65, 'want': 66, 'he': 67, 'as': 68, 'text': 69, 'time': 70, \"i'll\": 71, 'by': 72, 'love': 73, '...': 74, 'going': 75, 'ok': 76, 'ü': 77, 'need': 78, 'about': 79, 'r': 80, 'still': 81, 'one': 82, 'txt': 83, 'n': 84, 'see': 85, \"don't\": 86, 'our': 87, 'dont': 88, 'new': 89, 'there': 90, 'tell': 91, 'she': 92, 'been': 93, 'any': 94, 'think': 95, 'reply': 96, 'they': 97, 'mobile': 98, 'take': 99, 'back': 100, 'stop': 101, 'some': 102, 'please': 103, 'has': 104, 'did': 105, 'home': 106, 'an': 107, '&': 108, 'day': 109, 'who': 110, 'claim': 111, 'her': 112, 'hope': 113, 'hi': 114, 'had': 115, 'make': 116, 'give': 117, 'pls': 118, 'more': 119, 'where': 120, \"it's\": 121, 'me.': 122, 'd': 123, 'phone': 124, 'should': 125, 'later': 126, 'now.': 127, 'much': 128, 'him': 129, 'happy': 130, '-': 131, 'great': 132, 'sorry': 133, 'after': 134, 'ask': 135, '&amp;': 136, 'dear': 137, 'you.': 138, 'hey': 139, 'da': 140, 'say': 141, 'well': 142, 'e': 143, 'really': 144, 'im': 145, 'here': 146, 'last': 147, 'way': 148, 'very': 149, 'meet': 150, 'why': 151, 'now!': 152, 'night': 153, 'miss': 154, 'would': 155, 'cos': 156, 'c': 157, 'too': 158, 'today': 159, 'oh': 160, 'every': 161, 'find': 162, 'week': 163, 'let': 164, 'pick': 165, 'them': 166, 'number': 167, 'win': 168, 'work': 169, 'contact': 170, 'lor.': 171, 'doing': 172, 'nokia': 173, 'said': 174, \"i've\": 175, 'right': 176, 'cash': 177, 'sent': 178, 'keep': 179, 'won': 180, '1': 181, 'cant': 182, 'even': 183, 'b': 184, 'yeah': 185, 'wat': 186, 'thanks': 187, 'also': 188, 'message': 189, 'were': 190, 'went': 191, 'next': 192, 'his': 193, \"that's\": 194, 'anything': 195, 'could': 196, 'which': 197, 'lol': 198, 'feel': 199, 'buy': 200, 'gud': 201, 'many': 202, 'prize': 203, 'gonna': 204, 'tomorrow': 205, \"can't\": 206, ':)': 207, 'it.': 208, 'sure': 209, 'msg': 210, 'someone': 211, 'per': 212, 'lor...': 213, '!': 214, 'before': 215, 'dun': 216, 'always': 217, 'us': 218, 'sorry,': 219, 'around': 220, 'yes': 221, 'wait': 222, 'told': 223, 'wan': 224, 'over': 225, 'service': 226, \"you're\": 227, 'something': 228, '3': 229, 'waiting': 230, 'first': 231, 'leave': 232, 'customer': 233, 'chat': 234, 'care': 235, 'other': 236, 'already': 237, 'down': 238, 'thk': 239, 'ok.': 240, 'day.': 241, 'getting': 242, 'life': 243, 'try': 244, 'off': 245, 'thing': 246, 'may': 247, 'place': 248, 'being': 249, \"didn't\": 250, 'morning': 251, 'never': 252, 'u.': 253, 'trying': 254, 'things': 255, 'coming': 256, 'nice': 257, 'wish': 258, 'you!': 259, 'urgent!': 260, 'thought': 261, 'draw': 262, 'money': 263, 'people': 264, 'few': 265, 'having': 266, 'talk': 267, 'use': 268, 'x': 269, 'k': 270, 'late': 271, 'ill': 272, 'bit': 273, 'babe': 274, 'same': 275, 'holiday': 276, 'tone': 277, 'finish': 278, 'no.': 279, 'thats': 280, 'ya': 281, 'friends': 282, 'live': 283, 'half': 284, 'awarded': 285, 'y': 286, 'box': 287, 'than': 288, 'sleep': 289, 'receive': 290, 'latest': 291, 'v': 292, 'best': 293, 'wanna': 294, 'name': 295, 'friend': 296, '*': 297, 'long': 298, 'account': 299, 'because': 300, 'da.': 301, '1st': 302, 'you,': 303, 'another': 304, 'po': 305, 'better': 306, 'shows': 307, 'jus': 308, 'dat': 309, 'meeting': 310, 'mins': 311, 'watching': 312, 'smile': 313, 'guess': 314, 'into': 315, 'might': 316, 'quite': 317, 'soon': 318, 'stuff': 319, 'wont': 320, 'help': 321, 'eat': 322, 'car': 323, 'sms': 324, 'special': 325, 'check': 326, 'there.': 327, 'real': 328, '£1000': 329, 'guys': 330, 'ready': 331, 'lunch': 332, 'end': 333, 'year': 334, 'again': 335, 'big': 336, 'called': 337, 'chance': 338, 'enjoy': 339, 'heart': 340, 'speak': 341, ',': 342, 'man': 343, 'play': 344, 'home.': 345, 'once': 346, 'yup': 347, 'between': 348, 'ok...': 349, 'person': 350, 'made': 351, '5': 352, 'actually': 353, 'probably': 354, 'does': 355, 'look': 356, '2nd': 357, 'maybe': 358, \"he's\": 359, '150ppm': 360, 'reach': 361, 'watch': 362, 'video': 363, 'ever': 364, 'remember': 365, 'pay': 366, 'you?': 367, 'done': 368, \"how's\": 369, '+': 370, 'dis': 371, 'hear': 372, 'looking': 373, 'guaranteed': 374, 'little': 375, 'didnt': 376, 'two': 377, 'put': 378, 'den': 379, 'start': 380, 'shall': 381, 'camera': 382, 'cost': 383, \"there's\": 384, 'most': 385, 'tonight': 386, 'now?': 387, 'luv': 388, 'without': 389, 'i.ll': 390, 'time.': 391, 'shit': 392, 'dunno': 393, 'minutes': 394, 'mind': 395, 'days': 396, 'until': 397, 'wif': 398, 'selected': 399, 'today.': 400, 'thank': 401, 'wanted': 402, 'part': 403, 'class': 404, '16': 405, 'forgot': 406, 'nothing': 407, 'says': 408, 'lot': 409, 'those': 410, 'collect': 411, 'hour': 412, 'entry': 413, 'goes': 414, 'left': 415, 'sweet': 416, 'since': 417, 'came': 418, 'must': 419, 'bt': 420, 'job': 421, 'able': 422, 'hav': 423, 'shopping': 424, 'bring': 425, 'god': 426, 'bad': 427, 'dad': 428, 'early': 429, 'network': 430, 'room': 431, 'means': 432, 'abt': 433, 'u?': 434, 'juz': 435, 'join': 436, 'asked': 437, 'yo': 438, 'fuck': 439, 'plus': 440, 'world': 441, 'xxx': 442, 'dinner': 443, 'till': 444, 'ringtone': 445, 'it,': 446, \"haven't\": 447, 'later.': 448, 'birthday': 449, '4*': 450, 'do.': 451, 'tv': 452, 'haha': 453, 'face': 454, 'everything': 455, 'wake': 456, 'line': 457, 'orange': 458, 'tones': 459, 'fun': 460, 'valid': 461, 'bus': 462, 'that.': 463, 'saw': 464, 'wen': 465, 'making': 466, 'out.': 467, 'xmas': 468, '&lt;decimal&gt;': 469, 'important': 470, '500': 471, 'plan': 472, 'wot': 473, 'min': 474, 'attempt': 475, 'lor': 476, 'makes': 477, 'word': 478, 'update': 479, 'enough': 480, '16+': 481, \"we're\": 482, \"won't\": 483, 'tried': 484, 'double': 485, 'me?': 486, 'havent': 487, 'show': 488, 'top': 489, 'haf': 490, 'til': 491, 'working': 492, \"what's\": 493, 'sexy': 494, '18': 495, 'missed': 496, 'girl': 497, 'plz': 498, 'weekly': 499, ':-)': 500, 'guy': 501, 'town': 502, '£100': 503, 'colour': 504, 'price': 505, 'school': 506, 'todays': 507, 'house': 508, 'liao...': 509, 'run': 510, 'wid': 511, 'texts': 512, 'sat': 513, 'stay': 514, 'tot': 515, 'details': 516, 'wants': 517, 'boy': 518, 'yet': 519, 'gift': 520, '8007': 521, 'set': 522, 'free!': 523, 'ard': 524, 'delivery': 525, 'pain': 526, 'bonus': 527, 'driving': 528, '£2000': 529, 'tonight?': 530, 'missing': 531, 'years': 532, 'oh.': 533, 'full': 534, \"we'll\": 535, 'change': 536, '150p': 537, 'g': 538, 'either': 539, 'these': 540, 'while': 541, 'saying': 542, 'away': 543, 'await': 544, '6': 545, 'pounds': 546, 'work.': 547, 'calls': 548, 'hair': 549, '£5000': 550, 'guaranteed.': 551, 'offer': 552, 'hello': 553, 'times': 554, 'wil': 555, 'coz': 556, 'hot': 557, '86688': 558, 'hurt': 559, 'babe,': 560, 'yeah,': 561, 'landline.': 562, 't&cs': 563, 'good.': 564, 'lar...': 565, 'final': 566, 'forget': 567, 're': 568, 'took': 569, 'month': 570, 'finished': 571, 'stop.': 572, 'started': 573, 'cause': 574, 'mean': 575, 'taking': 576, 'both': 577, 'happen': 578, 'vouchers': 579, 'music': 580, '750': 581, 'book': 582, 'land': 583, '£500': 584, 'princess!': 585, 'lose': 586, 'shop': 587, 'neva': 588, 'feeling': 589, 'drive': 590, \"she's\": 591, 'beautiful': 592, 'apply': 593, '£1.50': 594, 'hours': 595, 'no:': 596, 'aft': 597, 'now,': 598, 'mob': 599, 'urgent': 600, 'test': 601, 'old': 602, '12hrs': 603, 'expires': 604, 'answer': 605, 'each': 606, 'believe': 607, 'smoke': 608, 'worth': 609, 'gr8': 610, 'tmr': 611, 'found': 612, 'aight': 613, 'anyway': 614, 'walk': 615, 'up.': 616, 'ring': 617, 'baby': 618, 'mail': 619, 'right?': 620, 'post': 621, 'evening': 622, 'busy': 623, 'week.': 624, 'head': 625, 'line.': 626, '7': 627, 'thinking': 628, 'bored': 629, 'sch': 630, 'family': 631, 'knw': 632, 'prize.': 633, 'it?': 634, 'dude': 635, 'sad': 636, 'goin': 637, 'though': 638, 'code': 639, '100': 640, 'pobox': 641, 'date': 642, \"doesn't\": 643, 'decided': 644, 'yourself': 645, 'me...': 646, 'trip': 647, 'comes': 648, 'too.': 649, 'search': 650, 'private!': 651, 'statement': 652, 'points.': 653, 'identifier': 654, 'me,': 655, 'lots': 656, 'leaving': 657, 'today?': 658, 'needs': 659, 'sis': 660, 'story': 661, 'id': 662, 'oso': 663, 'sounds': 664, 'thanx': 665, 'angry': 666, 'takes': 667, 'unsubscribe': 668, 'choose': 669, 'food': 670, 'lets': 671, 'message.': 672, 'calling': 673, 'problem': 674, 'mobileupd8': 675, 'bed': 676, 'office': 677, 't': 678, 'together': 679, 's': 680, 'o': 681, 'hows': 682, 'only.': 683, 'words': 684, 'fine': 685, 'lucky': 686, 'pa.': 687, 'close': 688, 'aight,': 689, 'u!': 690, 'sir,': 691, 'open': 692, '..': 693, 'order': 694, 'wit': 695, 'noe': 696, 'morning.': 697, 'hold': 698, '08000839402': 699, 'bout': 700, 'back.': 701, 'tomorrow.': 702, 'drink': 703, 'dating': 704, 'fucking': 705, 'sae': 706, 'visit': 707, 'kind': 708, '18+': 709, 'pics': 710, 'drop': 711, 'fine.': 712, 'collection.': 713, ':-(': 714, 'haha...': 715, 'available': 716, 'wkly': 717, \"i'd\": 718, 'brother': 719, 'wonderful': 720, 'already?': 721, 'alright': 722, '08000930705': 723, 'telling': 724, 'class.': 725, 'whole': 726, 'second': 727, 'girls': 728, 'free.': 729, 'ah?': 730, 'wk': 731, 'address': 732, 'operator': 733, 'code:': 734, \"you'll\": 735, 'services': 736, 'yr': 737, 'k,': 738, 'their': 739, 'fancy': 740, \"you've\": 741, 'carlos': 742, 'log': 743, 'weekend': 744, 'easy': 745, 'secret': 746, 'thinks': 747, 'true': 748, 'anytime': 749, 'card': 750, 'sister': 751, 'great.': 752, 'touch': 753, 'light': 754, 'cool': 755, 'messages': 756, 'poly': 757, '£250': 758, 'question': 759, 'ten': 760, '10': 761, 'u...': 762, 'outside': 763, 'pretty': 764, 'voucher': 765, 'b4': 766, 'anyone': 767, 'break': 768, 'lovely': 769, 'movie': 770, 'de': 771, 'online': 772, 'lei...': 773, 't&c': 774, 'lesson': 775, 'almost': 776, 'used': 777, '0800': 778, 'prize!': 779, 'else': 780, 'gone': 781, 'hit': 782, 'felt': 783, 'caller': 784, 'landline': 785, 'player': 786, 'ni8': 787, 'everyone': 788, 'already.': 789, 'night.': 790, 'her.': 791, 'awesome,': 792, 'year.': 793, 'darlin': 794, 'finally': 795, 'nite': 796, 'meant': 797, 'fr': 798, 'congratulations': 799, '87066': 800, 'u,': 801, 'dnt': 802, 'unlimited': 803, 'type': 804, 'bslvyl': 805, 'yes.': 806, 'friendship': 807, 'cool,': 808, 'read': 809, 'seeing': 810, 'currently': 811, 'talking': 812, 'worry': 813, 'couple': 814, 'care.': 815, 'eve': 816, 'apply.': 817, 'within': 818, '2003': 819, '800': 820, 'kiss': 821, 'it!': 822, 'mum': 823, 'opt': 824, '10p': 825, 'week!': 826, 'rate': 827, 'wife': 828, 'ok?': 829, 'party': 830, '!!': 831, 'mine': 832, 'dear.': 833, 'alone': 834, 'w': 835, 'gas': 836, '||': 837, 'wat...': 838, 'treat': 839, 'national': 840, 'smth': 841, 'complimentary': 842, 'cool.': 843, 'here.': 844, 'gotta': 845, 'afternoon': 846, 'sorry.': 847, \"isn't\": 848, 'mom': 849, 'direct': 850, 'frnd': 851, 'download': 852, 'bank': 853, 'well,': 854, 'minute': 855, 'leh...': 856, 'know.': 857, 'hard': 858, 'company': 859, 'case': 860, 'then.': 861, 'day,': 862, 'blue': 863, 'swing': 864, 'award': 865, 'th': 866, 'supposed': 867, 'month.': 868, 'easy,': 869, '2.': 870, '4.': 871, 'offers': 872, 'un-redeemed': 873, 'sea': 874, 'yar': 875, 'news': 876, 'pub': 877, 'weeks': 878, 'game': 879, 'mayb': 880, 'gd': 881, 'soon.': 882, 'nt': 883, 'picking': 884, 'kiss*': 885, 'least': 886, 'pic': 887, 'sex': 888, 'enter': 889, 'in.': 890, 'smiling': 891, \"wasn't\": 892, 'it...': 893, 'valued': 894, 'eh': 895, 'eg': 896, 'ha': 897, 'charged': 898, 'crave': 899, 'gets': 900, '@': 901, 'pass': 902, 'yours.': 903, 'checking': 904, 'cut': 905, 'loads': 906, 'hi.': 907, 'prob': 908, 'yet.': 909, 'entered': 910, 'askd': 911, 'invited': 912, 'winner': 913, 'numbers': 914, 'award.': 915, 'dogging': 916, 'txting': 917, 'age': 918, 'whats': 919, 'wine': 920, 'one.': 921, 'love.': 922, 'way.': 923, 'ya,': 924, 'muz': 925, 'sleeping': 926, 'march': 927, 'txt:': 928, 'tel': 929, 'okay.': 930, 'wana': 931, 'club': 932, 'fone': 933, 'somebody': 934, '1.': 935, 'problem.': 936, 'reading': 937, 'via': 938, 'jay': 939, 'here,': 940, 'st': 941, 'discount': 942, 'seen': 943, 'phones': 944, 'call.': 945, 'asking': 946, 'sending': 947, '3.': 948, '8': 949, '£2,000': 950, 'listen': 951, 'through': 952, 'darren': 953, '£350': 954, 'sun': 955, 'whatever': 956, '…': 957, 'extra': 958, 'yesterday': 959, 'collection': 960, 'whenever': 961, 'sort': 962, 'knew': 963, 'already...': 964, 'feels': 965, 'it..': 966, 'heard': 967, 'crazy': 968, 'frm': 969, 'don': 970, 'yes,': 971, 'support': 972, 'surprise': 973, '*grins*': 974, 'wrong': 975, 'ok,': 976, 'life.': 977, 'loved': 978, '9': 979, 'auction': 980, 'number.': 981, 'this.': 982, 'okie': 983, 'comp': 984, 'callertune': 985, 'press': 986, 'mobiles': 987, 'knows': 988, '=': 989, 'out!': 990, 'lar': 991, 'rply': 992, 'xx': 993, 'now...': 994, 'night?': 995, 'representative': 996, 'gave': 997, 'computer': 998, 'pa': 999, \"''\": 1000, 'uncle': 1001, 'match': 1002, 'rates': 1003, 'mu': 1004, 'del': 1005, 'msgs': 1006, 'tired': 1007, 'doing?': 1008, 'spend': 1009, 'tomo': 1010, 'boytoy': 1011, 'orchard': 1012, 'kate': 1013, 'college': 1014, 'well.': 1015, 'yours': 1016, 'no,': 1017, 'sleep.': 1018, 'leaves': 1019, 'hmv': 1020, 'thanx...': 1021, 'far': 1022, 'figure': 1023, 'woke': 1024, 'me..': 1025, 'reason': 1026, 'mm': 1027, 'pm': 1028, 'point': 1029, 'booked': 1030, 'help.': 1031, 'cum': 1032, 'wat.': 1033, 'near': 1034, 'mobile!': 1035, 'hoping': 1036, 'across': 1037, ':': 1038, 's.': 1039, 'fine,': 1040, 'ts&cs': 1041, 'fantastic': 1042, 'fri': 1043, 'email': 1044, 'wishing': 1045, 'wonder': 1046, 'lost': 1047, 'ugh': 1048, 'sir.': 1049, 'charge': 1050, 'camcorder': 1051, 'poor': 1052, 'min.': 1053, 'otherwise': 1054, 'ntt': 1055, 'project': 1056, 'truth': 1057, 'happened': 1058, 'loving': 1059, 'thanks.': 1060, 'she.s': 1061, 'dreams': 1062, 'write': 1063, 'parents': 1064, 'empty': 1065, 'cup': 1066, 'copy': 1067, 'word:': 1068, 'myself': 1069, 'hungry': 1070, 'catch': 1071, 'uk': 1072, 'abiola': 1073, 'great!': 1074, 'reached': 1075, 'song': 1076, 'frnds': 1077, 'save': 1078, 'hee...': 1079, 'tickets': 1080, 'okay': 1081, 'up?': 1082, 'said,': 1083, 'specially': 1084, 'friday': 1085, 'that,': 1086, 'quiz': 1087, 'lovable': 1088, 'dream': 1089, 'hello,': 1090, 'safe': 1091, 'completely': 1092, 'mr': 1093, 'bath': 1094, 'staying': 1095, 'doesnt': 1096, 'money.': 1097, 'trust': 1098, 'using': 1099, 'ive': 1100, 'exam': 1101, 'lar.': 1102, 'bcoz': 1103, 'street': 1104, 'cd': 1105, 'disturb': 1106, 'yet?': 1107, 'stupid': 1108, 'unless': 1109, 'somewhere': 1110, 'accept': 1111, '£200': 1112, 'normal': 1113, ':(': 1114, 'merry': 1115, 'but,': 1116, 'small': 1117, 'txts': 1118, 'there,': 1119, 'brings': 1120, 'sir': 1121, 'huh': 1122, 'days.': 1123, 'ass': 1124, 'starts': 1125, 'there?': 1126, 'remove': 1127, 'terms': 1128, 'less': 1129, '£150': 1130, 'cs': 1131, 'can...': 1132, 'em': 1133, 'i.': 1134, 'm.': 1135, 'train': 1136, 'area': 1137, '–': 1138, 'day!': 1139, 'seems': 1140, 'sell': 1141, 'rite...': 1142, 'summer': 1143, 'store': 1144, 'today!': 1145, 'www.getzed.co.uk': 1146, 'gettin': 1147, 'tampa': 1148, 'want.': 1149, 'm': 1150, 'against': 1151, '£800': 1152, 'comin': 1153, 'convey': 1154, 'information': 1155, 'drugs': 1156, 'nobody': 1157, 'tht': 1158, 'congrats': 1159, 'doin': 1160, 'thinkin': 1161, 'flag': 1162, '12': 1163, 'entitled': 1164, 'info': 1165, 'link': 1166, 'quick': 1167, 'confirm': 1168, \"you'd\": 1169, 'weekend.': 1170, 'sms.': 1171, 'congrats!': 1172, 'nice.': 1173, 'k.': 1174, 'spent': 1175, 'loves': 1176, 'planning': 1177, 'coffee': 1178, 'ave': 1179, 'men': 1180, 'wishes': 1181, 'know!': 1182, 'boss': 1183, 'lunch.': 1184, 'ending': 1185, 'friend.': 1186, 'stop?': 1187, 'goto': 1188, 'later?': 1189, 'especially': 1190, \"where's\": 1191, 'freephone': 1192, 'bathe': 1193, 'however': 1194, 'mrng': 1195, 'yo,': 1196, 'bill': 1197, 'course': 1198, 'to.': 1199, 'side': 1200, 'kick': 1201, 'admirer': 1202, 'u-find': 1203, 'r*reveal': 1204, 'special-call': 1205, 'laptop': 1206, 'late.': 1207, 'lemme': 1208, 'own': 1209, 'content': 1210, 'charge.': 1211, 'usf': 1212, 'ends': 1213, 'rose': 1214, 'u..': 1215, 'haha,': 1216, 'christmas': 1217, 'plans': 1218, 'valentines': 1219, 'wiv': 1220, 'met': 1221, 'hg/suite342/2lands': 1222, 'you...': 1223, 'reference': 1224, 'bluetooth': 1225, 'rental': 1226, 'mrt': 1227, 'giving': 1228, 'din': 1229, 'kinda': 1230, 'is,': 1231, 'baby!': 1232, 'park': 1233, 'simple': 1234, 'him.': 1235, 'slow': 1236, 'afternoon,': 1237, 'self': 1238, 'cheap': 1239, 'nope': 1240, '150': 1241, 'kids': 1242, 'day?': 1243, 'tho': 1244, 'pound': 1245, 'noon': 1246, 'friends.': 1247, 'wish.': 1248, 'starting': 1249, 'again!': 1250, 'study': 1251, 'xy': 1252, 'ans': 1253, 'again.': 1254, 'home...': 1255, 'add': 1256, 'tc': 1257, 'glad': 1258, 'snow': 1259, 'omg': 1260, 'house.': 1261, 'no1': 1262, 'understand': 1263, 'possible': 1264, 'games': 1265, 'registered': 1266, 'medical': 1267, 'decide': 1268, 'love,': 1269, 'il': 1270, 'de.': 1271, 'miracle': 1272, 'good,': 1273, 'during': 1274, 'happiness': 1275, 'digital': 1276, 'place.': 1277, 'phone.': 1278, 'awaiting': 1279, 'film': 1280, 'chennai': 1281, 'tmr?': 1282, 'picked': 1283, 'mode': 1284, 'others': 1285, 'oh...': 1286, 'wow': 1287, 'ltd,': 1288, 'oredi...': 1289, 'mind.': 1290, 'tomorrow,': 1291, 'oops': 1292, 'wondering': 1293, 'difficult': 1294, 'south': 1295, 'john': 1296, 'simple..': 1297, 'hi,': 1298, \"joy's\": 1299, 'babe.': 1300, 'sitting': 1301, 'wat?': 1302, '\"': 1303, 'them.': 1304, 'nah': 1305, 'request': 1306, '£900': 1307, '11': 1308, 'months': 1309, 'promise': 1310, 'click': 1311, 'wap': 1312, 'england': 1313, '87077': 1314, 'mark': 1315, 'sick': 1316, 'that!': 1317, 'replying': 1318, 'learn': 1319, 'saturday': 1320, 'kept': 1321, 'liked': 1322, 'ice': 1323, 'correct': 1324, 'etc': 1325, 'wun': 1326, 'following': 1327, 'stand': 1328, 'trouble': 1329, 'rain': 1330, 'hurts': 1331, 'password': 1332, 'cuz': 1333, 'weekends': 1334, 'special.': 1335, 'paying': 1336, 'anything.': 1337, 'room.': 1338, 'sunshine': 1339, 'sony': 1340, 'dvd': 1341, \"uk's\": 1342, 'lazy': 1343, 'back?': 1344, 'pray': 1345, 'sometimes': 1346, 'become': 1347, '62468': 1348, 'not,': 1349, 'hop': 1350, '$': 1351, 'need.': 1352, 'towards': 1353, 'net': 1354, 'slept': 1355, 'past': 1356, 'leh.': 1357, 'battery': 1358, 'showing': 1359, 'deep': 1360, 'lover': 1361, 'same.': 1362, 'definitely': 1363, 'night,': 1364, 'life,': 1365, 'sim': 1366, 'die': 1367, ':v': 1368, 'imagine': 1369, 'games,': 1370, 'buying': 1371, 'rest': 1372, 'kb': 1373, 'pete': 1374, 'immediately': 1375, 'fixed': 1376, 'access': 1377, '150p/msg': 1378, 'hand': 1379, 'yesterday.': 1380, 'urself': 1381, 'weed': 1382, 'ex': 1383, 'cash-balance': 1384, 'maximize': 1385, 'cash-in': 1386, '150p/msg.': 1387, 'sure,': 1388, 'ah...': 1389, 'motorola': 1390, 'so.': 1391, 'going?': 1392, 'rock': 1393, 'none': 1394, 'week?': 1395, 'too...': 1396, '3030.': 1397, 'loan': 1398, 'thru': 1399, 'style': 1400, 'tenerife': 1401, '6.': 1402, 'credit': 1403, 'rent': 1404, 'opinion': 1405, 'silent': 1406, '7.': 1407, 'phone,': 1408, 'ipod': 1409, 'mp3': 1410, \"today's\": 1411, '85023': 1412, 'savamob,': 1413, 'member': 1414, '£3.00': 1415, 'rather': 1416, 'hurry': 1417, 'up,': 1418, 'workin': 1419, 'gym': 1420, 'custcare': 1421, 'imma': 1422, 'valentine': 1423, 'alex': 1424, 'pc': 1425, 'sound': 1426, 'much.': 1427, 'under': 1428, 'king': 1429, 'looks': 1430, 'sit': 1431, 'library': 1432, 'wk.': 1433, \"they're\": 1434, 'lol!': 1435, 'tonight.': 1436, 'space': 1437, 'ago': 1438, '&lt;time&gt;': 1439, '36504': 1440, 'ones': 1441, 'charity': 1442, 'mate': 1443, 'mid': 1444, 'short': 1445, '08712460324': 1446, ':/': 1447, 'photo': 1448, 'earlier': 1449, '3g': 1450, 'ü...': 1451, 'mates': 1452, 'questions': 1453, 'bak': 1454, 'move': 1455, 'onto': 1456, 'cancel': 1457, 'complete': 1458, 'bb': 1459, 'shd': 1460, 'lor,': 1461, 'longer': 1462, 'vl': 1463, 'reaching': 1464, '20p': 1465, '1327': 1466, 'croydon': 1467, 'cr9': 1468, '5wb': 1469, 'welcome': 1470, 'msg:': 1471, 'players': 1472, 'fast': 1473, 'fact': 1474, 'hey,': 1475, 'morning,': 1476, 'moment': 1477, 'arrive': 1478, 'inside': 1479, 'holding': 1480, 'eyes': 1481, 'excuse': 1482, 'costa': 1483, 'sol': 1484, 'huh?': 1485, \"who's\": 1486, \"wat's\": 1487, 'not.': 1488, 'pls.': 1489, \"god's\": 1490, 'murdered': 1491, 'doing.': 1492, 'happens': 1493, 'cine': 1494, 'freemsg': 1495, 'hl': 1496, 'there!': 1497, 'yup...': 1498, 'again...': 1499, 'texting': 1500, 'ahead': 1501, 'sure.': 1502, 'usually': 1503, 'fyi': 1504, 'pleased': 1505, 'something?': 1506, 'job.': 1507, 'done.': 1508, 'bed.': 1509, 'don‘t': 1510, 'afternoon.': 1511, 'simply': 1512, 'shower': 1513, 'umma': 1514, 'birthday.': 1515, 'people.': 1516, 'worry.': 1517, 'eatin': 1518, \"b'day\": 1519, '08712300220': 1520, 'standard': 1521, 'in?': 1522, 'inviting': 1523, 'turns': 1524, 'spoke': 1525, 'experience.': 1526, 'joined': 1527, 'deal': 1528, 'personal': 1529, 'persons': 1530, 'balance': 1531, 'rs': 1532, 'goodmorning': 1533, 'here?': 1534, 'say,': 1535, \"u've\": 1536, 'kallis': 1537, 'tncs': 1538, 'stuff.': 1539, 'mins?': 1540, 'horny': 1541, 'dint': 1542, 'sunny': 1543, 'worries': 1544, 'okie...': 1545, 'usual': 1546, 'power': 1547, 'only!': 1548, 'sign': 1549, 'track': 1550, 'return': 1551, 'round': 1552, 'msg.': 1553, 'posted': 1554, 'forward': 1555, 'motorola,': 1556, 'willing': 1557, 'order,': 1558, 'mistake': 1559, 'putting': 1560, 'al': 1561, 'man,': 1562, 'fullonsms.com': 1563, 'dear..': 1564, 'lift': 1565, 'wnt': 1566, 'vry': 1567, 'ldn': 1568, 'askin': 1569, 'tough': 1570, 'group': 1571, '\"hey': 1572, 'best.': 1573, 'isnt': 1574, 'different': 1575, \"t&c's\": 1576, 'notice': 1577, 'award!': 1578, 'princess?': 1579, 'weekend?': 1580, 'depends': 1581, 'true.': 1582, '5.': 1583, '9.': 1584, '40gb': 1585, 'way,': 1586, 'children': 1587, 'while.': 1588, 'hotel': 1589, 'omw': 1590, 'warm': 1591, 'barely': 1592, 'daddy': 1593, 'spree': 1594, '!!!': 1595, '25p': 1596, 'vodafone': 1597, 'matches': 1598, \"'\": 1599, 'how?': 1600, '20': 1601, \"u're\": 1602, 'bedroom': 1603, 'lect': 1604, 'anyway.': 1605, 'torch': 1606, 'hey.': 1607, 'gap': 1608, 'wer': 1609, 'aftr': 1610, 'running': 1611, 'monday': 1612, 'wats': 1613, 'plan?': 1614, \"couldn't\": 1615, 'savamob': 1616, 'w45wq': 1617, 'norm150p/tone': 1618, 'future': 1619, 'bid': 1620, 'babe!': 1621, 'hmm': 1622, 'surely': 1623, 'fall': 1624, 'service.': 1625, 'yrs': 1626, 'user': 1627, 'murder': 1628, 'due': 1629, 'teach': 1630, 'worried': 1631, 'reply.': 1632, 'gay': 1633, 'iam': 1634, 'wherever': 1635, 'recently': 1636, '\"our': 1637, 'it..\"': 1638, \"u'll\": 1639, 'out,': 1640, 'nyt': 1641, 'holla': 1642, 'f': 1643, 'na.': 1644, 'fight': 1645, 'sipix': 1646, 'camera!': 1647, 'black': 1648, 'aiyah': 1649, 'http://www.urawinner.com': 1650, 'howz': 1651, \"let's\": 1652, 'luck!': 1653, 'not?': 1654, 'around?': 1655, '2day': 1656, 'over?': 1657, 'cell': 1658, 'lor..': 1659, 'dog': 1660, 'frens': 1661, 'is.': 1662, 'super': 1663, 'marry': 1664, 'yahoo': 1665, '08707509020': 1666, 'person,': 1667, 'share': 1668, '\"i': 1669, '4th': 1670, 'nature': 1671, 'keeping': 1672, 'name.': 1673, '0870': 1674, 'except': 1675, '86021': 1676, 'single': 1677, 'then...': 1678, 'tomorrow?': 1679, 'london': 1680, 'buzz': 1681, 'walking': 1682, 'lookin': 1683, 'father': 1684, 'lol.': 1685, 'slowly': 1686, 'thing.': 1687, 'created': 1688, 'exciting': 1689, 'text.': 1690, 'list': 1691, 'bt-national-rate': 1692, 'yep': 1693, 'rate)': 1694, '09050090044': 1695, 'toclaim.': 1696, 'sae,': 1697, 'pobox334,': 1698, 'stockport,': 1699, 'sk38xh,': 1700, 'cost£1.50/pm,': 1701, 'max10mins': 1702, 'awesome': 1703, 'said:': 1704, 'number,': 1705, 'movies': 1706, 'ahmad': 1707, 'thnk': 1708, 'freemsg:': 1709, 'semester': 1710, 'official': 1711, 'though.': 1712, 'sed': 1713, 'wife,': 1714, '.....': 1715, 'role': 1716, 'checked': 1717, 'tear': 1718, 'hell': 1719, 'added': 1720, 'budget': 1721, 'meds': 1722, 'bugis': 1723, 'darling': 1724, 'callers.': 1725, '*9': 1726, 'co': 1727, 'searching': 1728, 'sunday': 1729, 'naughty': 1730, 'i‘m': 1731, 'stock': 1732, 'eating': 1733, 'hello!': 1734, 'nigeria.': 1735, 'tyler': 1736, 'hospital.': 1737, 'weak': 1738, 'ride': 1739, 'red': 1740, 'cinema': 1741, 'situation': 1742, 'customer,': 1743, 'review': 1744, 'pain.': 1745, 'pleasure': 1746, '530': 1747, 'see.': 1748, 'changed': 1749, 'page': 1750, 'happened?': 1751, 'cabin': 1752, \"!!''.\": 1753, 'apartment.': 1754, 'informed': 1755, '2004': 1756, 'voda': 1757, 'quoting': 1758, 'app': 1759, \"shouldn't\": 1760, '82277.': 1761, 'locations': 1762, 'rooms': 1763, 'mail.': 1764, 'replied': 1765, 'text?': 1766, 'ltd': 1767, 'reply...': 1768, 'boy?': 1769, 'arrange': 1770, 'happy.': 1771, 'her:': 1772, 'content.': 1773, 'menu': 1774, 'discuss': 1775, 'can.': 1776, 'oredi': 1777, 'straight': 1778, 'connection': 1779, 'semester.': 1780, 'system': 1781, 'appreciate': 1782, 'soon?': 1783, 'free,': 1784, 'argument': 1785, 'person.': 1786, 'fix': 1787, 'cal': 1788, 'back,': 1789, 'handset?': 1790, 'liao.': 1791, 'singles': 1792, 'quality': 1793, 'ended': 1794, 'ok..': 1795, 'please.': 1796, 'high': 1797, 'selection': 1798, 'babes': 1799, \"aren't\": 1800, \"he'll\": 1801, 'yoga': 1802, 'december': 1803, '11mths+?': 1804, 'hey...': 1805, 'ppl': 1806, 'rcvd.': 1807, 'surfing': 1808, 'basically': 1809, 'cc:': 1810, 'saturday.': 1811, 'air': 1812, 'offer!': 1813, 'sonyericsson': 1814, 'orange.': 1815, 'geeee': 1816, \"did't\": 1817, 'happening': 1818, '*sighs*': 1819, 'guide': 1820, 'late...': 1821, 'dinner?': 1822, 'pilates': 1823, 'current': 1824, 'yan': 1825, 'jiu': 1826, 'competition': 1827, 'heart.': 1828, 'pobox36504w45wq': 1829, 'contacted': 1830, \"she'll\": 1831, 'hv': 1832, 'respond': 1833, 'vary': 1834, 'ticket': 1835, 'welcome.': 1836, 'woman': 1837, 'gives': 1838, 'nothing.': 1839, 'charges': 1840, 'moan': 1841, 'fb': 1842, 'activate': 1843, 'meh...': 1844, 'some1': 1845, 'house?': 1846, 'character': 1847, '8.': 1848, 'tat': 1849, 'pin': 1850, 'sub.': 1851, 'unsub': 1852, 'fingers': 1853, 'returns': 1854, 'english': 1855, '2mrw': 1856, 'scream': 1857, 'clean': 1858, 'yet...': 1859, 'jazz': 1860, \"t's&c's\": 1861, 'present': 1862, 'euro2004': 1863, 'results': 1864, 'day\"': 1865, 'shuhui': 1866, 'also.': 1867, 'snow.': 1868, 'weather': 1869, 'drinks': 1870, 'paid': 1871, 'forwarded': 1872, 'before.': 1873, 'listening': 1874, 'email.': 1875, 'hella': 1876, 'evng': 1877, 'fetch': 1878, 'belly': 1879, 'again?': 1880, 'dey': 1881, \"we've\": 1882, 'realy': 1883, 'yest': 1884, 'mah': 1885, 'tis': 1886, 'damn': 1887, '\"hi': 1888, 'brother.': 1889, 'hmmm': 1890, 'living': 1891, 'polyphonic': 1892, 'off.': 1893, 'pobox84,': 1894, 'bag': 1895, 'www.comuk.net': 1896, 'zed': 1897, 'five': 1898, 'mother': 1899, 'playing': 1900, 'sn': 1901, 'hai': 1902, 'office.': 1903, 'cds': 1904, 'hello.': 1905, 'midnight': 1906, 'sup': 1907, 'exactly': 1908, 'ym': 1909, 'pizza': 1910, '£10,000': 1911, '08718720201': 1912, 'heavy': 1913, 'brand': 1914, 'then,': 1915, 'nxt': 1916, 'videophones': 1917, 'videochat': 1918, 'mates,': 1919, 'java': 1920, 'dload': 1921, 'music,': 1922, 'noline': 1923, 'rentl.': 1924, 'dropped': 1925, 'yun': 1926, 'love..': 1927, 'water': 1928, 'do,': 1929, 'awake': 1930, 'me!': 1931, 'hospital': 1932, 'hiya': 1933, 'flower': 1934, 'local': 1935, 'revealed.': 1936, 'regards': 1937, 'phone?': 1938, 'p': 1939, 'receipt': 1940, 'italian': 1941, 'over.': 1942, 'paper': 1943, 'cute': 1944, 'adult': 1945, 'horrible': 1946, 'goodmorning,': 1947, 'mite': 1948, 'rite?': 1949, 'gal.': 1950, 'honey': 1951, 'chikku,': 1952, 'leh': 1953, 'broke': 1954, 'tone,': 1955, 'original': 1956, 'go.': 1957, 'much,': 1958, 'luck': 1959, 'way?': 1960, 'arrested': 1961, 'fantasies': 1962, '1)': 1963, '2)': 1964, 'cafe': 1965, 'tells': 1966, 'totally': 1967, 'rem': 1968, 'idea': 1969, 'optout': 1970, '2nite?': 1971, 'bought': 1972, 'asap!': 1973, 'google': 1974, 'messages.': 1975, 'aint': 1976, 'centre': 1977, 'directly': 1978, 'airport': 1979, 'auction.': 1980, 'da:)': 1981, 'instead': 1982, 'laugh': 1983, 'ah,': 1984, 'eerie': 1985, 'india': 1986, 'in,': 1987, 'waking': 1988, 'married': 1989, 'bold': 1990, 'ran': 1991, 'hook': 1992, 'bin': 1993, 'social': 1994, 'lmao': 1995, 'selling': 1996, '(std': 1997, 'address?': 1998, '#': 1999, '|': 2000, 'hate': 2001, 'forever': 2002, '\"what': 2003, 'training': 2004, 'etc.': 2005, 'ge': 2006, 'oh,': 2007, 'inclusive': 2008, 'armand': 2009, 'looked': 2010, 'easy.': 2011, 'expecting': 2012, \"b'day.\": 2013, \"did'nt\": 2014, 'colleagues': 2015, \"said,''\": 2016, \"''ok'',\": 2017, 'mood.': 2018, 'minuts': 2019, 'latr': 2020, 'cake...n': 2021, 'funny': 2022, 'unable': 2023, 'remind': 2024, 'minute.': 2025, 'worse': 2026, 'fun.': 2027, 'whether': 2028, 'spook': 2029, 'fantasy': 2030, 'sky': 2031, 'police': 2032, 'waste': 2033, 'so,': 2034, 'plenty': 2035, 'deliver': 2036, 'amount': 2037, 'studying': 2038, 'behind': 2039, 'amazing': 2040, 'hr': 2041, 'hrs': 2042, 'aha.': 2043, 'feb': 2044, 'ignore': 2045, 'mon': 2046, 'cover': 2047, 'internet': 2048, '....': 2049, 'phone!': 2050, \"wouldn't\": 2051, 'lik': 2052, 'asks': 2053, 'hw': 2054, '3510i': 2055, 'won!': 2056, '£400': 2057, 'works': 2058, 'fa': 2059, 'tkts': 2060, '87121': 2061, \"week's\": 2062, 'six': 2063, '87575.': 2064, 'times.': 2065, 'seriously': 2066, 'sucks.': 2067, \"mom's\": 2068, 'like?': 2069, 'subscription': 2070, 'am.': 2071, 'ac': 2072, 'prize,': 2073, 'end.': 2074, 'network.': 2075, 'becoz': 2076, 'anymore.': 2077, 'truly': 2078, 'scared': 2079, 'mah.': 2080, 'too,': 2081, '(flights': 2082, 'inc)': 2083, '786': 2084, 'unredeemed': 2085, 'bother': 2086, 'girl.': 2087, 'q!': 2088, 'country': 2089, 'ansr': 2090, 'sp:tyrone': 2091, 'laid': 2092, 'largest': 2093, 'ec2a.': 2094, 'befor': 2095, 'activities': 2096, 'biggest': 2097, 'us?': 2098, 'netcollex': 2099, 'begin': 2100, 'qatar': 2101, 'deleted': 2102, 'done,': 2103, 'work?': 2104, 'happy?': 2105, 'points': 2106, 'bloody': 2107, 'hi!': 2108, 'v.': 2109, \"we'd\": 2110, '0808': 2111, '145': 2112, '4742': 2113, '9am-11pm': 2114, 'radio': 2115, 'first.': 2116, 'k...': 2117, 'cost.': 2118, 'bucks': 2119, 'transaction': 2120, 'cannot': 2121, 'shoot': 2122, 'gt': 2123, 'files': 2124, '2optout': 2125, 'partner': 2126, 'followed': 2127, 'g.': 2128, 'teaches': 2129, 'cross': 2130, 'road': 2131, 'right.': 2132, 'sam': 2133, 'wins': 2134, 'argue': 2135, 'on.': 2136, 'better.': 2137, 'today,': 2138, 'goodnight': 2139, 'www.ldew.com1win150ppmx3age16': 2140, 'bcums': 2141, 'seriously..': 2142, 'childish': 2143, 'affection,': 2144, 'luv!..': 2145, 'kettoda': 2146, 'manda...': 2147, 'expect': 2148, 'mmm': 2149, 'camcorder?': 2150, '25': 2151, 'club:': 2152, 'rays': 2153, 'bay.': 2154, 'won.': 2155, 'questions.': 2156, 'bf': 2157, 'coming.': 2158, 'passed': 2159, 'throw': 2160, 'working.': 2161, 'accidentally': 2162, 'def': 2163, 'dates': 2164, 'hanging': 2165, 'belovd': 2166, 'afraid': 2167, '08002986906': 2168, 'cud': 2169, 'waitin': 2170, 'movie.': 2171, 'something.': 2172, 'all.': 2173, 'then!': 2174, '1000s': 2175, 'interested': 2176, 'row/w1j6hl': 2177, 'work,': 2178, 'chikku': 2179, '1000': 2180, 'further': 2181, 'get?': 2182, 'project.': 2183, 'body': 2184, 'relax.': 2185, '11mths': 2186, 'intro': 2187, 'pictures': 2188, 'india.': 2189, 'help?': 2190, 'tree': 2191, 'missing*': 2192, '=d': 2193, 'alright,': 2194, 'logo': 2195, 'else?': 2196, 'today..': 2197, 'fifteen': 2198, '3mins': 2199, 'wc1n3xx': 2200, '50': 2201, '&gt;:(': 2202, 'jen': 2203, 'xxx\"': 2204, 'purpose': 2205, 'tenants': 2206, \"'help'\": 2207, 'ure': 2208, 'reasons': 2209, 'opt-out': 2210, 'receiving': 2211, 'cw25wx': 2212, 'll': 2213, '8th': 2214, 'thing...': 2215, 'dry': 2216, 'center': 2217, 'fighting': 2218, 'out?': 2219, 'bringing': 2220, 'jada': 2221, 'kusruthi': 2222, 'spl': 2223, 'matured': 2224, 'stylish': 2225, 'reply..': 2226, 'credits': 2227, 'yes!': 2228, 'lady': 2229, 'guys.': 2230, 'fat': 2231, 'da,': 2232, 'quote': 2233, 'losing': 2234, 'btw': 2235, 'three': 2236, 'i‘ll': 2237, 'essential': 2238, 'one...': 2239, 'fast...': 2240, 'already,': 2241, 'whatever,': 2242, '*smiles*': 2243, 'lab': 2244, 'claim,': 2245, 'yogasana': 2246, 'lessons': 2247, 'grand': 2248, 'announcement.': 2249, '542': 2250, 'stopped': 2251, 'indian': 2252, 'ladies': 2253, 'off!': 2254, 'daily.': 2255, 'uncles': 2256, 'holder,': 2257, 'offer,': 2258, 'time...': 2259, 'thursday': 2260, 'temple': 2261, 'bet': 2262, 'drug': 2263, 'earth': 2264, 'sense': 2265, ';)': 2266, 'evening!': 2267, 'ho': 2268, 'seem': 2269, '<forwarded': 2270, 'purchase': 2271, 'height': 2272, '10am-7pm': 2273, 'assume': 2274, 'today...': 2275, 'twice': 2276, 'loyalty': 2277, '£10': 2278, 'faster': 2279, 'about.': 2280, 'princess.': 2281, '£3': 2282, 'advance..': 2283, 'meetin': 2284, 'apparently': 2285, 'row': 2286, 'sing': 2287, 'happiness.': 2288, 'door': 2289, 'week,': 2290, 'enjoyed': 2291, 'chance!': 2292, 'm263uz.': 2293, \"ain't\": 2294, 'model': 2295, 'ache': 2296, 'credits,': 2297, 'login=': 2298, '3qxj9': 2299, '9ae': 2300, 'reveal': 2301, 'cust': 2302, '80062': 2303, 'enjoy!': 2304, 'wed': 2305, 'ibiza': 2306, 'ppm': 2307, 'meanwhile': 2308, 'first?': 2309, 'vip': 2310, 'records': 2311, 'birds': 2312, 'ta': 2313, 'played': 2314, 'dead': 2315, 'derek': 2316, 'pig': 2317, 'addicted': 2318, 'ma': 2319, 'school.': 2320, 'attend': 2321, 'ate': 2322, 'acc': 2323, 'mo': 2324, 'wear': 2325, 'places': 2326, 'photos': 2327, 'gravity..': 2328, 'carefully:': 2329, 'bowl': 2330, 'site': 2331, 'me.i': 2332, 'ad': 2333, '*loving': 2334, 'j': 2335, 'is?': 2336, '150p/min': 2337, 'raise': 2338, 'loverboy': 2339, '\"a': 2340, 'fool': 2341, 'who?': 2342, 'xchat.': 2343, 'na': 2344, 'vijay': 2345, '150ppm.': 2346, 'doctor.': 2347, 'ans.': 2348, 'uni': 2349, 'o2': 2350, 'aiyar': 2351, '\"oh': 2352, 'gal': 2353, 'station': 2354, 'rally': 2355, 'hair.': 2356, '£3/wk': 2357, 'credited': 2358, 'delivered': 2359, 'know,': 2360, 'txtin': 2361, '150p/tone.': 2362, '4info': 2363, 'no!': 2364, 'chinese': 2365, 'songs': 2366, 'cbe': 2367, 'boo': 2368, 'cash.': 2369, 'exact': 2370, 'thts': 2371, 'ho.': 2372, 'www.ringtones.co.uk,': 2373, '3gbp': 2374, 'bed,': 2375, 'nite...': 2376, '4u': 2377, 'blackberry': 2378, 'do?': 2379, 'moji': 2380, 'alright.': 2381, 'fill': 2382, '1/2': 2383, 'linerental': 2384, 'yes..': 2385, '4get': 2386, 'urn': 2387, 'gee...': 2388, 'moon': 2389, '150p/msgrcvdhg/suite342/2lands/row/w1j6hl': 2390, 'exams': 2391, 'sale': 2392, 've': 2393, 'aiya': 2394, 'bright': 2395, 'pod': 2396, '02/06/03!': 2397, 'wonders': 2398, '7th': 2399, '6th': 2400, '5th': 2401, 'personality': 2402, '3rd': 2403, '\"ur': 2404, 'friendship\"...': 2405, 'purity': 2406, 'message..its': 2407, 'slave': 2408, 'god.': 2409, 'total': 2410, 'file': 2411, 'live.': 2412, '7250i.': 2413, 'row/w1jhl': 2414, 'yuo': 2415, 'tihs': 2416, 'costs': 2417, 'whom': 2418, 'morning?': 2419, 'laughing': 2420, '250': 2421, 'brought': 2422, 'jst': 2423, 'l8r.': 2424, 'remain': 2425, 'doctor': 2426, 'ordered': 2427, 'earlier.': 2428, 'fren': 2429, '60p/min.': 2430, 'connect': 2431, 'leh?': 2432, 'soon...': 2433, 'everyone.': 2434, 'john.': 2435, 'father.': 2436, 'arcade': 2437, 'fills': 2438, 'gaps': 2439, 'takin': 2440, 'answering': 2441, 'aiyo': 2442, 'noe...': 2443, 'beer': 2444, 'jess': 2445, 'dirty': 2446, 'man.': 2447, 'upto': 2448, '08001950382': 2449, 'slowly.?': 2450, 'god,i': 2451, 'you,clean': 2452, 'blood.send': 2453, 'it,pls,pls': 2454, 'else.': 2455, 'smile*': 2456, 'season': 2457, 'village': 2458, 'cleaning': 2459, 'done!': 2460, 'cat': 2461, 'hip': 2462, 'msg*': 2463, '87239': 2464, 'tea': 2465, 'num': 2466, 'liao': 2467, 'raining': 2468, 'freefone': 2469, 'theatre': 2470, 'infernal': 2471, 'side.': 2472, 'yer': 2473, 'eng': 2474, 'box39822': 2475, 'w111wx': 2476, 'problems': 2477, 'subs': 2478, 'services.': 2479, 'parents,': 2480, 'kidz,': 2481, 'colleagues.': 2482, 'screaming..': 2483, 'sofa..': 2484, 'naked...!': 2485, 'dinner.': 2486, 'wednesday': 2487, 'ntwk': 2488, 's,': 2489, 'pix': 2490, 'alrite': 2491, 'letters': 2492, 'calls.': 2493, 'football': 2494, 'polys': 2495, 'energy\"': 2496, 'izzit': 2497, 'lei': 2498, 'rite': 2499, 'uk.': 2500, 'home,': 2501, 'tuesday': 2502, 'solve': 2503, 'key': 2504, 'released': 2505, 'advice': 2506, 'bx420.': 2507, 'ip4.': 2508, '5we.': 2509, 'contract': 2510, 'asleep': 2511, 'cancer.': 2512, 'spending': 2513, 'sport': 2514, ';_;': 2515, 'facebook': 2516, 'house-maid': 2517, 'murderer,': 2518, 'january..': 2519, 'public': 2520, 'govt.instituitions': 2521, 'closed,including': 2522, 'dare': 2523, 'tick,': 2524, 'hours.': 2525, 'iz': 2526, 'handle': 2527, 'version:': 2528, 'tariffs.': 2529, 'hopefully': 2530, 'inc': 2531, 'planned': 2532, 'grl:': 2533, '09061221066': 2534, 'fromm': 2535, '28': 2536, 'insurance.': 2537, 'basic': 2538, 'yup.': 2539, 'outta': 2540, 'inform': 2541, 'voice.': 2542, 'issues': 2543, 'x\"': 2544, 'ar?': 2545, 'customer.': 2546, 'doc': 2547, 'good!': 2548, 'loss': 2549, 'reward': 2550, 'santa': 2551, 'malaria.': 2552, 'step': 2553, 'joking': 2554, '21st': 2555, '2005.': 2556, 'say...': 2557, 'tb': 2558, \"'melle\": 2559, 'melle': 2560, '(oru': 2561, 'minnaminunginte': 2562, 'nurungu': 2563, \"vettam)'\": 2564, 'reward!': 2565, 'more?': 2566, 'tonight,': 2567, 'membership': 2568, 'spell': 2569, 'team': 2570, 'str': 2571, 'tho.': 2572, 'worried.': 2573, 'turn': 2574, 'frying': 2575, 'child': 2576, 'caught': 2577, '2!': 2578, 'fear': 2579, 'xuhui': 2580, 'letter': 2581, 'go?': 2582, 'invite': 2583, 'yummy': 2584, 'calls..messages..missed': 2585, 'gram': 2586, 'runs': 2587, 'realized': 2588, 'seemed': 2589, '\"the': 2590, 'end?': 2591, '&lt;url&gt;': 2592, '09061209465': 2593, 'suprman': 2594, 'v,': 2595, 'matrix3,': 2596, 'starwars3,': 2597, 'bx420-ip4-5we.': 2598, '150pm.': 2599, 'meeting.': 2600, 'burger': 2601, 'joke.': 2602, 'roommates': 2603, 'dresser': 2604, 'advise': 2605, 'recent': 2606, '£1500': 2607, 'valuable': 2608, 'plane': 2609, 'machan.': 2610, 'gentleman': 2611, 'dignity': 2612, 'respect.': 2613, 'sum1': 2614, 'appointment': 2615, 'buy.': 2616, 'right!': 2617, 'boston': 2618, 'vava': 2619, 'considering': 2620, 'sentence': 2621, 'anyway,': 2622, 'tt': 2623, 'anythin': 2624, '(18+)': 2625, 'food.': 2626, '45239': 2627, \"ü'll\": 2628, \"hasn't\": 2629, 'dear,': 2630, 'question.': 2631, 'hardcore': 2632, 'nice...': 2633, 'are.': 2634, 'dot': 2635, 'female': 2636, 'birla': 2637, 'soft': 2638, 'interview': 2639, 'wap.': 2640, 'spanish': 2641, 'maneesha': 2642, 'satisfied': 2643, 'toll': 2644, 'studying.': 2645, 'anyways': 2646, 'mummy': 2647, 'finishes': 2648, 'unique': 2649, 'enough?': 2650, 'touch.': 2651, 'itself.': 2652, 'suggest': 2653, 'settled': 2654, 'at?': 2655, 'itself': 2656, 'ready!': 2657, '2004,': 2658, 'go!': 2659, '89545': 2660, 'www.4-tc.biz': 2661, '087187262701.50gbp/mtmsg18': 2662, 'career': 2663, 'road.': 2664, 'flirt': 2665, 'pence': 2666, 'closer': 2667, 'theory:': 2668, 'situation,': 2669, 'loses': 2670, 'just..': 2671, 'correct.!': 2672, 'tomarrow': 2673, 'avent': 2674, 'website.': 2675, 'slippers': 2676, '125gift': 2677, 'ranjith': 2678, '5min': 2679, 'shipping': 2680, 'parked': 2681, '150pm': 2682, 'sorting': 2683, 'genuine': 2684, 'info:www.100percent-real.com': 2685, 'done?': 2686, 'handed': 2687, 'anybody': 2688, 'friends,': 2689, 'him?': 2690, 'cam': 2691, 'buzy': 2692, 'upgrade': 2693, 'loyalty.': 2694, '0845': 2695, 'tease': 2696, 'meal': 2697, 'newest': 2698, 'fit': 2699, 'day..u': 2700, 'as?': 2701, 'dear1': 2702, 'best1': 2703, 'clos1': 2704, 'lvblefrnd': 2705, 'jstfrnd': 2706, 'cutefrnd': 2707, 'lifpartnr': 2708, 'swtheart': 2709, 'bstfrnd': 2710, 'enemy': 2711, 'smart': 2712, 'm26': 2713, '16+.': 2714, \"friend's\": 2715, 'gona': 2716, 'germany': 2717, 'report': 2718, '83600': 2719, 'sleeping..and': 2720, 'lot.': 2721, 'cleared': 2722, '1.50': 2723, 'slap': 2724, 'ago.': 2725, 'remembered': 2726, 'insurance': 2727, 'min..': 2728, 'ptbo': 2729, 'slow.': 2730, '6months': 2731, '4mths': 2732, 'mobilesdirect': 2733, '08000938767': 2734, 'or2stoptxt': 2735, 'now..': 2736, 'shut': 2737, 'business': 2738, 'picture': 2739, 'quickly': 2740, '87131': 2741, 'cream': 2742, 'yep,': 2743, 'skip': 2744, 'one,': 2745, 'names': 2746, 'aathi..where': 2747, 'bmw': 2748, 'urgently..its': 2749, 'urgent.but': 2750, 'shortage': 2751, 'lacs.there': 2752, 'source': 2753, 'arng': 2754, 'amt.': 2755, 'lacs..thats': 2756, 'hmm.': 2757, '£75,000.': 2758, 'homeowners': 2759, 'previously': 2760, 'refused?': 2761, '1956669': 2762, 'intelligent': 2763, 'result': 2764, 'ttyl': 2765, 'believe.': 2766, 'doggy': 2767, 'fave': 2768, 'company.': 2769, 'dave': 2770, '#5000': 2771, 'flat': 2772, 'transfered': 2773, 'dollars': 2774, 'banks': 2775, 'wise': 2776, 'aathi..love': 2777, 'lot..': 2778, 'sec': 2779, 'nope...': 2780, 'confirm.': 2781, 'fightng': 2782, 'dificult': 2783, 'lose.': 2784, 'fish': 2785, '£1450': 2786, 't&cs/stop': 2787, 'fees': 2788, \"prabha..i'm\": 2789, 'soryda..realy..frm': 2790, 'sory': 2791, '83355!': 2792, 'ibhltd': 2793, 'ldnw15h': 2794, 'cha': 2795, 'booking': 2796, 'behave': 2797, 'box95qu': 2798, '08717898035.': 2799, 'pg': 2800, 's.i.m.': 2801, 'today-sunday..sunday': 2802, 'holiday..so': 2803, 'work..': 2804, 'malaria': 2805, 'love!': 2806, 'passionate': 2807, 'ummmmmaah': 2808, 'heart..': 2809, 'age16': 2810, 'mine.': 2811, 'generally': 2812, 'blood': 2813, 'weight.': 2814, 'it‘s': 2815, 'that‘s': 2816, 'likely': 2817, 'pics.': 2818, 'office..': 2819, 'american': 2820, 'callin': 2821, 'marriage': 2822, 'bite': 2823, 'izzit?': 2824, 'headache': 2825, 'meeting,': 2826, '08715705022,': 2827, '1x150p/wk': 2828, 'lines': 2829, \"mum's\": 2830, 'la...': 2831, 'nichols': 2832, 'game.': 2833, 'answers': 2834, 'often': 2835, 'up...': 2836, 'bud': 2837, 'market': 2838, 'postcode': 2839, 'smile.': 2840, 'login': 2841, 'shower,': 2842, 'baby?': 2843, 'we‘re': 2844, 'cartoon,': 2845, 'church..': 2846, 'town?': 2847, 'paper,': 2848, 'prepare': 2849, 'escape': 2850, 'lonely': 2851, 'textoperator': 2852, 'building': 2853, 'thanx.': 2854, 'ah': 2855, 'msg..': 2856, 'ws': 2857, 'students.': 2858, 'weird': 2859, 'u!u': 2860, 'max£7.': 2861, 'far.': 2862, 'yay!': 2863, 'tonite': 2864, 'gals': 2865, 'shouted': 2866, 'shorter': 2867, 'ttyl!': 2868, 'subscribed': 2869, 'spoken': 2870, 'realize': 2871, 'out...': 2872, '\"x\"': 2873, 'mas': 2874, 'city': 2875, 'skilgme.': 2876, 'somethin': 2877, 'get.': 2878, 'here!': 2879, 'diff': 2880, 'perfect': 2881, 'subpoly': 2882, 'bein': 2883, 'jan': 2884, 'pieces': 2885, 'appt': 2886, 'fault': 2887, 'listen.': 2888, 'mates.': 2889, '3d': 2890, 'warm.': 2891, 'hint': 2892, 'again,': 2893, 'responding': 2894, '2u': 2895, '*teasing': 2896, 'stop,': 2897, '08702840625.comuk.': 2898, '220-cm2': 2899, 'alfie': 2900, \"moon's\": 2901, 'mob.': 2902, 'm8s.': 2903, 'nokias': 2904, '08701417012': 2905, 'profit': 2906, 'hahaha..use': 2907, 'brain': 2908, 'given': 2909, 'oh!': 2910, 'successful': 2911, \"month's\": 2912, '2morrow': 2913, 'family.': 2914, '434': 2915, 'sk3': 2916, '8wp': 2917, 'xavier': 2918, \"jay's\": 2919, 'shit.': 2920, 'stomach': 2921, 'eat.': 2922, 'luv!': 2923, 'spk': 2924, 'xxx.\"': 2925, 'returned': 2926, 'supply': 2927, 'walls': 2928, 'rental?': 2929, 'travel': 2930, 'liverpool': 2931, 'for.': 2932, 'see,': 2933, 'lead': 2934, 'wanting': 2935, \"'til\": 2936, 'y.': 2937, 'wife.how': 2938, '\"be': 2939, 'opportunity': 2940, 'outstanding': 2941, 'greet': 2942, 'white': 2943, 'january': 2944, 'male': 2945, '(10p/min)': 2946, 'home..': 2947, 'moments': 2948, 'campus': 2949, 'expensive': 2950, '114/14': 2951, 'tcr/w1': 2952, 'come?': 2953, 'night...': 2954, 'magical': 2955, 'valid12hrs': 2956, 'come.': 2957, 'chicken': 2958, 'potential': 2959, '09063458130': 2960, 'polyph': 2961, 'fuckin': 2962, 'min:)': 2963, 'anyone.': 2964, 'exe': 2965, 'bored...': 2966, 'teasing': 2967, 'fancies': 2968, 'foreign': 2969, 'stamps': 2970, 'country.': 2971, 'lecture': 2972, 'game,': 2973, '6,': 2974, 'concentrate': 2975, 'walked': 2976, 'euro': 2977, 'job!': 2978, 'something,': 2979, 'to?': 2980, '84025': 2981, 'technical': 2982, 'kerala': 2983, 'eve.': 2984, 'juicy': 2985, 'plz.': 2986, 'dearer': 2987, 'dem!!!': 2988, 'evn': 2989, 'alwys': 2990, '09061790121': 2991, 'subscriber': 2992, 'birthday?': 2993, 'ne': 2994, 'though,': 2995, 'shirt': 2996, 'user.': 2997, 'speed': 2998, 'ok.ok': 2999, 'ok..then..whats': 3000, 'catching': 3001, 'whos': 3002, 'other!': 3003, 'hg/suite342/2lands/row/w1j6hl': 3004, 'ldn.': 3005, 'bus.': 3006, 'nw': 3007, 'da..': 3008, 'done...': 3009, 'shame': 3010, 'pocketbabe.co.uk': 3011, 'voicemail.': 3012, 'rs.': 3013, 'na-tuition..': 3014, 'choice': 3015, 'claim.': 3016, 'strong': 3017, 'bday': 3018, 'april': 3019, 'score': 3020, '87021.': 3021, 'apps': 3022, 'anti': 3023, 'various': 3024, '08712405020.': 3025, 'morn': 3026, 'too!': 3027, 'docs': 3028, 'havin': 3029, 'rang': 3030, 'explain': 3031, 'executive': 3032, \"c's\": 3033, 'green': 3034, 'express': 3035, 'tour': 3036, 'birthday...': 3037, 'true...': 3038, 'fran': 3039, 'software': 3040, 'among': 3041, 'cares': 3042, 'sweet,': 3043, 'chill': 3044, 'chillin': 3045, 'saucy': 3046, 'nigeria': 3047, 'pple': 3048, 'like.': 3049, 'night!': 3050, 'dictionary': 3051, '3)cover': 3052, 'screen': 3053, 'hand,': 3054, '4)press': 3055, '5)gently': 3056, 'hand..': 3057, 'interesting..:)': 3058, 'upload': 3059, 'shot': 3060, 'storming': 3061, 'phne,': 3062, '\"hello\"': 3063, 'wt': 3064, 'meaning': 3065, 'hello??': 3066, 'girl..!': 3067, 'girl??': 3068, '\"margaret': 3069, 'hello\"': 3070, 'girlfrnd': 3071, 'grahmbell': 3072, 'invnted': 3073, 'telphone...': 3074, 'moral:one': 3075, 'girlfrnd...': 3076, 'h': 3077, '.@': 3078, 'popped': 3079, 'k.i': 3080, 'online,': 3081, 'shld': 3082, 'vote': 3083, 'goodnite': 3084, 'hungry.': 3085, 'arsenal': 3086, 'painful': 3087, 'everybody': 3088, 'sen': 3089, 'missin': 3090, 'arms': 3091, 'cardiff': 3092, 'addie': 3093, 'certainly': 3094, 'stupid.its': 3095, 'claire': 3096, '09066362231': 3097, '07xxxxxxxxx': 3098, 'down.': 3099, \"blake's\": 3100, 'lotr': 3101, 'job?': 3102, 'vomit': 3103, 'stars': 3104, 'karaoke': 3105, 'ron': 3106, 'day..': 3107, 'mr.': 3108, 'much?': 3109, 'ese': 3110, 'dreams..': 3111, 'bishan': 3112, 'buff': 3113, 'gift.': 3114, 'anything...': 3115, 'nyt...': 3116, 'money,': 3117, 'gang': 3118, 'excellent': 3119, 'finishing': 3120, 'doors': 3121, 'pissed': 3122, 'apartment': 3123, 'chasing': 3124, '&lt;3': 3125, 'blame': 3126, 'life!': 3127, 'hostel.': 3128, 'freezing': 3129, 'dude.': 3130, 'title': 3131, 'titles:': 3132, 'moby': 3133, '82242': 3134, 'throat': 3135, 'friends..': 3136, 'early...': 3137, 'action': 3138, 'monthly': 3139, 'sight,': 3140, 'sight..': 3141, 'maintain': 3142, 'ends..': 3143, 'okay...': 3144, 'cramps': 3145, 'received': 3146, 'nan': 3147, 'leaving?': 3148, ':-p': 3149, 'likes': 3150, 'dislikes': 3151, 'promises': 3152, '121': 3153, 'boys': 3154, 'left,': 3155, 'chosen': 3156, 'di': 3157, 'cruise': 3158, 'follow': 3159, 'free...': 3160, 'stuck': 3161, 'regarding': 3162, 'ha...': 3163, 'adore': 3164, '0': 3165, 'settings.': 3166, 'atlanta.': 3167, 'fingers..?': 3168, 'love..!': 3169, 'arun': 3170, 'winner!': 3171, 'soon,': 3172, 'eye': 3173, 'off,': 3174, 'die...': 3175, 'package': 3176, 'wet': 3177, 'norm': 3178, 'on!': 3179, 'toa': 3180, 'payoh': 3181, 'sleep,': 3182, 'can?': 3183, 'nearly': 3184, 'beyond': 3185, '18yrs': 3186, 'abta': 3187, 'lei.': 3188, 'well...': 3189, 'ipod.': 3190, '80182': 3191, '08452810073': 3192, 'ikea': 3193, 'cn': 3194, 'series': 3195, 'se': 3196, 'carry': 3197, 'avatar': 3198, 'constantly': 3199, 'honeybee': 3200, \"*i'm\": 3201, 'sweetest': 3202, 'world*': 3203, 'laughed': 3204, '*wait,u': 3205, 'havnt': 3206, 'moral:': 3207, 'crack': 3208, 'jokes!': 3209, 'gm+gn+ge+gn:)': 3210, 'about?': 3211, 'nvm': 3212, 'moms.': 3213, 'proof': 3214, 'provided': 3215, 'huh...': 3216, 'mon.': 3217, 'downloads': 3218, 'members': 3219, 'major': 3220, 'birth': 3221, 'everything.': 3222, 'news!': 3223, 'tscs': 3224, 'lie': 3225, 'boost': 3226, 'gym?': 3227, 'pack': 3228, 'including': 3229, '10p/min': 3230, 'rush': 3231, 'nothing,': 3232, '***********': 3233, 'box97n7qp,': 3234, 'face.': 3235, 'giv': 3236, 'normally': 3237, 'rich': 3238, 'm8?': 3239, 'yor': 3240, 'jason': 3241, 'med': 3242, 'mad': 3243, 'argh': 3244, 'term': 3245, 'tessy..pls': 3246, 'favor.': 3247, 'nimya..pls': 3248, 'shijas': 3249, 'hiya,': 3250, 'mins.': 3251, 'raji..pls': 3252, 'favour.': 3253, 'nimya.': 3254, 'legs': 3255, 'distance': 3256, 'freak': 3257, '£4.50.': 3258, 'vikky': 3259, 'temp': 3260, 'display': 3261, 'bathing': 3262, 'management': 3263, 'regular': 3264, '2nite': 3265, 'u4': 3266, 'rude': 3267, 'private': 3268, '88066': 3269, 'coming?': 3270, 'bored.': 3271, 'call,': 3272, 'wkend': 3273, 'alert.': 3274, 'sp': 3275, 'details.': 3276, 'old.': 3277, 'forgot.': 3278, 'iscoming': 3279, 'cheers': 3280, 'ringtones': 3281, '80082': 3282, 'halloween': 3283, 'easier': 3284, 'wn': 3285, 'saved': 3286, 'instantly': 3287, 'drinking': 3288, 'obviously': 3289, 'pussy': 3290, 'message..no': 3291, 'responce..what': 3292, 'happend?': 3293, 'sugar': 3294, 'okey': 3295, '1,his': 3296, 'police.': 3297, '2,police': 3298, 'questioned': 3299, '3,wife:': 3300, 'sir,i': 3301, 'sleeping,': 3302, '4.cook:': 3303, 'cooking.': 3304, '5.gardener:': 3305, 'vegetables.': 3306, '6.house-maid:': 3307, '7.children:': 3308, 'play.': 3309, '8.neighbour:': 3310, 'marriage.': 3311, 'murderer': 3312, 'immediately.': 3313, 'reason,': 3314, 'brilliant.': 3315, 'there...': 3316, 'settle': 3317, 'bloo': 3318, 'indians': 3319, 'citizen': 3320, 'random': 3321, 'nope.': 3322, 'ru': 3323, '09066612661': 3324, 'different.': 3325, 'greetings': 3326, 'dai': 3327, 'cars': 3328, 'er': 3329, 'violence': 3330, 'check.': 3331, 'friday.': 3332, 'timing.': 3333, 'death': 3334, 'usual..iam': 3335, 'well..:)': 3336, 'reality': 3337, 'year,': 3338, 'remains': 3339, 'bros': 3340, \"when's\": 3341, 'response': 3342, 'wednesday.': 3343, '*pouts*': 3344, '*stomps': 3345, 'feet*': 3346, 'sports': 3347, 'sept': 3348, 'u\"': 3349, 'uks': 3350, '2stoptxt': 3351, 'nah,': 3352, 'inches': 3353, 'office..understand?': 3354, 'ben': 3355, 'middle': 3356, 'g,': 3357, 'trip.': 3358, 'contents': 3359, 'cash,': 3360, 'wearing': 3361, 'strike': 3362, 'oso...': 3363, 'seat': 3364, 'boys.': 3365, 'porn': 3366, '50p': 3367, 'dress': 3368, 'sorry!': 3369, 'rd': 3370, 'tm': 3371, 'gary': 3372, 'history': 3373, 'bell': 3374, 'understood': 3375, 'changes': 3376, 'surprised': 3377, 'blow': 3378, 'knowing': 3379, 'well!': 3380, 'thurs': 3381, 'boy:': 3382, 'randomly': 3383, 'tape': 3384, 'lick': 3385, 'auto': 3386, 'died': 3387, '4.50.': 3388, 'me....': 3389, '\"its': 3390, 'asap': 3391, 'sofa': 3392, 'deliveredtomorrow?': 3393, '300': 3394, 'dreams,': 3395, 'smoking': 3396, 'in2': 3397, 'talk.': 3398, 'tuesday.': 3399, 'billed': 3400, 'ths': 3401, \"t's\": 3402, 'wedding': 3403, 'accident': 3404, 'wait?': 3405, 'frnds..': 3406, \"cann't\": 3407, 'symbol': 3408, 'prolly': 3409, 'celebrate': 3410, 'understanding': 3411, '200': 3412, 'mood': 3413, 'dubsack': 3414, 'macho': 3415, 'audition': 3416, 'fell': 3417, 'buns': 3418, 'know?': 3419, 'together...': 3420, 'gentle': 3421, 'affairs': 3422, 'mths': 3423, 'tho!': 3424, 'university': 3425, 'me!!': 3426, 'important.': 3427, 'enough.': 3428, 'tog': 3429, '*kiss*': 3430, 'haiz...': 3431, 'common': 3432, 'expensive.': 3433, 'previous': 3434, 'captain': 3435, 'eve?': 3436, \"dsn't\": 3437, 'suite': 3438, 'taunton': 3439, 'parking': 3440, ')': 3441, 'him,': 3442, 'reward.': 3443, 'comedy': 3444, 'é': 3445, 'car.': 3446, 'la': 3447, 'oni...': 3448, 'question(std': 3449, \"rate)t&c's\": 3450, \"08452810075over18's\": 3451, 'hor...': 3452, 'usf,': 3453, 'lives': 3454, 'back!': 3455, 'still?': 3456, 'ok!': 3457, 'std': 3458, 'send,': 3459, 'rcv': 3460, 'winner!!': 3461, 'receivea': 3462, '09061701461.': 3463, 'kl341.': 3464, '08002986030': 3465, 'anymore': 3466, 'k?': 3467, 'chances': 3468, 'cash!': 3469, '20,000': 3470, 'txt>': 3471, 'csh11': 3472, '150p/day,': 3473, '6days,': 3474, 'tsandcs': 3475, '£100,000': 3476, 'jackpot!': 3477, '81010': 3478, 'www.dbuk.net': 3479, 'lccltd': 3480, '4403ldnw1a7rw18': 3481, 'promise.': 3482, 'blessing': 3483, 'here:)': 3484, 'did.': 3485, 'scotland': 3486, 'pizza.': 3487, 'egg': 3488, 'sarcastic': 3489, 'cheers.': 3490, \"roommate's\": 3491, 'tomo.': 3492, 'anything!': 3493, 'mmmmmm': 3494, 'burns': 3495, 'fair': 3496, 'on?': 3497, 'hospitals': 3498, 'wow.': 3499, 'embarassed': 3500, 'give.': 3501, 'yesterday?': 3502, 'killing': 3503, 'iq': 3504, 'short.': 3505, '09066364589': 3506, '\"song': 3507, 'dedicated': 3508, 'day..\"': 3509, 'dedicate': 3510, 'eurodisinc': 3511, 'trav,': 3512, 'aco&entry41': 3513, '£1000.': 3514, '18+6*£1.50(morefrmmob.': 3515, 'shracomorsglsuplt)10,': 3516, 'ls1': 3517, '3aj': 3518, 'earn': 3519, 'later,': 3520, 'urgnt,': 3521, 'jacket': 3522, 'requests': 3523, 'coins': 3524, 'nitros.': 3525, 'ela': 3526, 'something!': 3527, 'sheets': 3528, 'pours': 3529, 'smiling!!': 3530, '169': 3531, '6031': 3532, '10am-9pm': 3533, 'collected.': 3534, '\"mix\"': 3535, '85069': 3536, 'verify.': 3537, 'usher': 3538, 'britney.': 3539, 'fml,': 3540, '5249,': 3541, 'mk17': 3542, '92h.': 3543, '450ppw': 3544, 'loans': 3545, 'hols': 3546, 'run.': 3547, 'four': 3548, 'animation': 3549, 'location': 3550, 'noun': 3551, 'research?': 3552, 'things.': 3553, 'gent!': 3554, '09064012160.': 3555, 'k52.': 3556, 'puttin': 3557, 'goodo!': 3558, 'tortilla': 3559, '07742676969': 3560, '08719180248': 3561, 'stuff,': 3562, 'over,': 3563, 'apologise.': 3564, 'sum': 3565, 'k..k:)how': 3566, 'algarve': 3567, 'mob?': 3568, '31p.msg@150p': 3569, 'lect...': 3570, 'thought:': 3571, 'occupy': 3572, 'staff': 3573, '08700621170150p': 3574, 'flowing': 3575, 'plaza': 3576, 'floor,': 3577, 'joy': 3578, '0871277810810': 3579, 'module': 3580, 'frnd,': 3581, 'avoid': 3582, 'beloved': 3583, ':)it': 3584, 'form:)clark': 3585, 'utter': 3586, 'waste.': 3587, 'address.': 3588, 'completed': 3589, 'stays': 3590, 'wishin': 3591, 'hamster': 3592, 'refilled': 3593, 'successfully': 3594, 'inr': 3595, 'keralacircle': 3596, 'prepaid': 3597, 'kr': 3598, 'ericsson': 3599, 'rewarding': 3600, 'heading': 3601, 'tired.': 3602, 'nights.': 3603, 'ah?sen': 3604, 'good..': 3605, 'ready.': 3606, 'prob.': 3607, 'os': 3608, 'repair': 3609, 'romantic': 3610, 'today!from': 3611, '£1': 3612, 'horo': 3613, 'star': 3614, 'sign,': 3615, 'e.': 3616, 'teacher': 3617, 'conducts': 3618, 'died,': 3619, 'yes:)here': 3620, 'place..': 3621, 'printed': 3622, '447801259231': 3623, '09058094597': 3624, 'shining': 3625, 'although': 3626, 'bat': 3627, 'innings.': 3628, 'drpd': 3629, 'deeraj': 3630, 'deepak': 3631, 'doing?how': 3632, 'necessarily': 3633, 'headin': 3634, 'jolt': 3635, 'suzy': 3636, 'networks': 3637, 'think?': 3638, 'naked': 3639, '69698': 3640, 'us.': 3641, 'yet,': 3642, 'mk45': 3643, '2wt': 3644, 'chart': 3645, 'mu,': 3646, '\"wen': 3647, \"guy's\": 3648, '2?': 3649, 'jenny': 3650, 'world:-)..': 3651, 'ge:-)..': 3652, 't-mobile': 3653, '021': 3654, 'cry...': 3655, 'grave': 3656, \"tomo?can't\": 3657, 'shocking': 3658, 'crash': 3659, 'blind': 3660, 'hide': 3661, 'thread': 3662, 'content,': 3663, 'sport,': 3664, 'funky': 3665, '82468': 3666, 'garage': 3667, 'lost.': 3668, 'tahan': 3669, 'anot...': 3670, 'lo': 3671, 'oso,': 3672, 'dude,': 3673, 'cake,': 3674, '*kisses*': 3675, 'lunch...': 3676, 'buses': 3677, 'bristol': 3678, 'da:)how': 3679, 'class?': 3680, 'record': 3681, 'women': 3682, 'minute!': 3683, '0844': 3684, '861': 3685, '85': 3686, '85.': 3687, 'prepayment.': 3688, 'access!': 3689, 'privacy': 3690, 'special!': 3691, 'lifetime!': 3692, 'before?': 3693, 'reading.': 3694, 'gudnite....tc...practice': 3695, 'num.': 3696, 'day.!': 3697, 'misbehaved': 3698, 'bcoz,': 3699, 'fault,': 3700, 'ish': 3701, 'wtf.': 3702, 'way!': 3703, 'cold.': 3704, 'status': 3705, 'breathe': 3706, 'worries.': 3707, 'update_now': 3708, 'recognise': 3709, 'hes': 3710, 'ovulation': 3711, 'sony,': 3712, 'phones.': 3713, 'call2optout/n9dx': 3714, 'licks': 3715, 'too?': 3716, 'gr8.': 3717, 'facebook.': 3718, 'met.': 3719, 'grace': 3720, 'chechi.': 3721, 'loxahatchee': 3722, 'burning': 3723, 'slightly': 3724, 'wld': 3725, 'message:some': 3726, 'sender:name': 3727, '*number': 3728, '*sent:date': 3729, '*missing': 3730, 'blah': 3731, 'box334sk38ch': 3732, 'whatsup': 3733, 'goal': 3734, '80086': 3735, 'www.txttowin.co.uk': 3736, 'minutes,': 3737, 'name1': 3738, 'name2': 3739, 'mobno': 3740, 'adam': 3741, '07123456789': 3742, 'yahoo!': 3743, 'txtno': 3744, 'ads': 3745, 'speaking': 3746, '3650': 3747, '09066382422': 3748, '300603': 3749, 'bcm4284': 3750, 'pongal?': 3751, 'dollars.': 3752, 'applebees': 3753, 'think.': 3754, 'yes..he': 3755, 'great..bhaji': 3756, 'cricketer': 3757, 'sachin': 3758, 'world:).very': 3759, 'oic...': 3760, 'doin?': 3761, 'place?': 3762, 'improve': 3763, 'si': 3764, 'oreo': 3765, 'beautiful,': 3766, 'bad.': 3767, 'decisions': 3768, 'coping': 3769, '0207': 3770, '153': 3771, '26th': 3772, 'bye': 3773, 'railway': 3774, 'yup,': 3775, '09061743806': 3776, 'tcs': 3777, 'box326': 3778, 'rate.': 3779, '9ja': 3780, 'broken': 3781, 'infront': 3782, 'tension': 3783, 'problem?': 3784, 'taste': 3785, 'conditions,': 3786, 'www.07781482378.com': 3787, 'quality.': 3788, 'trade': 3789, 'sorry,in': 3790, 'rec': 3791, '+123': 3792, '09050002311': 3793, 'b4280703.': 3794, '08718727868.': 3795, \"dat's\": 3796, 'hyde': 3797, 'anthony.': 3798, 'latest,': 3799, 'scrounge': 3800, 'slide': 3801, 'transport': 3802, 'definite': 3803, 'nos': 3804, 'fri.': 3805, 'ebay': 3806, 'pickle': 3807, 'tacos': 3808, '02/09/03!': 3809, 'christmas.': 3810, 'vouchers!': 3811, 'single?': 3812, 'conditions': 3813, '08718738001': 3814, 'big,': 3815, 'web': 3816, 'develop': 3817, 'ability': 3818, 'plan.': 3819, 'long,': 3820, 'cutting': 3821, 'cock': 3822, 'water,': 3823, 'reminding': 3824, 'owns': 3825, 'faggy': 3826, 'demand': 3827, 'fo': 3828, 'milk': 3829, 'loose': 3830, 'pan': 3831, 'o.': 3832, 'aiyo...': 3833, 'geeeee': 3834, 'oooh': 3835, 'of?': 3836, '?1,000': 3837, '?2,000': 3838, 'on,': 3839, '5..': 3840, 'claims': 3841, 'snake': 3842, 'dancing': 3843, 'early..': 3844, 'quit': 3845, 'den...': 3846, 'hardly': 3847, '80878.': 3848, 'www.txt-2-shop.com': 3849, '2000': 3850, '08712402050': 3851, 'close.': 3852, '10ppm.': 3853, 'ag': 3854, 'promo': 3855, '0825': 3856, 'exhausted': 3857, 'tsunamis': 3858, '2morow': 3859, 'soiree': 3860, 'ques-': 3861, 'suits': 3862, 'future.': 3863, 'leona': 3864, 'reaction': 3865, 'lesson...': 3866, 'officially': 3867, 'textbuddy': 3868, 'gaytextbuddy.com.': 3869, '4882': 3870, '09064019014': 3871, 'http://www.e-tlp.co.uk/expressoffer': 3872, 'kiss,': 3873, 'gorgeous': 3874, 'he!': 3875, 'wee': 3876, '.be': 3877, 'taken': 3878, 'trains': 3879, 'jolly': 3880, '40533': 3881, '31/10/04': 3882, 't&c:': 3883, 'rstm,': 3884, 'sw7': 3885, '3ss.': 3886, 'cool!': 3887, 'gentle.': 3888, 'panic': 3889, 'wait,': 3890, 'impatient': 3891, 'river': 3892, 'premium': 3893, 'sea,': 3894, 'lays': 3895, 'rock.': 3896, 'rock,': 3897, 'envelope.': 3898, 'envelope,': 3899, 'paper.': 3900, 'words...': 3901, 'later...': 3902, 'en': 3903, 'tone.': 3904, 'pa,': 3905, 'card.': 3906, 'awake?': 3907, 'sleeping.': 3908, 'lunch?': 3909, 'cochin': 3910, 'farm': 3911, '4d': 3912, 'sun.': 3913, 'number?': 3914, 'poop.': 3915, 'gpu': 3916, 'idea,': 3917, 'pub!': 3918, 'drivin...': 3919, 'confidence:': 3920, 'aeronautics': 3921, 'professors': 3922, 'calld': 3923, 'aeroplane.': 3924, 'hurried': 3925, 'plane..': 3926, 'move...': 3927, 'said:\"if': 3928, 'students,this': 3929, 'start........': 3930, 'datz': 3931, 'confidence..': 3932, 'timing': 3933, 'stress.': 3934, '£1250': 3935, '09071512433': 3936, '050703': 3937, 't&csbcm4235wc1n3xx.': 3938, 'callcost': 3939, 'mobilesvary.': 3940, 'ba': 3941, 'spring': 3942, 'appreciate.': 3943, 'offer:the': 3944, 'nokia6650': 3945, 'txtauction!': 3946, '81151': 3947, '4t&ctxt': 3948, '150p/mtmsg': 3949, 'attached': 3950, 'helpline': 3951, 'gist': 3952, '40': 3953, 'thousands': 3954, 'announcement': 3955, 'premier.': 3956, 'gimme': 3957, 'lip': 3958, 'spare': 3959, 'acting': 3960, 'flights': 3961, 'sat.': 3962, 'mt': 3963, '88039': 3964, 'tscs087147403231winawk!age16': 3965, '£1.50perwksub': 3966, 'inch': 3967, 'anywhere': 3968, 'moment.': 3969, 'minutes.': 3970, 'smokes': 3971, 'begging': 3972, '0578': 3973, 'opening': 3974, 'own.': 3975, 'word.': 3976, 'thot': 3977, '8077': 3978, 'cashto': 3979, '08000407165': 3980, 'getstop': 3981, '88222': 3982, 'quit.': 3983, 'bec': 3984, 'boytoy?': 3985, 'galileo': 3986, 'enjoyin': 3987, 'loveme': 3988, 'polys:': 3989, 'charity.': 3990, 'mail?': 3991, 'wonderful.': 3992, 'mojibiola': 3993, 'admirer.': 3994, '09065174042.': 3995, 'recd.': 3996, '07821230901': 3997, 'hol': 3998, 'ages': 3999, 'texts,': 4000, 'skyped': 4001, 'kz': 4002, 'sura,': 4003, 'ultimatum': 4004, 'countin': 4005, 'aburo.': 4006, 'dear...........': 4007, '08002888812': 4008, 'inconsiderate': 4009, 'nag': 4010, 'recession': 4011, 'hence': 4012, 'soo': 4013, '09066350750': 4014, '10,000': 4015, 'seconds': 4016, 'now.i': 4017, 'version': 4018, 'careful': 4019, 'lovejen': 4020, 'worlds': 4021, 'discreet': 4022, 'named': 4023, 'genius': 4024, 'two?': 4025, 'lotta': 4026, 'lately': 4027, 'virgin': 4028, 'mystery': 4029, 'www.smsco.net': 4030, 'approx': 4031, 'consider': 4032, 'peaceful': 4033, 'matter': 4034, '41685': 4035, '07/11/04': 4036, 'down?': 4037, 'cuddle': 4038, 'nap': 4039, 'shesil': 4040, 'drop,': 4041, '10k,': 4042, '5k,': 4043, 'voucher,': 4044, '09064011000.': 4045, 'cr01327bt': 4046, 'fixedline': 4047, 'castor?': 4048, '09058094565': 4049, 'downloaded': 4050, 'and,': 4051, 'ear': 4052, 'usb': 4053, 'flash': 4054, 'superb': 4055, 'thought-': 4056, 'nyc': 4057, 'several': 4058, 'taylor': 4059, 'worst': 4060, 'charles': 4061, 'themob': 4062, 'stores': 4063, 'sale!': 4064, 'cheaper,': 4065, '08709222922.': 4066, '1.5p/min': 4067, '7.8p/min': 4068, 'peak!': 4069, 'left.': 4070, 'pissed.': 4071, 'sweets': 4072, 'chip': 4073, 'reminder': 4074, 'msgs,': 4075, 'msging...': 4076, 'wrong,': 4077, \"don\\\\'t\": 4078, 'friends..!!': 4079, 'diet.': 4080, '88600': 4081, 'landline,': 4082, 'college?': 4083, 'bleh.': 4084, 'tons': 4085, 'safe.': 4086, 'in!': 4087, 'community': 4088, 'scores': 4089, 'application': 4090, 'research': 4091, 'joke': 4092, 'filthy': 4093, 'msg...': 4094, 'decision,': 4095, 'feeling.': 4096, 'simpler,': 4097, 'welp': 4098, 'time?': 4099, '09050001808': 4100, 'm95.': 4101, 'take?': 4102, 'menu.': 4103, 'necklace': 4104, 'racing': 4105, 'crap': 4106, 'borin': 4107, 'boring': 4108, 'pay.': 4109, 'salary': 4110, 'chocolate': 4111, 'days.he': 4112, 'talent.': 4113, 'reckon': 4114, 'fuck,': 4115, 'ubi': 4116, 'tech': 4117, 'ugh.': 4118, 'july': 4119, 'peace..': 4120, 'jesus..': 4121, 'blessed': 4122, 'xmas...': 4123, 'yetunde': 4124, 'aunts': 4125, 'been?': 4126, 'ü.': 4127, 'pub?': 4128, 'terrible': 4129, 'not...': 4130, 'fan...': 4131, 'matter?': 4132, 'id.': 4133, 'anniversary': 4134, 'what!': 4135, 'secretly': 4136, 'datebox1282essexcm61xn': 4137, 'pattern': 4138, 'plm': 4139, 'zoe': 4140, 'setting': 4141, 'filling': 4142, 'flirt,': 4143, 'edison': 4144, 'rightly': 4145, 'answer\"': 4146, 'speechless': 4147, 'viva..': 4148, 'gm,gn,ge,gnt:-)': 4149, 'roast': 4150, 'ls15hb': 4151, 'thing!': 4152, 'into:': 4153, '\"because': 4154, 'educational': 4155, 'here..\"': 4156, \"1000's\": 4157, 'flirting': 4158, 'bloke': 4159, 'serious?': 4160, 'kickoff!': 4161, '83222.': 4162, 'june': 4163, 'sells': 4164, 'monday!': 4165, 'april.': 4166, 'drunk!': 4167, 'sends': 4168, 'dat.': 4169, 'deciding': 4170, 'eastenders': 4171, 'quiz.': 4172, 'compare': 4173, 'herself': 4174, 'd=': 4175, 'violet': 4176, 'e=': 4177, 'tulip': 4178, 'f=': 4179, 'lily': 4180, 'wkent/150p16+': 4181, ':)voice': 4182, 'try.': 4183, 'area.': 4184, 'bitch': 4185, '09058091854': 4186, 'box385': 4187, 'm6': 4188, '6wu': 4189, '09050003091': 4190, 'c52.': 4191, 'gossip': 4192, 'clear': 4193, 'movies.': 4194, 'breath': 4195, 'her.i': 4196, 'cry': 4197, 'craziest': 4198, 'her.love': 4199, 'singing': 4200, 'curry': 4201, 'later..': 4202, 'clock.': 4203, '09061221061': 4204, '28days.': 4205, 'box177.': 4206, 'm221bp.': 4207, '2yr': 4208, 'warranty.': 4209, 'p£3.99': 4210, 'meeting?': 4211, 'tomorro': 4212, 'fret.': 4213, 'march.': 4214, 'scary': 4215, 'math.': 4216, 'o:-)': 4217, 'fri?': 4218, '08000776320': 4219, 'mate.': 4220, 'falls': 4221, 'sar': 4222, '4fil': 4223, 'hee': 4224, 'hey!': 4225, 'silently': 4226, 'roommate': 4227, 'wrc': 4228, 'oz?': 4229, 'lucozade': 4230, 'energy!': 4231, 'le': 4232, '61200': 4233, '(25p),': 4234, 'packs': 4235, 'lucozade.co.uk/wrc': 4236, 'itcould': 4237, 'either.': 4238, 'toot': 4239, 'eat?': 4240, 'chance,': 4241, 'bigger': 4242, 'this?': 4243, 'annoying': 4244, 'makin': 4245, 'itself..': 4246, 'ya...': 4247, 'neft': 4248, 'beneficiary': 4249, 'sura': 4250, 'www.ldew.com.subs16+1win150ppmx3': 4251, 'map': 4252, 'apart': 4253, 'door,': 4254, '9?': 4255, 'creepy': 4256, 'i,': 4257, '08719181513.': 4258, 'damn,': 4259, \"k..k..i'm\": 4260, 'fine:)when': 4261, 'course?': 4262, 'nok': 4263, 'college.': 4264, 'rofl': 4265, 'invest': 4266, 'delay.': 4267, '84128': 4268, 'www.textcomp.com': 4269, \"1's\": 4270, 'purse': 4271, 'email?': 4272, 'princess': 4273, 'credit!': 4274, 'sweet!': 4275, 'sleep!': 4276, 'hun!': 4277, 'flip': 4278, 'go...': 4279, 'nw,': 4280, 'jd': 4281, 'accounts': 4282, 'id,': 4283, \"parents'\": 4284, '10p/min.': 4285, 'weirdest': 4286, 'l8tr': 4287, '2moro': 4288, 'jane': 4289, 'calls£1/minmoremobsemspobox45po139wa': 4290, 'tee': 4291, 'bye.': 4292, 'dough': 4293, 'control': 4294, 'report?': 4295, 'jerry': 4296, 'cartoon': 4297, 'irritates': 4298, 'fails': 4299, 'it...!..!!': 4300, 'birthdate': 4301, 'nydc': 4302, 'garbage': 4303, 'items': 4304, 'knackered': 4305, 'gold': 4306, 'lions': 4307, 'lionm': 4308, 'mono': 4309, 'lionp': 4310, 'poly.': 4311, 'jokin': 4312, 'whenevr': 4313, 'potter': 4314, 'phoenix': 4315, '(book': 4316, '5)': 4317, 'harry,': 4318, 'readers!': 4319, 'correct.': 4320, 'dunno,': 4321, 'thing?': 4322, 'february': 4323, 'interest': 4324, '6hrs.': 4325, 'test.': 4326, 'free2day': 4327, \"george's\": 4328, 'jordan!txt': 4329, '89080': 4330, 'celeb!4': 4331, '0870241182716': 4332, 'theres': 4333, 'soul': 4334, 'ned': 4335, 'hurting': 4336, 'main': 4337, 'sweetie': 4338, '4a': 4339, 'whn': 4340, 'suntec': 4341, 'dance': 4342, 'shopping.': 4343, '0870..k': 4344, 'butt.': 4345, 'bar': 4346, '08718730666': 4347, '(10p/min).': 4348, 'mobiles.': 4349, 'offers.': 4350, 'call2optout/lf56': 4351, 'problem..': 4352, 'tlk': 4353, 'ideal': 4354, 'front': 4355, 'tirunelvali': 4356, 'unsold.': 4357, 'bk': 4358, 'hear.': 4359, 'sinco': 4360, 'payee.': 4361, 'icicibank.com': 4362, 'beware': 4363, 'frauds.': 4364, 'disclose': 4365, 'caring': 4366, 'tuition...': 4367, 'option': 4368, 'practicing': 4369, 'beneath': 4370, 'pale': 4371, 'silver': 4372, 'car...': 4373, 'www.ldew.com': 4374, 'exeter': 4375, 'whose': 4376, 'much\"': 4377, 'coat': 4378, 'guilty': 4379, 'leave?': 4380, 'sun...': 4381, 'u:': 4382, 'ok.,': 4383, 'textpod': 4384, 'www.textpod.net': 4385, 'desperate': 4386, 'monkeys': 4387, 'lessons?': 4388, 'liao..': 4389, 'wat..': 4390, 'costing': 4391, 'lyfu': 4392, 'lyf': 4393, 'ke': 4394, 'earlier...': 4395, 'lucy': 4396, 'hubby': 4397, 'calls£1/minmobsmorelkpobox177hp51fl': 4398, 'fever': 4399, 'play,': 4400, \"doesn\\\\'t\": 4401, 'may,': 4402, 'yesterday,': 4403, 'modules': 4404, 'guy,': 4405, 'musthu': 4406, '80488': 4407, 'cold': 4408, 'serious.': 4409, 'messenger': 4410, 'sha': 4411, 'energy': 4412, 'da:)whats': 4413, 'along': 4414, 'mobile.': 4415, 'testing': 4416, 'station.': 4417, 'format': 4418, 'prey': 4419, 'shortly.': 4420, 'forum': 4421, 'aunt': 4422, 'screaming': 4423, 'hungry...': 4424, 'konw': 4425, 'waht': 4426, 'rael': 4427, 'gving': 4428, 'exmpel:': 4429, 'jsut': 4430, 'evrey': 4431, 'splleing': 4432, 'wrnog..': 4433, 'sitll': 4434, 'raed': 4435, 'wihtuot': 4436, 'ayn': 4437, 'mitsake..': 4438, 'sleep..sweet': 4439, 'joining': 4440, 'prospects': 4441, 'filled': 4442, 'jia': 4443, 'sux': 4444, '(preferably': 4445, 'kegger)': 4446, 'sale.': 4447, 'use.': 4448, 'meaning:::::': 4449, '\"miss': 4450, '\"best': 4451, 'life\"': 4452, 'wifi': 4453, 'no:-)i': 4454, 'rumour': 4455, 'chennai:-)': 4456, '7250': 4457, 'part!': 4458, 'guess.': 4459, 'idk': 4460, 'wtf': 4461, 'kicks': 4462, 'dime': 4463, 'transfer': 4464, 'falling': 4465, 'force': 4466, 'yourself,': 4467, 'smeone': 4468, 'flame.': 4469, 'propose': 4470, 'gods': 4471, 'blessings!': 4472, 'morning.:': 4473, 'probably,': 4474, 'special?': 4475, 'dippeditinadew,': 4476, 'lovingly': 4477, 'touched': 4478, 'itwhichturnedinto': 4479, 'gifted': 4480, 'tomeandsaid,this': 4481, 'prob...': 4482, 'oz': 4483, 'flaky': 4484, 'sooooo': 4485, 'winning': 4486, 'tooo': 4487, \"'simple'\": 4488, 'difficult..': 4489, '09058094599': 4490, 'confuses': 4491, 'things,': 4492, 'urgnt.': 4493, 'wating': 4494, 'british': 4495, 'hotels': 4496, 'nothing!': 4497, '£350!': 4498, 'sw73ss': 4499, '4u,': 4500, 'dracula': 4501, 'ghost,': 4502, 'addamsfa,': 4503, 'munsters,': 4504, 'exorcist,': 4505, 'twilight': 4506, 'constant': 4507, 'shit,': 4508, 'allow': 4509, 'sell.': 4510, 'b.': 4511, 'msg150p': 4512, '2rcv': 4513, 'hlp': 4514, '08712317606': 4515, 'tomo,': 4516, 'switch': 4517, 'lead:)': 4518, 'bag..i': 4519, \"'ll\": 4520, '80608.': 4521, 'www.movietrivia.tv': 4522, '08712405022,': 4523, 'partnership': 4524, 'mostly': 4525, 'compromised': 4526, 'toughest': 4527, '£6': 4528, 'sh!jas': 4529, 'tonight!': 4530, '-sub': 4531, 'ringtone-get': 4532, 'free-send': 4533, '81618-?3': 4534, 'week-stop': 4535, 'sms-08718727870': 4536, 'plans.': 4537, '81303': 4538, 'credit.': 4539, 'rd.': 4540, 'moves': 4541, 'slip': 4542, 'wkg': 4543, 'man!': 4544, 'bed...': 4545, 'keeps': 4546, 'gotten': 4547, 'bed?': 4548, 'unknown': 4549, '09094646899': 4550, 'vu': 4551, 'bcm1896wc1n3xx': 4552, '2007': 4553, 'indeed': 4554, \"'maangalyam\": 4555, \"(alaipayuthe)'\": 4556, 'telephone': 4557, 'bahamas!': 4558, 'callfreefone': 4559, '08081560665': 4560, 'bahamas': 4561, 'of£2000': 4562, '18+only.': 4563, '07786200117': 4564, 'calm': 4565, 'up4': 4566, 'x.': 4567, 'happy..': 4568, 'becomes': 4569, 'schedule': 4570, 'ya.': 4571, 'contacts': 4572, 'forgets': 4573, 'mandan': 4574, '07734396839': 4575, 'ibh': 4576, 'offer:': 4577, 'nokia6600': 4578, 'txtauction!txt': 4579, 'word:start': 4580, 'no:81151': 4581, 'now!4t&': 4582, 'mind...': 4583, 'yourself.': 4584, 'buns!': 4585, 'favourite': 4586, 'invaders': 4587, 'orig': 4588, 'console.': 4589, 'charge)': 4590, 'o2.co.uk/games': 4591, 'transfr': 4592, 'amt': 4593, 'philosophy': 4594, 'win:': 4595, 't.': 4596, 'foley': 4597, 'ipod!': 4598, 'prizes': 4599, 'www.win-82050.co.uk': 4600, 'babe?': 4601, 'desparate': 4602, 'school?': 4603, '3100': 4604, 'dearly.': 4605, 'combine': 4606, 'treat.': 4607, 'supervisor': 4608, '(or': 4609, 'wan...': 4610, '89555': 4611, 'g696ga': 4612, 'flight': 4613, 'pm.': 4614, 'tests.': 4615, 'joanna': 4616, 'later?\"': 4617, '12mths': 4618, 'laptop?': 4619, 'online?': 4620, 'have.': 4621, 'embarassed,': 4622, 'delete': 4623, 'knew,': 4624, 'waheed': 4625, 'mmmm': 4626, 'masters': 4627, 'avoiding': 4628, '0776xxxxxxx': 4629, '326': 4630, '(18': 4631, 'uh,': 4632, 'heads': 4633, 'vday': 4634, 'wah...': 4635, \"there're\": 4636, 'table': 4637, 'build': 4638, 'snowman': 4639, 'fights.': 4640, 'electricity': 4641, 'kadeem': 4642, 'good?': 4643, 'scold': 4644, 'real.': 4645, 'sch...': 4646, 'accordingly.': 4647, 'wud': 4648, 'tonite!': 4649, '09066358152': 4650, 'prompts.': 4651, 'careful!': 4652, 'disturbing': 4653, 'weed\"': 4654, 'excellent!': 4655, 'evening.': 4656, 'tcs,': 4657, 'k...k:)why': 4658, 'job:)': 4659, 'lousy': 4660, 'woken': 4661, 'uncle.': 4662, 'aka': 4663, 'ic.': 4664, '6hrs': 4665, 'midnight,': 4666, 'laptop...': 4667, 'ish!': 4668, 'delhi': 4669, 'silent.': 4670, 'weekly!': 4671, 'yo.': 4672, 'fringe': 4673, 'distract': 4674, '61610': 4675, 'unsubscribe.': 4676, 'help:08712400602450p': 4677, 'tones2you.co.uk': 4678, 'smth.': 4679, 'mel': 4680, 'choice.': 4681, 'responsibility.': 4682, 'rule': 4683, 'whatever.': 4684, '08006344447': 4685, 'princess,': 4686, 'onwards': 4687, 'alone?': 4688, 'obviously,': 4689, 'miss.': 4690, 'affair?': 4691, 'nd': 4692, 'parco': 4693, 'ready...': 4694, 'yay': 4695, 'hallaq': 4696, 'jealous': 4697, 'color': 4698, 'mah...': 4699, 'gender': 4700, 'sleepwell&amp;take': 4701, 'mca.': 4702, 'words.': 4703, 'england!': 4704, '84199': 4705, 'thanksgiving': 4706, 'art': 4707, 'rub': 4708, 'clever': 4709, 'hols.': 4710, 'stamped': 4711, 'envelope': 4712, 'uk,': 4713, '113,': 4714, 'bray,': 4715, 'wicklow,': 4716, 'eire.': 4717, 'saturday!': 4718, 'www.idew.com': 4719, 'skillgame,': 4720, '1winaweek,': 4721, 'age16.': 4722, '150ppermesssubscription': 4723, 'manage': 4724, 'shitload': 4725, 'china': 4726, 'does,': 4727, 'beg': 4728, 'stayin': 4729, 'sorted': 4730, 'satisfy': 4731, 'cld': 4732, 'prefer': 4733, 'mind,': 4734, 'you:-)': 4735, 'kindly': 4736, 'wales': 4737, 'killed': 4738, 'smashed': 4739, \"everybody's\": 4740, 'failed': 4741, 'ps': 4742, 'tok': 4743, 'specific': 4744, 'pages': 4745, '6.30': 4746, 'father:': 4747, '\"power': 4748, 'frndship\"': 4749, 'neck': 4750, 'hour?': 4751, 'continue': 4752, 'urgent!!': 4753, 'holy': 4754, 'billion': 4755, 'tmr...': 4756, 'youre': 4757, 'turning': 4758, 'ref': 4759, 'goin?': 4760, 'belive': 4761, 'test?': 4762, 'slots': 4763, 'discussed': 4764, 'sat...': 4765, 'xxxx\"': 4766, 'texts.': 4767, '2morro': 4768, 'over!': 4769, 'spoiled?': 4770, 'complaint': 4771, 'lk': 4772, 'lov': 4773, '01223585334': 4774, 'cum.': 4775, '2c': 4776, 'shagged': 4777, '8552.': 4778, '2end': 4779, '8552': 4780, 'waited': 4781, 'please!': 4782, 'huge': 4783, 'mids': 4784, 'oranges': 4785, 'upd8': 4786, '21870000>hi': 4787, 'mailbox': 4788, 'messaging': 4789, '21': 4790, 'matches.': 4791, '09056242159': 4792, 'retrieve': 4793, 'tell.': 4794, 'nothin': 4795, 'all?': 4796, 'ish?': 4797, 'poem:': 4798, 'cheer': 4799, \"that'll\": 4800, 'quiz.win': 4801, 'duchess': 4802, 'cornwall': 4803, 'be?': 4804, '82277.unsub': 4805, '008704050406': 4806, 'bags,': 4807, 'congratulations!': 4808, 'bt-national-rate.': 4809, 'nahi': 4810, 'wo': 4811, 'jo': 4812, 'dan': 4813, 'food?': 4814, 'staring': 4815, 'cm': 4816, 'unnecessarily': 4817, '08701417012150p': 4818, 'logo/pic': 4819, 'issue': 4820, 'weigh': 4821, 'regret': 4822, 'tv.': 4823, 'gamestar': 4824, 'active': 4825, '£250k': 4826, 'team.': 4827, 'scoring': 4828, 'saturday,': 4829, 'register': 4830, 'now!sky': 4831, '88088': 4832, 'tom': 4833, 'measure': 4834, 'propsd': 4835, 'gv': 4836, 'lv': 4837, 'lttrs,': 4838, 'threw': 4839, 'thm.': 4840, 'aproach': 4841, 'dt': 4842, 'truck': 4843, 'speeding': 4844, 'girl,d': 4845, \"'hw\": 4846, \"fast?'\": 4847, '\"boost': 4848, 'thy': 4849, 'lived': 4850, 'happily': 4851, '2gthr': 4852, 'evrydy': 4853, 'moral': 4854, 'story:-': 4855, 'msgs:d;):': 4856, 'arent': 4857, 'bluff': 4858, 'impossible': 4859, 'www.fullonsms.com': 4860, 'love:': 4861, 'piece': 4862, 'wiskey': 4863, 'brandy': 4864, 'rum': 4865, 'gin': 4866, 'vodka': 4867, 'scotch': 4868, 'shampain': 4869, '\"kudi\"yarasu': 4870, 'dhina': 4871, 'vaazhthukkal.': 4872, 'things?': 4873, 'kg': 4874, 'thangam,': 4875, 'dressed': 4876, 'kills': 4877, 'kay...': 4878, 'roger': 4879, 'nasty': 4880, 'jesus': 4881, 'christ': 4882, 'hands': 4883, 'push': 4884, 'down...': 4885, 'water.': 4886, 'swiss': 4887, 'yrs.': 4888, 'jobs': 4889, 'politicians.': 4890, 'rights': 4891, 'legal': 4892, 'online.': 4893, '1x150p/wk.': 4894, 'donno': 4895, 'update:': 4896, 'properly': 4897, 'calling.': 4898, 'frndship': 4899, 'pongal?do': 4900, '630': 4901, 'sry': 4902, 'finish?': 4903, 'furniture': 4904, 'lock': 4905, 'shoving': 4906, 'papers': 4907, 'serious': 4908, 'mu?': 4909, '24': 4910, 'acl03530150pm': 4911, 'indyarocks.com': 4912, 'da..today': 4913, 'bids': 4914, 'u?????': 4915, 'boytoy!': 4916, 'is!': 4917, 'frens...': 4918, 'mmmmm': 4919, 'medicine.': 4920, 'relatives': 4921, 'dont.': 4922, 'chain': 4923, 'good.environment': 4924, 'terrific': 4925, 'nice:)': 4926, 'keys': 4927, 'mini': 4928, 'ltd.': 4929, 'am,': 4930, 'superior': 4931, 'boat': 4932, 'picsfree1': 4933, 'ruin': 4934, 'fathima': 4935, 'months?': 4936, 'bc': 4937, '6...': 4938, '\"im': 4939, 'yeah!': 4940, 'knock': 4941, 'innocent': 4942, 'hoped': 4943, 'bills': 4944, '2marrow': 4945, '9pm.': 4946, 'fab': 4947, 'tiwary': 4948, 'bang': 4949, 'bed!': 4950, 'moms': 4951, 'pap': 4952, 'arts': 4953, '150p/mtmsgrcvd18': 4954, 'dollar': 4955, 'pull': 4956, 'can,': 4957, 'booty': 4958, 'chat,': 4959, 'bro': 4960, 'amongst': 4961, 'remember.': 4962, 'mobile?': 4963, '69696': 4964, '3lp': 4965, 'queen?': 4966, 'northampton': 4967, 'not!': 4968, 'abj': 4969, 'serving.': 4970, 'include:': 4971, '3)': 4972, 'instructions': 4973, 'anna': 4974, 'nagar': 4975, 'away,': 4976, 'shirts': 4977, 'for?': 4978, '\"valued': 4979, 'frnds\"': 4980, 'evr': 4981, 'neither': 4982, 'hugs': 4983, 'west': 4984, 'fastest': 4985, 'growing': 4986, 'rcvd': 4987, 'chase': 4988, 'tablets': 4989, 'tariffs': 4990, 'steam': 4991, 'reg': 4992, 'long.': 4993, 'abiola.': 4994, 'luxury': 4995, 'canary': 4996, 'islands': 4997, 'james': 4998, 'you:-.': 4999, 'mag': 5000, 'really?': 5001, 'diwali': 5002, 'tick': 5003, 'meh?': 5004, 'thgt': 5005, 'today:)': 5006, 'place,': 5007, 'lower': 5008, 'dark': 5009, 'gud..k,': 5010, 'nyt..': 5011, 'of.': 5012, 'exhaust': 5013, 'campus.': 5014, 'creep': 5015, 'lil': 5016, 'far...': 5017, 'property': 5018, 'interflora': 5019, '150p.': 5020, 'see!': 5021, '09058099801': 5022, 'b4190604,': 5023, '7876150ppm': 5024, 'shopping?': 5025, 'nice.nice.how': 5026, 'working?': 5027, 'yellow': 5028, 'doubt': 5029, 'note': 5030, 'japanese': 5031, 'proverb:': 5032, 'it,u': 5033, 'it,leave': 5034, 'it!!': 5035, 'coin': 5036, 'shortly': 5037, 'mum,': 5038, 'idk.': 5039, 'freedom': 5040, 'twenty': 5041, 'probs': 5042, 'low': 5043, 'swatch': 5044, 'ganesh': 5045, 'collecting': 5046, 'trips?': 5047, 'helloooo...': 5048, 'up..!': 5049, '\"sweet\"': 5050, '\"morning\"': 5051, '\"welcomes\"': 5052, '\"you\"': 5053, '\"enjoy\"': 5054, '\"this': 5055, '\"with': 5056, 'joy\"..': 5057, '\"gud': 5058, 'mrng\".': 5059, 'natural': 5060, 'wuld': 5061, 'flaked': 5062, 'bucks.': 5063, 'cheaper': 5064, 'bruce': 5065, 'pls:-)': 5066, 'chest': 5067, 'brief': 5068, 'abi.': 5069, 'idiot': 5070, 'hang': 5071, 'worry,': 5072, 'ü?': 5073, 'reboot': 5074, 'pt2': 5075, 'bottom': 5076, 'phoned': 5077, 'improved': 5078, 'club!': 5079, 'msgs@150p': 5080, 'hm': 5081, 'sch.': 5082, 'salon': 5083, 'boring.': 5084, 'evenings': 5085, 'raj': 5086, 'usc': 5087, 'crab': 5088, 'waves': 5089, 'footprints': 5090, 'clearing': 5091, 'weeks!': 5092, '\"how': 5093, 'admin': 5094, 'visionsms.com': 5095, 'sat?': 5096, 'andros': 5097, 'meets': 5098, 'foot': 5099, 'sigh*': 5100, 'standing.': 5101, 'dad.': 5102, 'vth': 5103, '5.30': 5104, 'hill.': 5105, 'gone.': 5106, 'tuition': 5107, 'ru?': 5108, 'removal': 5109, '08708034412': 5110, 'liao,': 5111, 'cancelled': 5112, 'agalla': 5113, '\"cheers': 5114, 'hunny': 5115, 'j!': 5116, 'count': 5117, 'otside': 5118, 'tomo?': 5119, 'size': 5120, '08712101358': 5121, 'tight': 5122, 'av': 5123, 'everyday': 5124, 'curious': 5125, 'postcard': 5126, 'mahal': 5127, 'red,red': 5128, 'blood,blood': 5129, 'heart,heart': 5130, '1-u': 5131, 'relation!': 5132, '2-u': 5133, '3-u': 5134, '4-some1': 5135, 'luvs': 5136, '5+-': 5137, 'praying': 5138, 'u.:-)': 5139, 'it....': 5140, 'smiling:-)': 5141, 'by,': 5142, 'ding': 5143, 'allowed': 5144, 'necessary': 5145, 'watever': 5146, 'shared': 5147, 'hug': 5148, 'messaged': 5149, 'deus': 5150, '08000930705.': 5151, 'tap': 5152, 'spile': 5153, 'seven.': 5154, 'broad': 5155, 'canal.': 5156, 'engin?': 5157, 'east': 5158, 'lot...': 5159, 'cheat': 5160, 'block': 5161, 'one?': 5162, 'ruining': 5163, 'another.': 5164, 'moved': 5165, 'ee': 5166, '%': 5167, 'easily': 5168, 'custom': 5169, 'sac': 5170, 'pobox45w2tg150p': 5171, 'start,': 5172, '!!!!': 5173, 'time,': 5174, 'stay.': 5175, 'forgotten': 5176, 'reverse': 5177, 'cheating.': 5178, 'mathematics.': 5179, '2waxsto': 5180, 'minimum': 5181, 'elaine,': 5182, 'theatre.': 5183, 'drunken': 5184, 'world.': 5185, 'mess': 5186, 'sound?': 5187, '____': 5188, 'iq.': 5189, 'ias': 5190, 'answer.': 5191, 'mths?': 5192, 'camera/video': 5193, '/7': 5194, 'free?': 5195, 'films': 5196, 'delivery.': 5197, '1030': 5198, 'bloomberg': 5199, '-message': 5200, '+447797706009': 5201, 'http://careers.': 5202, 'bloomberg.com': 5203, \"priscilla's\": 5204, 'wisdom..': 5205, 'period': 5206, 'kent': 5207, 'wan2': 5208, 'meet+greet': 5209, 'westlife': 5210, 'tour?': 5211, '1)unbreakable,': 5212, '2)untamed,': 5213, '3)unkempt.': 5214, '1,2': 5215, '83049.': 5216, '+std': 5217, '(bank': 5218, 'granite': 5219, 'strong-buy)': 5220, 'explosive': 5221, '*****up': 5222, '300%': 5223, 'nasdaq': 5224, 'cdgt': 5225, '$5.00': 5226, 'per..': 5227, 'journey!': 5228, 'base': 5229, 'placement': 5230, 'didn‘t': 5231, '9!': 5232, 'pix?': 5233, 'love!!': 5234, 'lion': 5235, '*devouring': 5236, 'airtel': 5237, 'sooner': 5238, '\\x96': 5239, '3uz': 5240, 'jaya': 5241, 'it..let': 5242, 'mumtaz': 5243, \"mumtaz's\": 5244, 'husband': 5245, 'sister.': 5246, 'paris': 5247, 'guaranteed!': 5248, 'incredible': 5249, 'txts!': 5250, 'o2fwd': 5251, '18p/txt': 5252, 'ship': 5253, 'cars.': 5254, 'maturity': 5255, 'things..': 5256, 'things...': 5257, '*have': 5258, 'evening*': 5259, 'decimal': 5260, 'message,': 5261, 'kavalan': 5262, 'causing': 5263, 'blank': 5264, 'tonights': 5265, 'game!': 5266, '84199.': 5267, 're-schedule.': 5268, 'despite': 5269, '7,': 5270, 'senthil': 5271, 'sucks': 5272, 'flat,': 5273, 'lives.': 5274, 'brothas?': 5275, 'vegas': 5276, 'texted.': 5277, 'vewy': 5278, 'tirupur.': 5279, 'paid.': 5280, 'networking': 5281, 'swimming?': 5282, 'pool': 5283, 'live..': 5284, 'note:': 5285, 'co.': 5286, 'disconnect': 5287, 'call,coz': 5288, \"'terrorist'\": 5289, 'itz': 5290, 'confirmd': 5291, 'verified': 5292, 'cnn': 5293, 'ibn.': 5294, 'hppnss,': 5295, 'sorrow,': 5296, 'forevr': 5297, 'goodfriend': 5298, 'holder': 5299, 'lounge': 5300, 'stayed': 5301, 'reply,': 5302, 'eaten': 5303, 'mila,': 5304, 'age23,': 5305, 'blonde,': 5306, 'mtalk': 5307, '69866.18': 5308, '30pp/txt': 5309, '5free.': 5310, 'increments.': 5311, 'help08718728876': 5312, 'ful': 5313, 'atlast': 5314, 'information.': 5315, 'funk': 5316, 'tones2u': 5317, \"weekend's\": 5318, 'cute:': 5319, 'prove': 5320, '.gud': 5321, 'noon....': 5322, 'funeral': 5323, 'tnc': 5324, 'brah,': 5325, 'possession': 5326, 'protect': 5327, 'e-threats.': 5328, 'sib': 5329, 'sensitive': 5330, 'passwords,atm/sms': 5331, 'anybody.': 5332, 'blu': 5333, 'concert': 5334, 'ipad.': 5335, '%.': 5336, 'mate!': 5337, 'pink': 5338, 'widelive.com/index.': 5339, 'sent.': 5340, 'practice': 5341, 'melt': 5342, 'ground.': 5343, 'her?': 5344, 'needed': 5345, 'love...': 5346, 'yourself...': 5347, '09061743386': 5348, 'txts.': 5349, 'housewives!': 5350, '0871750.77.11!': 5351, 'bt-national': 5352, 'landlines!': 5353, 'mall': 5354, '/': 5355, 'pie': 5356, 'dial': 5357, 'california.': 5358, 'vikky,': 5359, '09066364311': 5360, 'literally': 5361, 'understand.': 5362, 'friend,': 5363, 'kothi': 5364, 'yijue': 5365, 'sem': 5366, 'actual': 5367, 'soup': 5368, 'ex...': 5369, '\"life': 5370, 'value': 5371, 'reasonable': 5372, 'girls.': 5373, 'morphine': 5374, 'kappa': 5375, 'law': 5376, 'piss': 5377, 'games!': 5378, 'a,': 5379, 'guessing': 5380, 'teeth': 5381, 'royal': 5382, 'skype': 5383, 'calicut': 5384, 'hot,': 5385, 'sticky': 5386, 'interested.': 5387, 'indicate': 5388, 'had.': 5389, 'challenge': 5390, 'lush!': 5391, 'day!2find': 5392, 'drivin': 5393, 'greatest': 5394, 'courage': 5395, 'bear': 5396, 'defeat': 5397, 'heart....gn': 5398, 'fucked': 5399, 'beauty': 5400, 'natalja': 5401, '(25/f)': 5402, 'yes-440': 5403, 'no-440': 5404, 'www.sms.ac/u/nat27081980': 5405, 'park.': 5406, 'moving': 5407, 'relation': 5408, 'sunlight.': 5409, 'xxx.': 5410, 'shelf:)': 5411, 'egg.': 5412, 'mokka': 5413, '09061744553': 5414, 'polyh': 5415, 'bone': 5416, 'epsilon': 5417, 'mesages': 5418, 'lst': 5419, 'got\"': 5420, 'massive': 5421, 'fine..absolutly': 5422, \"don't,\": 5423, 'www.t-c.biz': 5424, 'polo': 5425, '373': 5426, 'w1j': 5427, '6hl': 5428, 'academic': 5429, 'convinced': 5430, 'ate?': 5431, 'come...': 5432, 'goodnight.': 5433, 'travel.': 5434, 'suppose': 5435, 'more.': 5436, 'explicit': 5437, '30': 5438, 'secs?': 5439, '02073162414': 5440, '20p/min': 5441, 'smiling.': 5442, 'boytoy.': 5443, 'i?': 5444, 'gain': 5445, '89070': 5446, 'realise': 5447, 'used.': 5448, 'here....': 5449, 'mnths?': 5450, 'callback,': 5451, 'course.': 5452, 'common.': 5453, 'angry.': 5454, '86888': 5455, 'subscribe6gbp/mnth': 5456, '3hrs': 5457, 'stop?txtstop': 5458, 'feelin': 5459, 'atm,': 5460, 'capital': 5461, 'acted': 5462, 'mis': 5463, 'prabha': 5464, 'bit?': 5465, 'loyal': 5466, 'customers': 5467, '09066380611': 5468, 'cancer': 5469, 'print': 5470, 'born,': 5471, 'smth..': 5472, 'preferably': 5473, 'sleepin,': 5474, 'arcade.': 5475, 'minor': 5476, 'life...!!': 5477, 'nite.': 5478, 'denis': 5479, 'woulda': 5480, 'calling!': 5481, 'texted': 5482, 'shoppin': 5483, 'too.pray': 5484, 'allah': 5485, '08718726270': 5486, 'celebration': 5487, 'nuther': 5488, 'warner': 5489, 'home!': 5490, 'masters.': 5491, 'pussy...': 5492, 'iouri': 5493, 'donate': 5494, '£2.50': 5495, 'happen.': 5496, '(': 5497, 'esplanade': 5498, '(nat': 5499, 'cherish': 5500, 'model.': 5501, 'wallpaper': 5502, 'sometime': 5503, 'dear..slp': 5504, 'well..take': 5505, 'care..swt': 5506, 'dreams..muah..': 5507, '4eva': 5508, 'garden': 5509, 'bulbs': 5510, 'seeds': 5511, '£33:50': 5512, 'scotsman': 5513, 'go2': 5514, 'notxt.co.uk': 5515, 'wylie,': 5516, 'relax,': 5517, 'gastroenteritis.': 5518, 'replace': 5519, 'reduce.': 5520, 'vomit.': 5521, 'limiting': 5522, 'illness': 5523, '09061213237': 5524, 'm227xy.': 5525, 'leave.': 5526, 'favorite': 5527, 'bottle': 5528, 'amused?': 5529, 'joking!': 5530, 'mega': 5531, 'shu': 5532, 'island': 5533, '2p': 5534, 'home?': 5535, 'law;': 5536, 'miles': 5537, 'jurong': 5538, 'point,': 5539, 'crazy..': 5540, 'buffet...': 5541, 'amore': 5542, 'chgs': 5543, 'aids': 5544, 'patent.': 5545, 'cried': 5546, 'breather.': 5547, 'granted': 5548, 'fulfil': 5549, 'will!!': 5550, 'xxxmobilemovieclub:': 5551, 'credit,': 5552, 'here>>': 5553, 'http://wap.': 5554, 'xxxmobilemovieclub.com?n=qjkgighjjgcbl': 5555, \"k...i'm\": 5556, 'name...': 5557, 'wet.': 5558, 'feel.': 5559, 'gota': 5560, 'macedonia': 5561, 'goals/team': 5562, 'news.': 5563, 'try:wales,': 5564, '4txt/ú1.20': 5565, 'poboxox36504w45wq': 5566, 'name?': 5567, 'comin...': 5568, 'ffffffffff.': 5569, 'sooner?': 5570, 'forced': 5571, 'slice.': 5572, 'convincing.': 5573, 'tea?': 5574, 'packing': 5575, 'ahhh.': 5576, 'vaguely': 5577, 'clear,': 5578, 'apologetic.': 5579, 'fallen': 5580, 'actin': 5581, 'spoilt': 5582, 'badly': 5583, 'fainting': 5584, 'housework': 5585, 'did?': 5586, 'cuppa': 5587, '£5/month': 5588, 'timings': 5589, '8am': 5590, 'oops,': 5591, 'decide...': 5592, 'watts.': 5593, 'arabian': 5594, 'steed': 5595, '07732584351': 5596, 'rodger': 5597, 'camcorder.': 5598, 'seeing?': 5599, 'endowed.': 5600, 'inches...': 5601, 'hep': 5602, 'immunisation': 5603, 'enough,': 5604, 'hopefully,': 5605, 'stubborn': 5606, 'sucker.': 5607, 'suckers.': 5608, 'thinked': 5609, 'eighth': 5610, 'smarter': 5611, 'crashing': 5612, 'accomodations.': 5613, 'cave\".': 5614, 'offered.': 5615, 'embarassing.': 5616, 'sptv:': 5617, 'jersey': 5618, 'devils': 5619, 'detroit': 5620, 'wings': 5621, 'hockey.': 5622, 'incorrect?': 5623, 'sptv': 5624, 'mallika': 5625, 'sherawat': 5626, 'yes..gauti': 5627, 'sehwag': 5628, 'odi': 5629, 'series.': 5630, '$1': 5631, 'move.': 5632, 'seekers.': 5633, 'forever,': 5634, '\"divorce': 5635, 'barbie\"?': 5636, \"ken's\": 5637, 'stuff!': 5638, 'wah': 5639, 'man...': 5640, 'money...': 5641, 'k..k:)where': 5642, 'you?how': 5643, 'performed?': 5644, 'peoples': 5645, 'much:)': 5646, 'shy': 5647, 'operate': 5648, \"ta's\": 5649, 'yo?': 5650, 'multis.': 5651, 'factory': 5652, 'kano.,il': 5653, 'download,': 5654, 'free..': 5655, 'do!': 5656, 'tho-': 5657, 'you‘ll': 5658, 'casualty': 5659, 'stuff42moro': 5660, 'includes': 5661, 'lido': 5662, 'telugu': 5663, 'movie..wat': 5664, 'hairdressers': 5665, 'beforehand.': 5666, 'u?\"': 5667, 'say.': 5668, 'legal!': 5669, 'ams': 5670, '4the': 5671, 'nyc,': 5672, 'changed.': 5673, 'signin': 5674, 'boston.': 5675, 'memorable.': 5676, 'ip': 5677, 'minecraft': 5678, 'server': 5679, 'grumpy': 5680, 'lying.': 5681, 'jokes...': 5682, 'busy.': 5683, 'plural': 5684, 'dinner.msg': 5685, 'after.': 5686, 'loud.': 5687, 'wa,': 5688, 'openin': 5689, 'formal...': 5690, 'weight...haha...': 5691, '0871277810910p/min': 5692, 'egg-potato': 5693, 'ratio': 5694, 'needed!': 5695, 'hmm...my': 5696, 'directly.': 5697, '5/9/03': 5698, '09064019788': 5699, 'box42wr29c,': 5700, '-apples&pairs&all': 5701, 'malarky': 5702, '7548': 5703, '$350': 5704, '4041': 5705, 'sao': 5706, 'predict': 5707, 'buying?': 5708, 'know,yetunde': 5709, 'sending.': 5710, 'involve': 5711, 'imposed': 5712, 'bak!': 5713, 'c!': 5714, 'lucyxx': 5715, 'cost?': 5716, 'tmorrow.pls': 5717, 'accomodate.': 5718, 'gravel': 5719, '69888!': 5720, 'nt.': 5721, 'msn.': 5722, 'yijue@hotmail.com': 5723, 'svc.': 5724, 'to:': 5725, '69988': 5726, 'verify': 5727, 'c...': 5728, 'type...': 5729, 'pouch': 5730, 'swt': 5731, '\"nver': 5732, 'persons..\"': 5733, 'coz..somtimes': 5734, 'hearts..': 5735, 'randy,': 5736, 'sexy,': 5737, 'local.': 5738, 'ummma.will': 5739, 'in.our': 5740, 'hard.': 5741, 'k..i': 5742, 'why?': 5743, 'sindu': 5744, 'nevering..': 5745, 'typical': 5746, 'everywhere': 5747, 'dirt,': 5748, 'windows,': 5749, 'shirt.': 5750, 'mouth,': 5751, 'chores': 5752, 'exist,': 5753, 'rain,': 5754, 'hail': 5755, 'mist,': 5756, 'aaooooright': 5757, 'me?are': 5758, 'annoncement.': 5759, '07046744435': 5760, 'envy': 5761, \"see's\": 5762, 'parents.:)i': 5763, 'hand:)': 5764, 'excited': 5765, '-pls': 5766, 'bootydelious': 5767, '(32/f)': 5768, 'yes-434': 5769, 'no-434': 5770, 'www.sms.ac/u/bootydelious': 5771, 'bangbabes': 5772, 'bangb.': 5773, 'internet/service': 5774, 'cultures': 5775, '09061701939.': 5776, 's89.': 5777, 'missunderstding': 5778, \"one's?\": 5779, 'escape.': 5780, 'bridge': 5781, 'lager.': 5782, 'axis': 5783, 'hmmm..': 5784, 'ard...': 5785, 'abt...': 5786, 'hell,': 5787, 'surname': 5788, 'clue,': 5789, 'begins': 5790, 'm...': 5791, 'good...fine': 5792, 'mall?': 5793, '~': 5794, 'lifted': 5795, 'hopes': 5796, 'approaches': 5797, 'will,': 5798, 'close?': 5799, 'great.bye': 5800, 'handsome': 5801, 'finding': 5802, '30th': 5803, 'august.': 5804, 'www.areyouunique.co.uk': 5805, 'league': 5806, 'week.|': 5807, ':)finally': 5808, 'course:)': 5809, 'ors': 5810, 'stool.': 5811, 'dead?': 5812, '1pm': 5813, 'mrt?': 5814, 'evening?': 5815, 'babyjontet!': 5816, 'enc': 5817, 'ga.': 5818, 'alter': 5819, 'dats': 5820, 'dogg': 5821, 'refund': 5822, 'bruv,': 5823, 'break.': 5824, 'k:)k:)good:)study': 5825, 'prediction.': 5826, 'should.': 5827, 'atm': 5828, 'register.': 5829, 'ubandu': 5830, 'installing': 5831, 'disk...you': 5832, 'shop..': 5833, 'scenery': 5834, 'flyng': 5835, 'start?': 5836, 'aries': 5837, 'elama': 5838, 'mudyadhu.': 5839, 'strict': 5840, 'teacher...': 5841, 'exam,': 5842, 'lessons.': 5843, 'gandhipuram': 5844, 'rubber': 5845, '10p.': 5846, '25.': 5847, '-msg': 5848, 'recd@thirtyeight': 5849, 'upstairs': 5850, 'you?when': 5851, 'hearing': 5852, 'cant.': 5853, 'pleassssssseeeeee': 5854, 'sportsx': 5855, 'signing,': 5856, 'baig': 5857, 'watches': 5858, 'touched...': 5859, 'commercial?': 5860, 'dearly': 5861, 'ups': 5862, '3days': 5863, 'also,': 5864, '2wks.': 5865, 'usps': 5866, 'lag': 5867, 'bribe': 5868, 'nipost': 5869, 'mini!!!!': 5870, 'luton': 5871, '0125698789': 5872, 'around!': 5873, 'h*': 5874, 'sometme': 5875, 'changed!': 5876, 'credits!': 5877, 'club4mobiles.com': 5878, '87070.': 5879, '150p/wk': 5880, 'club4': 5881, 'box1146': 5882, 'evo.': 5883, 'flash.': 5884, 'jealous?': 5885, 'ringtone!': 5886, 'narcotics': 5887, 'guess,': 5888, 'objection.': 5889, 'rob': 5890, 'mack': 5891, 'gf': 5892, 'theater': 5893, 'celebrations': 5894, 'tool?': 5895, 'someone,': 5896, 'u.....': 5897, 'special,': 5898, 'them,': 5899, 'keep-in-touch\"': 5900, 'gdeve..': 5901, 'ahold': 5902, 'cruisin': 5903, 'dear,shall': 5904, 'tonite.busy': 5905, 'street,shall': 5906, 'tonite.things': 5907, 'ok.varunnathu': 5908, 'edukkukayee': 5909, 'raksha': 5910, 'ollu.but': 5911, 'sense.': 5912, 'gautham': 5913, 'oops.': 5914, 'bit.': 5915, 'resend': 5916, '3680.offer': 5917, \"28thfeb.t&c's\": 5918, 'gurl': 5919, 'appropriate': 5920, 'diesel': 5921, 'scary,': 5922, 'second.': 5923, 'taxi?': 5924, 'fridge!': 5925, 'womdarfull': 5926, 'actor': 5927, '4u!:': 5928, 'rodds1': 5929, '21/m': 5930, 'aberdeen,': 5931, 'united': 5932, 'kingdom.': 5933, 'http://img.': 5934, 'ac/w/icmb3cktz8r7!-4': 5935, 'remb...': 5936, 'book...': 5937, 'jos': 5938, 'themob>': 5939, 'tones,': 5940, 'gossip,': 5941, 'keys?': 5942, 'bookshelf': 5943, 'quiz,': 5944, '85222': 5945, 'now!t&cs': 5946, 'winnersclub': 5947, '84,': 5948, '3uz.': 5949, 'gbp1.50/week': 5950, '2day,': 5951, 'way&this': 5952, 'unique&i': 5953, 'mylife.': 5954, 'k.k:)advance': 5955, 'pongal.': 5956, 'hmmm...': 5957, 'yoga...': 5958, 'guess...': 5959, 'l8': 5960, 'gon': 5961, 'guild.': 5962, 'flight!': 5963, 'k.k:)apo': 5964, 'k.good': 5965, '..?': 5966, 'evaporated': 5967, 'violated': 5968, 'stealing': 5969, \"employer's\": 5970, 'paperwork.': 5971, 'supervisor.': 5972, 'custcare:08718720201.': 5973, 'ta-daaaaa!': 5974, 'wined': 5975, 'dined': 5976, 'phone...': 5977, 'caroline': 5978, 'favourite.': 5979, 'bless': 5980, 'hiding': 5981, 'stranger?': 5982, 'yijue.': 5983, 'huiming': 5984, 'prestige': 5985, 'shag?': 5986, 'do.interested?': 5987, 'sextextuk.com': 5988, 'xxuk': 5989, '69876.': 5990, 'jeremiah.': 5991, 'iphone': 5992, 'apeshit': 5993, 'alcohol?': 5994, 'safely': 5995, 'calling.forgot': 5996, 'onam': 5997, 'sirji.i': 5998, 'person.meet': 5999, 'insha': 6000, 'allah.rakhesh,': 6001, 'tata': 6002, 'aig': 6003, 'tissco,tayseer.': 6004, '08708800282': 6005, 'actor.': 6006, 'unemployed': 6007, 'moment,': 6008, 'unemployed,': 6009, 'andrews-boy': 6010, 'chikku:-):-db-)': 6011, 'prob..': 6012, \"audrey's\": 6013, 'sunshine!': 6014, 'dawns': 6015, 'refreshed': 6016, 'alive?': 6017, 'z': 6018, 'bluetooth!': 6019, 'call2optout/f4q=': 6020, 'rp176781.': 6021, 'www.regalportfolio.co.uk.': 6022, '08717205546': 6023, 'uniform?': 6024, 'cuddling': 6025, 'spoil': 6026, 'agree': 6027, 'price.': 6028, 't91.': 6029, 'gbp': 6030, '09057039994': 6031, 'me..i': 6032, 'face.:)': 6033, 'lindsay': 6034, 'bars': 6035, 'heron': 6036, 'payasam': 6037, 'rinu': 6038, 'taught': 6039, 'becaus': 6040, 'verifying': 6041, 'prabu': 6042, 'repairs': 6043, 'tests,': 6044, 'followin': 6045, 'wallet': 6046, 'deal:-)': 6047, '945+': 6048, 'owl': 6049, 'buffet': 6050, 'only?': 6051, 'kickboxing': 6052, 'lap': 6053, '7.30ish?': 6054, 'performance': 6055, 'calculated': 6056, 'month.not': 6057, 'period..': 6058, 'sis.': 6059, 'wake.': 6060, 'violated.': 6061, 'salam': 6062, 'wahleykkum.sharing': 6063, 'news.by': 6064, 'god,': 6065, 'tayseer,tissco': 6066, 'joined.hope': 6067, 'fine.inshah': 6068, 'allah,meet': 6069, 'sometime.rakhesh,visitor': 6070, 'hmmm...k...but': 6071, 'field': 6072, 'da:-)i': 6073, 'administrator': 6074, 'administrator..': 6075, 'tone!': 6076, '2814032': 6077, '3x£150pw': 6078, 'e£nd': 6079, 'shipped.': 6080, 'stoners': 6081, 'disastrous': 6082, 'fav': 6083, 'darlings!': 6084, 'always?': 6085, 'busetop': 6086, 'iron': 6087, 'okies...': 6088, 'blah...': 6089, 'wendy': 6090, 'cal;l': 6091, '09064012103': 6092, 'yes:)from': 6093, '09111032124': 6094, 'pobox12n146tf150p': 6095, 'siva': 6096, 'hostel': 6097, 'aha:-.': 6098, '09058094455': 6099, 'voice.....': 6100, 'expression?': 6101, '1.childish': 6102, '2.naughty': 6103, '3.sentiment': 6104, '4.rowdy': 6105, '5.ful': 6106, 'attitude': 6107, '6.romantic': 6108, '7.shy': 6109, '8.attractive': 6110, '9.funny': 6111, '.irritating': 6112, '.lovable.': 6113, 'urination': 6114, 'esplanade..': 6115, 'hillsborough': 6116, 'shoul': 6117, 'iouri,': 6118, 'txt~journey': 6119, 'hasnt': 6120, 'gd,now': 6121, 'arrange.': 6122, 'werethe': 6123, 'monkeespeople': 6124, 'monkeyaround!': 6125, 'howdy': 6126, 'gorgeous,': 6127, 'howu': 6128, 'foundurself': 6129, 'jobyet': 6130, 'sausage?love': 6131, 'blimey,': 6132, 'exercise,': 6133, 'concentration': 6134, 'years?': 6135, 'hanks': 6136, 'lotsly!': 6137, 'k:)k:)what': 6138, 'detail': 6139, 'transfer?acc': 6140, 'optimistic': 6141, 'si.': 6142, 'truffles.': 6143, 'amy': 6144, 'consistently': 6145, 'kind.': 6146, 'practicum': 6147, 'links': 6148, 'ears': 6149, '1.20': 6150, 'feeling.wavering': 6151, 'individual.time': 6152, 'heal': 6153, 'upgrdcentre': 6154, '9153.': 6155, 'july.': 6156, 'oral.': 6157, 'position.': 6158, 'roads': 6159, 'slippery': 6160, 'bike?': 6161, 'language.': 6162, 'okmail:': 6163, 'screamed,': 6164, 'enters': 6165, 'removed.': 6166, 'differ': 6167, 'differ.be': 6168, 'cos...': 6169, '69888nyt.': 6170, 'heart-': 6171, '9t:)': 6172, 'ah?what': 6173, 'machi?any': 6174, \"when're\": 6175, 'mcr': 6176, 'carlos,': 6177, 'jaykwon': 6178, 'thuglyfe': 6179, 'falconerf': 6180, 'railway.': 6181, 'boye,': 6182, 'faded': 6183, 'glory,': 6184, 'ralphs': 6185, 'message?': 6186, \"account's\": 6187, 'would,': 6188, 'reunion?': 6189, 'now?can': 6190, 'when?': 6191, 'monday...': 6192, 'accenture': 6193, 'jackson': 6194, '7ish,': 6195, 'reache': 6196, 'nuerologist.': 6197, 'lolnice.': 6198, '..water.?': 6199, 'westshore': 6200, 'village,': 6201, 'need....|': 6202, 'significance?': 6203, \"g's\": 6204, 'ammo': 6205, 'ak': 6206, 'forgiven': 6207, 'no..jst': 6208, 'only..': 6209, '150p/mtmsgrcvd18+': 6210, 's:)no': 6211, 'boltblue': 6212, 'poly#': 6213, 'mono#': 6214, 'poly3': 6215, 'jamz': 6216, 'toxic': 6217, 'topped': 6218, 'http://www.bubbletext.com': 6219, 'renewal': 6220, 'tgxxrz': 6221, 'problematic': 6222, 'bday,': 6223, 'unconscious': 6224, 'adults': 6225, 'abnormally.': 6226, 'elsewhere.': 6227, 'rude,': 6228, 'campus?': 6229, 'urgent!:': 6230, '0871-872-9755': 6231, \"x'mas.\": 6232, 'recieve': 6233, '24hrs.': 6234, 'channel': 6235, 'teletext': 6236, 'double-faggot': 6237, '07815296484': 6238, '41782': 6239, '18/11/04': 6240, 'l8r': 6241, 'bani': 6242, 'especially.': 6243, 'leads': 6244, 'while,': 6245, '&lt;)': 6246, 'buttons': 6247, 'tirupur': 6248, 'www.applausestore.com': 6249, 'monthlysubscription@50p/msg': 6250, 'max6/month': 6251, 't&csc': 6252, '2stop': 6253, 'famous': 6254, \"'anything'\": 6255, 'unconditionally': 6256, 'temper': 6257, 'confidence,': 6258, '.........': 6259, \"'married'\": 6260, 'self.': 6261, 'oclock': 6262, 'bash': 6263, 'recovery': 6264, 'cooped': 6265, 'invitation': 6266, 'cali': 6267, \"bloke's\": 6268, 'weddin': 6269, 'alibi.': 6270, 'sink': 6271, 'paces,': 6272, 'cage': 6273, 'surrounded': 6274, 'enjoy,': 6275, 'cuck': 6276, 'weed-deficient': 6277, 'acknowledgement': 6278, 'astoundingly': 6279, 'tactless': 6280, 'oath': 6281, 'magic.': 6282, 'perhaps.': 6283, 'silly': 6284, 'isn‘t': 6285, 'uv': 6286, 'causes': 6287, 'mutations.': 6288, 'sunscreen': 6289, 'thesedays': 6290, 'lunch:)you': 6291, 'online?why?': 6292, 'pretty.': 6293, 'mei,': 6294, 'haven': 6295, 'huh,': 6296, 'bao': 6297, 'sugardad': 6298, 'ah...gee..': 6299, \"me:)i'm\": 6300, 'brownie': 6301, 'ninish,': 6302, 'icky': 6303, 'freek': 6304, 'eh?': 6305, 'ridden': 6306, 'ey?': 6307, 'anyways,': 6308, 'pleasure!': 6309, 'dick!': 6310, 'missy?': 6311, 'clean...': 6312, 'goggles': 6313, 'door?': 6314, 'daddy...': 6315, 'call09050000327': 6316, 'arguing': 6317, '£5000,': 6318, '09050005321.': 6319, 'arngd': 6320, 'walkin': 6321, 'unfortuntly': 6322, 'bites': 6323, 'frnt': 6324, 'sayin': 6325, 'textand': 6326, '08002988890': 6327, 'ex-wife': 6328, 'kids.': 6329, 'scotland.': 6330, 'jjc': 6331, 'tendencies.': 6332, 'hmmm,': 6333, '\"pete': 6334, 'meive': 6335, 'gotany': 6336, 'credit\"': 6337, 'srsly': 6338, 'yi': 6339, '07753741225': 6340, '08715203677': 6341, '42478': 6342, '24/10/04': 6343, 'prix?': 6344, 'stranger': 6345, 'stands,': 6346, 'ends.': 6347, 'forever!!!': 6348, 'nitz...': 6349, 'pie.': 6350, 'ar.': 6351, 'blastin..': 6352, 'occur': 6353, 'on..': 6354, 'rajnikant': 6355, 'swimming': 6356, 'ocean..:-d': 6357, 'xclusive@clubsaisai': 6358, '28/5': 6359, 'speciale': 6360, 'zouk': 6361, 'paris.free': 6362, 'roses': 6363, 'info:': 6364, '07946746291/07880867867': 6365, 'bridgwater': 6366, 'banter': 6367, 'somethin.': 6368, '22': 6369, 'removed': 6370, '83222': 6371, 'best?rply': 6372, 'dependents': 6373, 'thanx4': 6374, 'cer': 6375, 'soon.c': 6376, 'him:)then': 6377, '\"happy': 6378, 'hundreds': 6379, 'handsomes': 6380, 'beauties': 6381, 'aunties': 6382, '1st...': 6383, 'shock': 6384, 'happiness..': 6385, 'friendships': 6386, 'grow.': 6387, 'words....': 6388, 'dismay': 6389, 'concerned': 6390, 'straight,': 6391, 'useful': 6392, 'hear,': 6393, 'tootsie': 6394, 'pop?': 6395, 'longer.': 6396, '89693': 6397, 'seventeen': 6398, 'seven': 6399, 'hundred': 6400, 'ml': 6401, 'apply.2': 6402, '80062.': 6403, 'funny...': 6404, 'sweetheart,': 6405, 'biola': 6406, 'fetching': 6407, 'restock': 6408, 'thanksgiving,': 6409, 'effects!': 6410, 'brighten': 6411, 'allo!': 6412, 'braved': 6413, 'triumphed.': 6414, 'b‘ham.': 6415, 'uncomfortable.': 6416, '08715203694': 6417, 'call09050000327.': 6418, 'sonetimes': 6419, 'rough': 6420, 'tuesday?': 6421, 'wesleys': 6422, 'drugs!': 6423, \"dealer's\": 6424, 'rays.': 6425, 'cloud': 6426, 'rain.': 6427, 'more,': 6428, 'wikipedia.com': 6429, '88800': 6430, '89034': 6431, '08718711108': 6432, 'repent': 6433, 'first...': 6434, 'de:-).': 6435, 'next:-)..': 6436, 'positions': 6437, 'kama': 6438, 'sutra': 6439, 'nange': 6440, 'bakra': 6441, 'kalstiya..then': 6442, 'tea/coffee?': 6443, \"carlos'll\": 6444, 'lakhs:)': 6445, 'msg?': 6446, 'laugh!': 6447, 'sun0819': 6448, 'posts': 6449, 'hello:\"you': 6450, 'hi!!!\"': 6451, '08452810071': 6452, 'ditto.': 6453, 'peace.': 6454, 'milk..': 6455, 'maybe?!': 6456, 'wetherspoons?': 6457, 'piggy,': 6458, 'freaky': 6459, 'yelling': 6460, 'scrappy.': 6461, \"'hex'\": 6462, 'explain!': 6463, 'sdryb8i': 6464, 'sue.': 6465, 'lapdancer.': 6466, 'sex.': 6467, 'sue': 6468, '89555.': 6469, 'g2': 6470, '1da': 6471, '150ppmsg': 6472, 'lect.': 6473, 'crying': 6474, 'map..': 6475, 'imprtant': 6476, 'tomorw.': 6477, 'dear,me': 6478, 'cherthala.in': 6479, 'bfore': 6480, 'start.i': 6481, 'accordingly.or': 6482, 'coming.tmorow': 6483, 'engaged': 6484, 'holiday.': 6485, 'bold.': 6486, '448712404000>please': 6487, '08712404000': 6488, 'open?': 6489, '1405,': 6490, '1680,': 6491, '1843.': 6492, 'small,': 6493, 'law,': 6494, 'entrepreneurs': 6495, \"alex's\": 6496, 'corporation': 6497, 'working!': 6498, 'k..u': 6499, 'pay?': 6500, 'prevent': 6501, 'dehydration': 6502, 'fluids': 6503, 'weird,': 6504, '?-': 6505, 'happening?': 6506, 'dear..i': 6507, 'so.so': 6508, \"sms'd\": 6509, 'trek': 6510, 'town,': 6511, 'harri': 6512, 'n-gage': 6513, 'deck': 6514, 'nokia,': 6515, 'www.cnupdates.com/newsletter.': 6516, 'alerts': 6517, 'shitstorm': 6518, 'attributed': 6519, '08714712388': 6520, 'dorm': 6521, 'account,': 6522, '+449071512431': 6523, 'lesson?': 6524, 'sth...': 6525, 'specs.': 6526, 'px3748': 6527, '08714712394': 6528, 'macha': 6529, 'upset.i': 6530, 'mindset.believe': 6531, 'us.let': 6532, 'again.call': 6533, \"s'fine.\": 6534, 'anytime.': 6535, 'wondar': 6536, 'flim.': 6537, 'cookies': 6538, 'jelly': 6539, 'still.maybe': 6540, 'same,so': 6541, 'it.or': 6542, 'admit,i': 6543, 'mad.then': 6544, 'correction?or': 6545, 'life.and': 6546, 'world,may': 6547, 'running.lets': 6548, 'scrumptious...': 6549, 'long!': 6550, 'dao': 6551, 'omw,': 6552, 'half8th': 6553, 'exactly.': 6554, 'jide': 6555, 'visiting': 6556, 'alertfrom:': 6557, 'jeri': 6558, 'stewartsize:': 6559, '2kbsubject:': 6560, 'low-cost': 6561, 'prescripiton': 6562, 'drvgsto': 6563, '123': 6564, \"didn't.\": 6565, 'steak': 6566, 'convincing..just': 6567, 'neglect': 6568, 'it..just': 6569, 'opportunity.all': 6570, 'fast.pls': 6571, 'prayers': 6572, 'dear.rakhesh': 6573, ':)all': 6574, 'ahead:': 6575, '….': 6576, \"hadn't\": 6577, 'clocks': 6578, 'realised': 6579, 'wahay.': 6580, 'ladies.': 6581, 'gaze': 6582, 'eyes.': 6583, 'lido.': 6584, '930.': 6585, 'chance.': 6586, '82324.': 6587, '08706091795': 6588, 'year?': 6589, 'years,': 6590, 'tattoos?': 6591, 'caveboy': 6592, 'sorry-i': 6593, 'confused': 6594, 'please?!': 6595, 'holla?': 6596, 'faith': 6597, 'possible,hope': 6598, 'work,love': 6599, 'beautiful,may': 6600, 'christmas!merry': 6601, 'christmas!': 6602, 'you/carlos': 6603, 'is/are': 6604, \"phone's\": 6605, 'vibrate': 6606, 'paris.': 6607, 'nights,': 6608, '£79': 6609, '08704439680ts&cs': 6610, 'grandmas.': 6611, 'ill?': 6612, 'hungover!': 6613, 'unclaimed!': 6614, '09066368327': 6615, 'closingdate04/09/02': 6616, 'claimcode': 6617, 'm39m51': 6618, '£1.50pmmorefrommobile2bremoved-mobypobox734ls27yf': 6619, 'gua...': 6620, 'faber': 6621, 'yest...': 6622, 'goin,': 6623, 'dramatic.': 6624, 'schools': 6625, 'closed': 6626, 'hunting': 6627, 'drunkard!': 6628, 'idc': 6629, 'weaseling': 6630, 'trash.': 6631, 'card!': 6632, 'slave,': 6633, 'punish': 6634, 'beerage?': 6635, 'randomlly': 6636, 'fixes': 6637, 'spelling.': 6638, 'partner?': 6639, 'community.': 6640, '(100p/sms)': 6641, '087018728737,': 6642, 'toppoly': 6643, 'tune': 6644, '81618,': 6645, 'pole.': 6646, '08718727870.': 6647, 'fondly': 6648, 'y?where': 6649, 'dogbreath?': 6650, 'sounding': 6651, 'al!!!!!!!!!': 6652, 'scream.': 6653, 'weighed': 6654, 'weight!': 6655, 'woohoo!': 6656, 'uncountable': 6657, 'dictionary.': 6658, 'around.': 6659, '9996.': 6660, '14thmarch.': 6661, 'availa': 6662, '\"petey': 6663, 'whereare': 6664, 'friendsare': 6665, 'thekingshead': 6666, 'canlove': 6667, 'nic\"': 6668, '\"gimme': 6669, 'few\"': 6670, 'php.': 6671, 'rg21': 6672, '4jx': 6673, 'dled': 6674, 'imp': 6675, 'smokin': 6676, 'boooo': 6677, 's:)s.nervous': 6678, 'costumes.': 6679, 'yowifes.': 6680, 'borrow': 6681, 'outbid': 6682, 'simonwatson5120': 6683, 'shinco': 6684, 'plyr.': 6685, 'ac/smsrewards': 6686, 'notifications,': 6687, 'youi': 6688, 'dobby': 6689, '\"boo': 6690, 'yourjob?': 6691, 'hunny!hope': 6692, 'ok?take': 6693, \"i'llspeak\": 6694, 'soonlots': 6695, 'xxxx.\"': 6696, 'starshine!': 6697, '*sips': 6698, 'cappuccino*': 6699, 'smsservices.': 6700, 'yourinclusive': 6701, 'bits': 6702, 'turned': 6703, 'green,': 6704, 'burial.': 6705, 'rv': 6706, 'roads!rvx': 6707, 'offer:)': 6708, 'vouchers-text': 6709, 'now!savamob-member': 6710, 'comprehensive': 6711, 'paying,': 6712, \"prashanthettan's\": 6713, 'k.k:)when': 6714, 'suite:': 6715, 'warning': 6716, 'samantha': 6717, 'guitar': 6718, 'impress': 6719, 'doug': 6720, 'realizes': 6721, 'trauma': 6722, 'swear': 6723, 'office:)whats': 6724, 'matter..msg': 6725, 'break:).': 6726, 'us,': 6727, 'shoes.': 6728, 'real,': 6729, 'inner': 6730, 'tigress...': 6731, '\"ah': 6732, 'baby!hope': 6733, 'urfeeling': 6734, 'bettersn': 6735, 'probthat': 6736, 'overdose': 6737, 'story.': 6738, 'sexy!!': 6739, '83110': 6740, 'meet.': 6741, 'ana': 6742, 'sathy': 6743, 'rto': 6744, 'spoons': 6745, 'okay?': 6746, 'connections,': 6747, 'corvettes': 6748, '09061104283': 6749, '£1.50pm': 6750, 'bunkers': 6751, '07808': 6752, 'xxxxxx': 6753, '08719899217': 6754, 'posh': 6755, 'chaps': 6756, 'trial': 6757, 'prods': 6758, 'champneys.': 6759, 'dob': 6760, 'asap.': 6761, 'xmas?': 6762, '0721072': 6763, 'more!': 6764, 'philosophical': 6765, 'hole,': 6766, 'saved!': 6767, 'good...no': 6768, 'problem..but': 6769, 'experience': 6770, 'voice...': 6771, 'exhausted.': 6772, 'atleast': 6773, 'day...!!!': 6774, 'world...!!!': 6775, '-shakespeare-': 6776, '09065171142-stopsms-08': 6777, 'reminder:': 6778, 'http://doit.': 6779, 'mymoby.': 6780, 'tv/': 6781, 'woul': 6782, 'curfew.': 6783, 'gibe': 6784, 'getsleep': 6785, 'anything,': 6786, 'studdying': 6787, 'training.': 6788, 'massages.': 6789, 'oil...': 6790, 'position?': 6791, 'yoyyooo': 6792, 'permissions': 6793, 'mac.': 6794, 'gibbs': 6795, 'unsold.mike': 6796, 'hussey': 6797, 'failed.': 6798, 'sad.': 6799, 'unbelievable': 6800, 'faglord': 6801, 'nutter.': 6802, 'cutter.': 6803, 'ctter.': 6804, 'cttergg.': 6805, 'cttargg.': 6806, 'ctargg.': 6807, 'ctagg.': 6808, 'ie': 6809, 'thus': 6810, 'grateful': 6811, 'happier': 6812, 'today.\":-)': 6813, 'agents': 6814, 'boston,': 6815, 'experiment.': 6816, 'thing,': 6817, 'invoices': 6818, 'where.': 6819, 'smell': 6820, 'tobacco...': 6821, 'assumed': 6822, 'lastest': 6823, 'stereophonics,': 6824, 'marley,': 6825, 'dizzee': 6826, 'racal,': 6827, 'libertines': 6828, 'strokes!': 6829, 'nookii': 6830, 'flirt!!': 6831, 'bookmark': 6832, 'grinule': 6833, 'fudge': 6834, 'oreos': 6835, \"zaher's?\": 6836, \"can't.\": 6837, 'nauseous.': 6838, 'dieting': 6839, 'early.': 6840, 'yck?': 6841, \"ashley's\": 6842, 'avalarr': 6843, 'hollalater': 6844, 'rounds': 6845, 'today..but': 6846, 'website..now': 6847, 'blogging': 6848, 'magicalsongs.blogspot.com': 6849, 'chikku..il': 6850, 'slices': 6851, 'k:)i': 6852, 'kvb': 6853, 'details:)': 6854, 'money!!!': 6855, '£1million': 6856, 'ppt150x3+normal': 6857, 'box403': 6858, 'w1t1jy': 6859, 'friday.hope': 6860, 'alternative.hope': 6861, \"term's\": 6862, 'ok:-)': 6863, 'ore': 6864, 'owo': 6865, 'wa.': 6866, 'fro': 6867, 'samus': 6868, 'shoulders': 6869, 'matthew': 6870, '09063440451': 6871, '4*lux': 6872, 'ppm150': 6873, 'box334': 6874, 'sk38xh.': 6875, 'jeans': 6876, 'when,': 6877, 'side,': 6878, 'fever,': 6879, 'vomitin.': 6880, 'k:)k.are': 6881, '09061749602': 6882, '528': 6883, 'hp20': 6884, '1yf': 6885, 'stuffed': 6886, 'writhing': 6887, 'coins.': 6888, 'paypal.': 6889, 'voila!': 6890, 'pockets:)': 6891, 'theyre': 6892, 'places.': 6893, 'folks': 6894, 'company?': 6895, '(150p/sms)': 6896, 'sorta': 6897, 'blown': 6898, 'sophas': 6899, 'secondary': 6900, 'schools.': 6901, 'applying,': 6902, 'ogunrinde,': 6903, 'useful?': 6904, 'lodging': 6905, 'chk': 6906, 'ms': 6907, 'dict': 6908, 'shb': 6909, \"dobby's\": 6910, 'stories': 6911, 'in...': 6912, 'retired': 6913, 'natwest.': 6914, 'person!': 6915, 'chad': 6916, 'gymnastics': 6917, 'christians': 6918, 'full..': 6919, 'back?.a': 6920, 'token': 6921, 'you.thats': 6922, 'liking.be': 6923, 'see..no': 6924, 'that.dont': 6925, 'aptitude': 6926, '2.15': 6927, 'horse': 6928, 'mah,': 6929, 'rice.': 6930, 'closes': 6931, 'wrongly': 6932, 'boggy': 6933, 'biatch!': 6934, 'hesitate.': 6935, 'weakness': 6936, 'notebook': 6937, 'alcohol.': 6938, 'eightish': 6939, 'carpark.': 6940, 'ah.the': 6941, 'tomorrow.call': 6942, '67441233': 6943, 'irene.ere': 6944, 'bus8,22,65,61,66,382.': 6945, 'cres,ubi': 6946, 'park.6ph': 6947, '5wkg': 6948, 'days.èn': 6949, 'sd': 6950, 'la.': 6951, 'butt': 6952, 'sore.': 6953, 'relaxing': 6954, 'ever!': 6955, '7am': 6956, '5ish.': 6957, 'stripes': 6958, 'skirt...': 6959, \"can't,\": 6960, 'number!': 6961, 'escalator...': 6962, 'quiet.': 6963, 'beth': 6964, 'charlie': 6965, 'lots.': 6966, 'helen': 6967, 'mo.': 6968, 'no..but': 6969, 'tat..': 6970, 'syllabus': 6971, 'umma.': 6972, 'panasonic': 6973, 'bluetoothhdset': 6974, 'doublemins': 6975, 'doubletxt': 6976, 'contract.': 6977, '7.30pm': 6978, 'poyyarikatur,kolathupalayam,unjalur': 6979, 'post,erode': 6980, 'dis,': 6981, 'hero,i': 6982, 'apt': 6983, 'opportunity.pls': 6984, '&lt;email&gt;': 6985, ',kerala': 6986, 'meat': 6987, 'lovers': 6988, 'supreme.': 6989, 'pick.': 6990, 'told..she': 6991, 'dear,regret': 6992, 'cudnt': 6993, 'call.drove': 6994, 'ctla': 6995, 'home.left': 6996, 'car..ente': 6997, 'ishtamayoo?happy': 6998, 'bakrid!': 6999, 'know..wait': 7000, 'glorious': 7001, 'finds': 7002, 'prey.': 7003, 'coaxing': 7004, 'images': 7005, 'fond': 7006, 'souveniers': 7007, 'cougar-pen': 7008, '09065394514': 7009, 'weekends?': 7010, 'sore': 7011, 'throat.': 7012, 'scratches': 7013, 'asleep?': 7014, 'no.1': 7015, 'sheffield!': 7016, 'nanny.': 7017, 'one!!': 7018, 'shitin': 7019, 'defo': 7020, 'hardest': 7021, 'millions': 7022, 'lekdog': 7023, 'baby,': 7024, 'blankets': 7025, 'sufficient,': 7026, 'thx': 7027, \"'its\": 7028, 'hurt,': 7029, 'hurt...:-)': 7030, 'other.': 7031, 'atten': 7032, 'indian?': 7033, '09058097218': 7034, 'who.': 7035, 'round,': 7036, 'age,': 7037, 'chatting!': 7038, '3rd?': 7039, 'closes?': 7040, 'data': 7041, 'analysis': 7042, 'thesis': 7043, 'belligerent': 7044, 'les': 7045, 'rudi': 7046, 'snoring.they': 7047, 'ink': 7048, 'bath.': 7049, '515': 7050, 'y?': 7051, \"how're\": 7052, 'throwing': 7053, 'process.networking': 7054, 'field.': 7055, 'days.so': 7056, 'prepared': 7057, 'finalise': 7058, '.dont': 7059, 'visit.need': 7060, 'works.': 7061, 'point!': 7062, 'www.flirtparty.us': 7063, 'replys150': 7064, 'dentist.': 7065, 'bathing...': 7066, 'lul': 7067, 'nurses': 7068, 'gettin.': 7069, 'shes': 7070, 'obese.': 7071, 'oyea.': 7072, 'oi.': 7073, 'ami': 7074, 'parchi': 7075, 're.': 7076, 'kicchu': 7077, 'kaaj': 7078, 'korte': 7079, 'iccha': 7080, 'korche': 7081, 'tul': 7082, 'copies.': 7083, 'sculpture': 7084, 'surya': 7085, '.after': 7086, 'pokkiri': 7087, 'attraction.i': 7088, 'me.she': 7089, 'thoughts.i': 7090, 'her.she': 7091, 'dream.love': 7092, 'name.my': 7093, 'her.my': 7094, 'her.will': 7095, 'sorrows.i': 7096, 'proove': 7097, 'planet.i': 7098, 'praises': 7099, 'makiing': 7100, 'sambar.life': 7101, 'then.will': 7102, 'lot..will': 7103, \"fr'ndship\": 7104, 'needle': 7105, 'clock,': 7106, 'meet,itz': 7107, '4few': 7108, 'seconds.': 7109, 'conected.': 7110, '9t;-)': 7111, 'spatula': 7112, 'hands!': 7113, '3030': 7114, \"cali's\": 7115, 'complexities': 7116, 'freely,': 7117, 'taxes': 7118, 'outrageous.': 7119, 'ryder': 7120, 'unsold.now': 7121, 'gibbs.': 7122, 'elvis': 7123, 'presleys': 7124, 'strips': 7125, 'postal': 7126, \"address.u'll\": 7127, 'alright.okay.': 7128, 'gifts!!': 7129, 'cliff': 7130, 'interesting.': 7131, 'wrking': 7132, 'nxt?': 7133, 'depressed': 7134, 'sittin': 7135, 'ring...': 7136, 'wind': 7137, 'drops': 7138, 'jeans...': 7139, 'hen': 7140, 'smoked': 7141, 's..first': 7142, 'time..dhoni': 7143, 'rocks...': 7144, 'teju': 7145, 'movie,': 7146, 'hourish?': 7147, 'no:)this': 7148, 'ground.amla': 7149, 'durban:)': 7150, 'convenience.': 7151, 'evaluation': 7152, '449050000301': 7153, 'price!': 7154, '09050000301.': 7155, 'dating?': 7156, 'speedchat,': 7157, 'speedchat': 7158, '80155,': 7159, 'swap': 7160, 'chatter!': 7161, 'chat80155': 7162, 'rcd': 7163, 'cheyyamo?and': 7164, 'survey': 7165, 'yesterday!': 7166, '80160': 7167, 'www.txt43.com': 7168, '1.50p': 7169, 'shit....!!\"': 7170, 'situation:': 7171, 'throws': 7172, 'brothers': 7173, 'gay,.;-):-d': 7174, 'hmv1': 7175, 'errors': 7176, 'difficulties,': 7177, 'correction.': 7178, 'pain?hope': 7179, 'fine..': 7180, 'tau': 7181, 'piah': 7182, '1stchoice.co.uk': 7183, '08707808226.': 7184, 'wearing?': 7185, 'oh:)as': 7186, 'different?': 7187, \"shade's\": 7188, 'really...': 7189, 'ago...': 7190, 'copied': 7191, 'use?': 7192, 'notified': 7193, 'marketing': 7194, '84122': 7195, '08450542832': 7196, 'driving...': 7197, 'raining!': 7198, 'tank': 7199, '(that': 7200, 'time?)': 7201, 'also...': 7202, 'virgins': 7203, 'sexual': 7204, 'theirs?': 7205, '69911(£1.50p.': 7206, 'm)': 7207, 'sitter': 7208, 'kaitlyn?': 7209, 'hey..': 7210, 'signing': 7211, 'tmr..': 7212, 'danger.': 7213, 'peeps': 7214, 'comment': 7215, 'veggie': 7216, 'pizza...': 7217, 'buying...': 7218, 'only...': 7219, 'neighbors': 7220, 'computerless.': 7221, 'truffles': 7222, 'balloon!': 7223, 'pass.they': 7224, 'nt.swt': 7225, 'drms': 7226, '@shesil': 7227, 'melody!': 7228, 'gf?': 7229, 'macs': 7230, 'prepared.': 7231, 'live,': 7232, 'q?': 7233, 'hme': 7234, 'islands,': 7235, 'velachery:)': 7236, 'flippin': 7237, 'sec,': 7238, 'breaking': 7239, 'cstore': 7240, 'hangin': 7241, 'alive.better': 7242, 'lodge': 7243, 'worrying': 7244, 'appt.': 7245, 'quizzes': 7246, 'popcorn': 7247, 'jordan!': 7248, '88600.': 7249, 'celeb!': 7250, '087016248': 7251, '08719181503': 7252, 'matter.': 7253, 'thin': 7254, 'fault&al': 7255, 'arguments': 7256, 'fault&fed': 7257, 'himso': 7258, 'bother?': 7259, '2go,': 7260, 'thanx.xx': 7261, 'understanding.': 7262, 'appreciated': 7263, 'two!': 7264, 'semi': 7265, 'p.': 7266, 'subscriber,': 7267, 'bonus!': 7268, '150p/msg,': 7269, 'exp.': 7270, '30apr': 7271, 'arms...': 7272, 'maaaan': 7273, 'guessin': 7274, 'walmart': 7275, 'ilol': 7276, 'personally': 7277, 'wuldnt': 7278, 'bother,': 7279, 'well!!': 7280, 'lunchtime,': 7281, 'organise': 7282, 'passable.': 7283, 'phd,': 7284, '5years': 7285, 'salary.': 7286, 'easier.': 7287, 'prakesh': 7288, 'betta': 7289, 'aging': 7290, 'products': 7291, '1hr': 7292, 'accommodation': 7293, 'global': 7294, 'www.phb1.com': 7295, 'ph:08700435505150p': 7296, 'submitting': 7297, 'fast.': 7298, 'snatch': 7299, '\"hello-/@drivby-:0quit': 7300, 'edrunk': 7301, 'iff': 7302, 'pthis': 7303, 'senrd-dnot': 7304, '^': 7305, 'dancce': 7306, 'drum': 7307, 'basq!ihave': 7308, '2nhite': 7309, 'ros': 7310, 'xxxxxxx\"': 7311, 'getting?': 7312, 'relieved': 7313, 'westonzoyland,': 7314, 'greatness.': 7315, 'world,': 7316, 'europe?': 7317, 'soon..': 7318, 'mean,': 7319, 'goin2bed': 7320, 'only1more': 7321, 'mc?': 7322, '2nite-tell': 7323, 'every1': 7324, 'ava': 7325, 'goodtime!oli': 7326, 'melnite': 7327, 'ifink': 7328, 'sorted,but': 7329, 'everythin': 7330, 'mon.l8rs.x': 7331, '08712402779': 7332, 'shun': 7333, 'bian': 7334, 'glass': 7335, 'exhibition...': 7336, 'el': 7337, 'nino': 7338, 'himself.': 7339, 'chikku..going': 7340, 'bus..': 7341, 'news:': 7342, 'downstem': 7343, '08718730555': 7344, 'wahala.': 7345, 'inperialmusic': 7346, 'listening2the': 7347, 'by\\x94leafcutter': 7348, 'john\\x94-sounds': 7349, 'insects': 7350, 'molested&someone': 7351, 'plumbing,remixed': 7352, 'evil': 7353, 'acid!': 7354, 'didntgive': 7355, 'bellearlier': 7356, 'hunny,just': 7357, 'bedbut': 7358, 'thepub': 7359, 'uwana': 7360, 'up?loads': 7361, 'jenxxx.\"': 7362, 'seriously.': 7363, '09096102316': 7364, 'hee.': 7365, 'lecture,': 7366, 'cheery': 7367, 'collected': 7368, 'operator.': 7369, '80488.biz': 7370, 'weirdo?': 7371, 'stalk': 7372, 'profiles?': 7373, 'drinkin': 7374, 'wondering,': 7375, 'hey...great': 7376, 'deal...farm': 7377, '9am': 7378, '5pm': 7379, '$95/pax,': 7380, '$50': 7381, 'deposit': 7382, 'jap': 7383, 'disappeared,': 7384, 'certificate': 7385, 'publish': 7386, 'secret.': 7387, 'wheellock?': 7388, 'sure!': 7389, 'destination': 7390, '8th?': 7391, 'fifty?': 7392, 'daily': 7393, 'favour': 7394, 'settling': 7395, 'happenin': 7396, 'ola?': 7397, 'cocksuckers.': 7398, 'ipads': 7399, 'worthless': 7400, 'novelty': 7401, 't-shirt.': 7402, 'janx': 7403, 'p.s': 7404, 'dads': 7405, 'fone,': 7406, '-no': 7407, 'designation': 7408, 'developer': 7409, 'chennai:)': 7410, 'jamster': 7411, 'videosound': 7412, 'videosounds+2': 7413, 'logos+musicnews!': 7414, 'jamster.co.uk!': 7415, '16+only': 7416, 'call:': 7417, '09701213186': 7418, 'oni': 7419, 'lar..': 7420, 'spirit.': 7421, 'shattered.': 7422, 'alrite.': 7423, 'idiot?': 7424, 'girlie': 7425, 'bigger?': 7426, 'colours': 7427, 'darker': 7428, 'styling': 7429, 'sad,': 7430, 'gray,': 7431, 'remembr': 7432, 'listn': 7433, 'watevr': 7434, 'while,&amp;': 7435, 'smile.:-)': 7436, '“harry': 7437, 'u....': 7438, 'minus': 7439, '10..': 7440, 'paragraphs?': 7441, 'coveragd': 7442, 'urgnt': 7443, 'vasai': 7444, \"4'o\": 7445, 'clock': 7446, 'retard': 7447, 'bathroom,': 7448, '£500.': 7449, 'is:': 7450, 'sang': 7451, \"'uptown\": 7452, \"girl'\": 7453, \"80's\": 7454, '83600.': 7455, 'rush,': 7456, 'icic...': 7457, 'day...': 7458, 'syria': 7459, 'canada,': 7460, 'hearts,not': 7461, 'hurt..': 7462, 'closer..': 7463, 'goodnoon:)': 7464, 'gauge': 7465, \"patty's\": 7466, 'shower.': 7467, 'monday..nxt': 7468, 'completing..': 7469, 'ax': 7470, 'surgical': 7471, 'emergency': 7472, 'unfolds.': 7473, 'ar': 7474, 'married.': 7475, 'korean': 7476, \"leona's\": 7477, 'fredericksburg': 7478, 'que': 7479, 'pases': 7480, 'un': 7481, 'buen': 7482, 'tiempo': 7483, 'tmrw': 7484, 'compass': 7485, 'world....gnun': 7486, 'way2sms.com': 7487, 'goodnight,': 7488, 'baaaaabe!': 7489, 'misss': 7490, 'youuuuu': 7491, 'convince': 7492, 'witot': 7493, 'buyer': 7494, 'me?like': 7495, '%of': 7496, 'lovers...': 7497, 'becz': 7498, 'undrstndng': 7499, 'avoids': 7500, 'problems.': 7501, 'chain.': 7502, 'suffer.': 7503, 'read...': 7504, 'steamboat?': 7505, 'where?': 7506, 'yetunde,': 7507, 'forgive': 7508, 'messenger.': 7509, 'tp': 7510, 'bbq': 7511, '6ish.': 7512, 'everyso': 7513, 'often,': 7514, 'panicks': 7515, 'out--have': 7516, 'bears': 7517, 'nick,': 7518, 'tom,': 7519, 'dick.': 7520, 'fact,': 7521, 'types': 7522, 'txtauction': 7523, 'auntie': 7524, 'huai': 7525, 'juan': 7526, 'tel,': 7527, 'path': 7528, 'appear': 7529, 'us..': 7530, 'is..': 7531, '\"paths': 7532, 'walking..': 7533, 'waiting..\"': 7534, 'goodnight!': 7535, 'arm': 7536, 'reserve': 7537, 'thirunelvali': 7538, 'eve...i': 7539, 'net..no': 7540, 'available..i': 7541, 'tackle': 7542, 'tonght': 7543, 'comes?': 7544, 'ploughing': 7545, 'pile': 7546, 'ironing': 7547, 'chinky': 7548, 'wi': 7549, 'nz': 7550, 'weight,': 7551, 'effect...': 7552, 'gee,later': 7553, 'aust': 7554, 'recharged': 7555, 'kidding,': 7556, 'papa': 7557, 'lessons...': 7558, 'stretch...': 7559, 'check?': 7560, 'detailed': 7561, 'losers': 7562, 'kaiez...': 7563, 'beta...': 7564, 'babies!': 7565, 'k..k..any': 7566, 'urgent,': 7567, 'bucks,': 7568, 'noncomittal': 7569, 'character?': 7570, 'snickering': 7571, 'chords': 7572, 'no..few': 7573, 'before.went': 7574, 'wonder...': 7575, 'lmao.': 7576, '\"speak': 7577, 'silence...\"': 7578, 'mrng:-)': 7579, 'win150ppmx3age16': 7580, 'message..': 7581, 'revision?': 7582, 'boyf?': 7583, 'interviw': 7584, 'worried!x': 7585, 'what,': 7586, 'spreadsheet': 7587, 'determine': 7588, '\"smokes': 7589, 'entire': 7590, 'february,': 7591, 'dartboard.': 7592, 'condition': 7593, 'doubles': 7594, 'trebles!': 7595, 'sick.': 7596, 'gym!!!': 7597, 'recognises': 7598, 'alone\"': 7599, 'wisheds.': 7600, 'intrepid': 7601, 'duo': 7602, 'him!': 7603, 'about,': 7604, 'dunno...': 7605, 'uni?': 7606, 'tues': 7607, 'breeze...': 7608, 'fresh': 7609, 'flower...': 7610, 'twittering': 7611, 'birds...': 7612, '\"goodmorning': 7613, 'ya:)going': 7614, 'restaurant..': 7615, 'no?': 7616, 'ducking': 7617, 'chinchillas': 7618, 'function': 7619, 'headstart': 7620, '2.30ish': 7621, 'earlier-we': 7622, 'rummer.': 7623, 'flying': 7624, 'optin': 7625, 'bbc': 7626, 'charts': 7627, 'thanks2.': 7628, 'rajini': 7629, 'comes.': 7630, 'ya!': 7631, 'practical': 7632, 'june..': 7633, 'summers': 7634, 'area?': 7635, 'matched': 7636, 'join.': 7637, 'help08714742804': 7638, 'haha..': 7639, 'spys': 7640, 'mails': 7641, '09099725823': 7642, 'offering': 7643, 'yalru': 7644, 'astne': 7645, 'chikku..': 7646, 'innu': 7647, 'mundhe': 7648, 'ali': 7649, 'halla': 7650, 'bilo': 7651, '(marriage)program': 7652, 'edhae,': 7653, 'ovr': 7654, 'chikku..ali': 7655, 'vargu': 7656, 'meow': 7657, 'meow:-d': 7658, 'kinda.': 7659, 'twelve!': 7660, 'aah.': 7661, 'prone': 7662, 'falls.': 7663, '07801543489': 7664, 'latests': 7665, 'word:collect': 7666, 'no:83355!': 7667, 'tc-llc': 7668, 'ny-usa': 7669, '150p/mt': 7670, 'msgrcvd18+': 7671, 'permission.': 7672, 'meetins': 7673, 'cumin': 7674, '09099726395': 7675, 'dose': 7676, 'tablet': 7677, 'incomm': 7678, 'wait...should': 7679, 'ticket,': 7680, 'aft.': 7681, 'maps': 7682, 'dorm.': 7683, 'tiring': 7684, 'concentrating': 7685, 'welp?': 7686, 'browsin': 7687, 'compulsory': 7688, '(i': 7689, 'it)': 7690, 'lover!': 7691, 'wake,': 7692, 'gautham..': 7693, 'investigate': 7694, 'anywhere.': 7695, 'receive..': 7696, 'activate,': 7697, 'www.80488.biz': 7698, 'money...as': 7699, 'you...money': 7700, 'thing....how': 7701, 'sha!': 7702, 'weather.': 7703, 'vitamin': 7704, 'gals..': 7705, 'crucial': 7706, 'smile,': 7707, \"someone's\": 7708, 'jsco:': 7709, 'high,': 7710, '2channel': 7711, 'leadership': 7712, 'skills': 7713, 'strong.': 7714, 'psychic?': 7715, 'w/question.': 7716, 'jsco': 7717, 'host-based': 7718, 'idps': 7719, 'linux': 7720, 'systems.': 7721, 'converter': 7722, 'search:)': 7723, 'vote.': 7724, 'sayy': 7725, 'nit.': 7726, 'pete,is': 7727, 'leanne.what': 7728, 'now?:)': 7729, 'eight': 7730, 'sucks,': 7731, 'disc': 7732, 'internet.': 7733, 'great,': 7734, 'champ': 7735, 'glasgow!': 7736, 'k:)all': 7737, 'best:)congrats...': 7738, 'lovin...': 7739, 'install': 7740, 'browse': 7741, 'artists.': 7742, 'corect': 7743, 'speling': 7744, 'i.e.': 7745, 'sarcasm': 7746, '1/08/03!': 7747, '0871-4719-523': 7748, 'shuhui.': 7749, 'hi:)cts': 7750, 'employee': 7751, 'nike.': 7752, 'sooo': 7753, 'shouting..': 7754, 'settled?': 7755, 'dang!': 7756, 'unfortunately': 7757, 'bf...': 7758, 'feel?': 7759, 'play!!': 7760, 'earliest': 7761, 'nordstrom': 7762, 'conference': 7763, 'messages,': 7764, 'apply:': 7765, 'www.orange.co.uk/ow': 7766, 'degree.': 7767, 'finance.': 7768, 'bleak,': 7769, 'shant': 7770, 'anymore...': 7771, 'nearer...': 7772, 'snake.': 7773, 'raiden': 7774, 'chechi': 7775, 'totes.': 7776, 'wanna?': 7777, 'pierre': 7778, 'cardin': 7779, 'rhythm.': 7780, 'establish': 7781, 'rhythm': 7782, 'truro': 7783, 'ext.': 7784, 'adventure?': 7785, 'worry...use': 7786, 'cloth': 7787, 'pack.also': 7788, 'tablets.': 7789, 'sunroof': 7790, 'sub': 7791, 'tmrw.': 7792, 'ago,': 7793, 'blanked': 7794, 'image': 7795, 'kalainar': 7796, 'office.thenampet': 7797, 'cc': 7798, 'gd...': 7799, 'wah,': 7800, 'nosy': 7801, 'reacting': 7802, 'freaked?': 7803, 'satanic': 7804, 'imposter': 7805, 'me.need': 7806, 'price,so': 7807, 'it.may': 7808, 'destiny': 7809, 'be...': 7810, 'companion': 7811, 'chef': 7812, 'listener': 7813, 'organizer': 7814, 'boyfriend': 7815, 'sympathetic': 7816, 'athletic': 7817, 'courageous': 7818, 'determined': 7819, 'dependable': 7820, 'psychologist': 7821, 'pest': 7822, 'exterminator': 7823, 'psychiatrist': 7824, 'healer': 7825, 'stylist': 7826, 'driver': 7827, 'aaniye': 7828, 'pudunga': 7829, 'venaam..': 7830, 'brothas': 7831, 'chez': 7832, 'jules': 7833, 'eight,': 7834, 'hhahhaahahah': 7835, 'nig': 7836, 'leonardo': 7837, \"derek's\": 7838, '2years': 7839, 'strain': 7840, 'gives.': 7841, 'practical.': 7842, 'withdraw': 7843, 'anyhow': 7844, 'millers': 7845, 'fire.': 7846, 'spark.': 7847, 'rawring': 7848, 'xoxo': 7849, 'somewhr': 7850, 'den,': 7851, 'crushes..!!!;-)': 7852, 'honeymoon': 7853, 'outfit.': 7854, '08719899230': 7855, 'cheque.': 7856, 'olympics.': 7857, 'leo': 7858, 'k.then': 7859, 'patty': 7860, 'done/want': 7861, 'haul': 7862, 'problem:-)': 7863, 'wildlife': 7864, 'want2come.': 7865, 'that2worzels': 7866, 'wizzle': 7867, 'is?!': 7868, 'shanghai': 7869, 'cya...': 7870, '645': 7871, 'rt-king': 7872, 'pro': 7873, 'club>>': 7874, 'info@ringtoneking.co.uk': 7875, '08701237397': 7876, 'redeemable': 7877, 'www.ringtoneking.co.uk!': 7878, 'thnx': 7879, 'sef': 7880, 'anjie!': 7881, 'sense,': 7882, 'batch': 7883, 'fring': 7884, 'app?': 7885, 'nte.:-': 7886, 'doesn‘t': 7887, 'msgs.': 7888, '02072069400.': 7889, 'bx': 7890, '526,': 7891, 'happy...': 7892, 'talents!': 7893, '6pm.': 7894, 'animal!': 7895, '...*grins*...': 7896, 'adoring': 7897, '..shiny': 7898, 'warming': 7899, 'cared': 7900, 'surprised,': 7901, 'french': 7902, 'fooled': 7903, '0a$networks': 7904, 'companies': 7905, 'sms,': 7906, 'responsible': 7907, '\"suppliers\",': 7908, 'guarantee': 7909, 'comedy..cant': 7910, 'freemsg:feelin': 7911, 'lnly': 7912, 'company!': 7913, 'pic?txt': 7914, 'keen': 7915, 'dammit!!': 7916, 'wright': 7917, 'fly..': 7918, 'somewhat': 7919, 'event': 7920, 'laden.': 7921, 'wrecked.': 7922, 'loud..': 7923, 'spontaneously..': 7924, 'feel..': 7925, 'goodevening': 7926, 'dear..:)': 7927, 'buy...': 7928, 'fb.': 7929, 's:-)if': 7930, 'rgent!': 7931, 'class,': 7932, 'shower!': 7933, 'daytime': 7934, 'busty': 7935, '09099726429': 7936, 'janinexx': 7937, 'spageddies': 7938, 'phasing': 7939, 'fourth': 7940, 'dimension': 7941, 'yes..but': 7942, 'it.,': 7943, 'meaningful': 7944, 'ever:': 7945, 'everything:-(\"..': 7946, 'mornin:-)': 7947, 'lmao!nice': 7948, '09050001295': 7949, 'a21.': 7950, 'mobsi.com': 7951, '391784.': 7952, 'pc.': 7953, 'dub': 7954, 'je': 7955, 'words-': 7956, 'earth...': 7957, 'unspoken': 7958, 'inside..\"': 7959, 'fine!': 7960, 'ideas?': 7961, 'lei?': 7962, 'squatting': 7963, 'stopped.': 7964, '0089(my': 7965, 'digits)': 7966, '09063442151': 7967, 'sonathaya': 7968, 'soladha.': 7969, 'boss?': 7970, 'raping': 7971, 'dudes': 7972, 'poker': 7973, 'weightloss!': 7974, 'mushy...': 7975, 'embarrassed': 7976, 'stash': 7977, 'priya': 7978, 'sufficient': 7979, 'messy...': 7980, 'kilos': 7981, 'accidant': 7982, 'tookplace': 7983, 'ghodbandar': 7984, 'traffic': 7985, 'slovely.': 7986, 'ah.now': 7987, 'where?btw': 7988, 'nus': 7989, 'sc.': 7990, 'specialise': 7991, 'wad?': 7992, 'queen,': 7993, 'desparately': 7994, '(no': 7995, 'yet)': 7996, 'stereo': 7997, 'mi': 7998, 'album.': 7999, 'nt?': 8000, 'classmates?': 8001, 'fires.are': 8002, 'wow!': 8003, 'tour.': 8004, 'pre-book': 8005, 'club.': 8006, '81303.': 8007, 'trackmarque': 8008, 'info@vipclub4u.': 8009, 'missionary': 8010, 'standing...|': 8011, 'sleep..': 8012, 'entertaining': 8013, 'hugh': 8014, 'laurie': 8015, 'stick': 8016, 'stick.': 8017, 'praps': 8018, 'jon,': 8019, 'spain': 8020, 'dinero': 8021, \"'rents\": 8022, '12,000pes,': 8023, '£48,': 8024, 'tb,': 8025, 'james.': 8026, '\"alrite': 8027, 'hunny!wot': 8028, 'instead!': 8029, 'bedroom!love': 8030, 'complaining': 8031, 'mandy': 8032, 'sullivan': 8033, 'hotmix': 8034, 'fm...you': 8035, '£5000.00': 8036, 'easter': 8037, 'draw.....please': 8038, '09041940223': 8039, '29/03/05': 8040, 'transferred': 8041, 'else....': 8042, \"finn's\": 8043, 'rest:-).': 8044, 'bedroom...': 8045, '\"ey!': 8046, 'downon': 8047, 'theacusations..': 8048, 'itxt': 8049, 'iwana': 8050, 'wotu': 8051, 'thew/end...': 8052, 'haventcn': 8053, 'ages..ring': 8054, 'nething': 8055, 'sat.love': 8056, 'dine': 8057, 'lady!': 8058, 'conacted': 8059, 'you!to': 8060, '09111030116.': 8061, 'pobox12n146tf15': 8062, 'v.tired': 8063, 'wk,': 8064, 'inspection': 8065, 'nursery!': 8066, 'details..i': 8067, 'you.my': 8068, 'habit': 8069, 'life..': 8070, 'day:)': 8071, 'it..mail': 8072, 'panren': 8073, 'paru..': 8074, 'chuckin': 8075, 'trainners': 8076, 'carryin': 8077, 'bac': 8078, 'good:)dhanush': 8079, 'rocks': 8080, 'again:)': 8081, 'needing': 8082, 'times?': 8083, 'chikku..simple': 8084, 'habba..hw': 8085, 'dileep.thank': 8086, 'muchand': 8087, 'support...very': 8088, 'here,remember': 8089, 'venugopal': 8090, 'mentioned.tomorrow': 8091, 'late,i': 8092, 'there.goodnight': 8093, 'remembrs': 8094, 'much...': 8095, 'everytime...': 8096, 'yijue...': 8097, '3230': 8098, 'textbook': 8099, 'algorithms': 8100, 'edition...': 8101, '$50...': 8102, 'how.': 8103, 'watch.': 8104, 'always,': 8105, 'song..:-)': 8106, 'facebook?': 8107, 'alert!': 8108, '10k': 8109, '#150': 8110, 'voucher.': 8111, '09064018838.': 8112, 'cro1327': 8113, ';-(': 8114, 'recharge.': 8115, 'yes:)sura': 8116, 'tv.:)lol.': 8117, 'chat...': 8118, '4u.i': 8119, 'intend': 8120, \"iwas+marine&that's\": 8121, 'itried2tell': 8122, 'urmom.i': 8123, 'careabout': 8124, 'learned': 8125, 'fake': 8126, 'why.': 8127, 'excellent.': 8128, 'force.': 8129, 'iraq': 8130, 'afghanistan.': 8131, 'stable': 8132, 'honest.': 8133, 'traveling?': 8134, 'bless.get': 8135, 'dear...i': 8136, 'pray!': 8137, '1225': 8138, '£50award.': 8139, 'pai': 8140, 'seh': 8141, 'parts?': 8142, '\"getting': 8143, 'walsall': 8144, 'tue': 8145, '.terry\"': 8146, 'chatting': 8147, 'sian...': 8148, 'ccna': 8149, 'week??': 8150, 'shrek': 8151, '3d!!b)': 8152, 'fellow?': 8153, \"something's\": 8154, 'on)': 8155, 'dying': 8156, 'lifting': 8157, 'eating?': 8158, 'teresa.': 8159, 'people,': 8160, 'dec': 8161, \"you'ld\": 8162, 'bam': 8163, 'aid': 8164, 'usmle,': 8165, 'squishy': 8166, 'mwahs.': 8167, 'hottest': 8168, 'phone!!': 8169, 'wanting,': 8170, 'hello-': 8171, 'prominent': 8172, 'cheek': 8173, 'september': 8174, 'husband.': 8175, 'hack': 8176, 'chat.': 8177, 'backdoor': 8178, 'fraction': 8179, 'neo69': 8180, '09050280520,': 8181, 'subscribe': 8182, 'dps,': 8183, 'bcm': 8184, '8027': 8185, 'ldn,': 8186, '4.15': 8187, 'yeah.': 8188, '\"are': 8189, 'comingdown': 8190, 'da:)good': 8191, 'replacement': 8192, 'murali': 8193, 'player.why': 8194, 'sts': 8195, 'five.': 8196, 'engalnd!': 8197, 'telly': 8198, 'mia': 8199, 'elliot': 8200, 'kissing!': 8201, '1/2price': 8202, 'linerental,': 8203, 'x-net': 8204, 'mins&100txt/mth': 8205, \"b'tooth*.\": 8206, '2optout/d3wv': 8207, 'philosophy.': 8208, 'wipro:)you': 8209, 'years.': 8210, 'matric': 8211, '850.': 8212, '650.': 8213, '08718726970': 8214, 'payments': 8215, 'fedex': 8216, 'team..': 8217, 'k.:)you': 8218, 'reception': 8219, 'consensus': 8220, 'entertain': 8221, 'laugh,': 8222, 'tag': 8223, 'going.': 8224, 'messy': 8225, 'wednesday,': 8226, 'skype,': 8227, 'pictures,': 8228, 'laundry': 8229, 'underwear': 8230, 'bras': 8231, 'strewn': 8232, 'pillows': 8233, 'appointment.': 8234, 'fathima.': 8235, 'weaknesses': 8236, '*pushes': 8237, \"knee's*\": 8238, '*exposes': 8239, 'pulls': 8240, 'it*': 8241, '*wicked': 8242, 'sh': 8243, 'ready.all': 8244, 'supports': 8245, 'srt': 8246, 'thnk.': 8247, 'ps3': 8248, 'meant.': 8249, 'jontin': 8250, 'prize.to': 8251, 'banned': 8252, 'uk!': 8253, 'pen': 8254, 'biro': 8255, '09058094594': 8256, 'slave.': 8257, 'shell': 8258, 'unconsciously': 8259, 'unhappy': 8260, 'ass!': 8261, 'style?': 8262, 'jog.': 8263, '09061743811': 8264, 'knackered.': 8265, 'lark.': 8266, \"station's\": 8267, '09090900040': 8268, 'extreme': 8269, '[sic]': 8270, '60p': 8271, '24/7mp': 8272, '0870753331018+': 8273, 'video/pic': 8274, 'fones,': 8275, 'wild': 8276, 'pics,': 8277, '150p/rcvd': 8278, 'stop2stop)': 8279, 'lim': 8280, 'player.': 8281, 'parachute': 8282, 'coins???': 8283, 'placed': 8284, 'da:-)': 8285, 'unlimited...': 8286, 'lambda': 8287, 'angels': 8288, 'snowball': 8289, 'ello': 8290, 'pub??': 8291, 'dat?': 8292, 'ofice': 8293, 'ofice...got': 8294, 'duffer': 8295, 'grr': 8296, 'prescription.': 8297, 'pharmacy': 8298, 'away.': 8299, 'cook': 8300, '89693.': 8301, '08715500022': 8302, 'rpl': 8303, 'cnl': 8304, 'nor': 8305, 'fffff.': 8306, 'elsewhere': 8307, 'thk...': 8308, 'fujitsu': 8309, 'lifebook': 8310, 'zhong': 8311, 'qing': 8312, 'act': 8313, '4-6...': 8314, 'hypertension': 8315, 'mine&all': 8316, 'annoyin!': 8317, '08702490080': 8318, 'vpod': 8319, 'bath:-)': 8320, 'nigro': 8321, 'scratching': 8322, \"idea's?\": 8323, 'anyplaces': 8324, 'stops': 8325, '\"find': 8326, 'weed,': 8327, 'upset.': 8328, 'priority': 8329, 'do,\"': 8330, 'do.\"': 8331, 'ecstasy?': 8332, '09090204448': 8333, 'minded': 8334, 'a£1.50': 8335, 'minapn': 8336, 'ls278bb': 8337, 'imp.': 8338, 'flies': 8339, 'hittng': 8340, 'reflex': 8341, '10:10': 8342, 'adewale': 8343, 'egbon': 8344, 'min..stand': 8345, 'mary': 8346, 'jane.': 8347, 'no...': 8348, 'deduct': 8349, 'wrks': 8350, 'monkey': 8351, 'bitch..........': 8352, 'asshole..................': 8353, 'grab': 8354, 'sliding': 8355, '09065394973': 8356, 'payback.': 8357, '80488.': 8358, '31': 8359, 'tescos': 8360, 'feathery': 8361, 'bowa?': 8362, ':-d': 8363, 'infra': 8364, 'php': 8365, 'gep': 8366, 'cum?': 8367, '2006': 8368, 'fifa': 8369, 'held?': 8370, 'boat.': 8371, 'naked.': 8372, 'shhhhh': 8373, 'related': 8374, 'arul.': 8375, 'amk.': 8376, '09061743810': 8377, 'length': 8378, 'lazy.': 8379, 's..antha': 8380, 'corrct': 8381, 'dane': 8382, \"basket's\": 8383, 'page.': 8384, 'rupaul': 8385, 'tool!': 8386, 'practising': 8387, 'curtsey?': 8388, '\"yeh': 8389, 'sat,just': 8390, 'payed2day': 8391, 'havbeen': 8392, 'a£50': 8393, 'rise': 8394, '4my': 8395, 'havebeen': 8396, 'preschoolco-ordinator': 8397, '2i': 8398, 'feelingood': 8399, 'luv\"': 8400, 'memory': 8401, 'converted': 8402, 'live:)': 8403, 'themob>yo': 8404, 'yo-here': 8405, 'fone...': 8406, 's....s...india': 8407, 'african': 8408, 'soil..': 8409, 'roles': 8410, 'outreach.': 8411, 'orchard.': 8412, '8lb': 8413, '7oz.': 8414, 'brilliantly.': 8415, 'forwarding': 8416, 'intention': 8417, '*i*': 8418, 'visitors,': 8419, 'rules': 8420, 'happening,': 8421, 'bend': 8422, 'thia': 8423, 'inlude': 8424, 'previews.': 8425, 'ambrith..madurai..met': 8426, 'dha': 8427, 'marrge..remembr?': 8428, 'ever!!': 8429, 'kitty': 8430, 'shaved': 8431, 'natural?': 8432, 'bb.': 8433, \"anybody's\": 8434, 'tactful': 8435, 'skillgame,1winaweek,': 8436, 'age16.150ppermesssubscription': 8437, 'once?': 8438, 'eggs-pert': 8439, 'potato': 8440, 'head…': 8441, 'soon!': 8442, 'crammed': 8443, 'satsgettin': 8444, '4.47per': 8445, 'innings': 8446, 'apologize,': 8447, 'admit': 8448, 'pei': 8449, 'kid..': 8450, 'energy..': 8451, 'subtoitles': 8452, 'jot': 8453, 'store.like': 8454, 'cereals.': 8455, 'food,': 8456, 'gari': 8457, 'bugis.': 8458, 'bold2': 8459, 'calicut?': 8460, 'darlin..': 8461, 'mt..': 8462, '09094100151': 8463, 'mins!': 8464, 'cast': 8465, '(mob': 8466, 'vary).': 8467, 'aom,': 8468, 'gbp5/month.': 8469, 'aom': 8470, 'box61,m60': 8471, '1er': 8472, 'thkin': 8473, 'nb...': 8474, '.please': 8475, 'no..': 8476, 'resubbing': 8477, 'shadow.': 8478, 'slice': 8479, 'breadstick.': 8480, 'saeed': 8481, '09066362220': 8482, 'get!': 8483, \"red;i'm\": 8484, 'blue;u': 8485, 'purple;u': 8486, 'hot.': 8487, 'pink;u': 8488, 'swt.': 8489, 'orange;i': 8490, 'lyk': 8491, 'green;i': 8492, 'yelow;i': 8493, 'bck.': 8494, \"black;i'm\": 8495, 'brown;i': 8496, 'arranging': 8497, 'eldest': 8498, 'drugdealer': 8499, 'wither': 8500, 'e.g.23f.': 8501, 'e.g.23g.': 8502, 'wondarfull': 8503, 'messages-text': 8504, 'now!use': 8505, 'web2mobile': 8506, 'txt250.com': 8507, '1.50p/wk.': 8508, 'box139,': 8509, 'la32wu.': 8510, 'txtx': 8511, 'mah..': 8512, 'hun-onbus': 8513, '2go': 8514, 'donyt': 8515, 'home!but': 8516, 'latelyxxx': 8517, '85233': 8518, 'free>ringtone!reply': 8519, 'aight.': 8520, 'wind.': 8521, '\"alright': 8522, 'justthought': 8523, 'sayhey!': 8524, 'doin?nearly': 8525, 'endof': 8526, 'offdam': 8527, 'nevamind!we': 8528, '2hook': 8529, 'uwant': 8530, 'x.\"': 8531, \"own--you've\": 8532, 'rent,': 8533, 'tank.': 8534, 'stressed': 8535, 'depressed.': 8536, 'i,m': 8537, 's:-)kallis': 8538, 'odi:-)': 8539, 'soooo': 8540, 'provider': 8541, 'tming': 8542, 'cutest': 8543, 'dice,': 8544, '*****': 8545, 'help:08700469649.': 8546, 'box420.': 8547, 'ip4': 8548, '5we': 8549, 'howda': 8550, 'gud..': 8551, 'mathe': 8552, 'samachara': 8553, 'chikku:-)': 8554, 'audrie': 8555, 'autocorrect': 8556, 'simulate': 8557, 'readiness.': 8558, 'and/or': 8559, 'vomiting': 8560, 'fetch?': 8561, 'feet,': 8562, 'lara': 8563, 'supplies': 8564, 'guesses': 8565, 'attach': 8566, '087123002209am-7pm.': 8567, 'washob': 8568, 'nobbing': 8569, 'nickey': 8570, 'platt': 8571, 'me!;': 8572, 'ryan': 8573, 'vikky..': 8574, 'spotty,': 8575, 'province': 8576, 'sterling': 8577, 'problem-free': 8578, 'xam': 8579, 'hall': 8580, 'hesitation': 8581, 'the!': 8582, 'intha': 8583, 'ponnungale': 8584, 'ipaditan;)': 8585, 'result.': 8586, 'bad-': 8587, 'rejected': 8588, 'diamonds': 8589, 'aunty!': 8590, 'noisy.': 8591, 'needa': 8592, 'mcat': 8593, 's...from': 8594, 'manual': 8595, 'process:)its': 8596, 'reset': 8597, 'troubleshooting:)': 8598, 'b4u': 8599, 'w/c': 8600, '27/03': 8601, 'marsms.': 8602, 'www.b4utele.com': 8603, '08717168528': 8604, 'strongly': 8605, 'sacrifice': 8606, 'help,': 8607, 'creativity': 8608, 'stifled': 8609, 'happy,': 8610, 'part.': 8611, '(again),': 8612, 'morphine.': 8613, 'requirements': 8614, 'stranger!!saw': 8615, 'now!still': 8616, 'mr!ur': 8617, '2getha!': 8618, 'buffy.': 8619, 'men.': 8620, 'randy.': 8621, 'pix!': 8622, 'qlynnbv': 8623, 'help08700621170150p': 8624, '8-8:30': 8625, 'nosh': 8626, 'waaaat??': 8627, 'lololo': 8628, \"table's\": 8629, 'occupied,': 8630, 'come:)i': 8631, 'documents': 8632, 'submitted': 8633, 'stapati': 8634, 'miles.': 8635, 'cutie.': 8636, 'hills': 8637, 'myself.': 8638, 'honesty': 8639, 'specialisation.': 8640, 'labor.': 8641, 'shakara': 8642, 'beggar.': 8643, 'replying.': 8644, 'boye': 8645, 'driver!': 8646, 'dent!': 8647, 'really,': 8648, 'yes.he': 8649, 'crickiting': 8650, 'thx.': 8651, '\"can': 8652, 'imin': 8653, 'town.dontmatter': 8654, 'urgoin': 8655, 'outl8r,just': 8656, 'reallyneed': 8657, '2docd.please': 8658, 'dontplease': 8659, 'dontignore': 8660, 'mycalls,u': 8661, 'thecd': 8662, 'isv.important': 8663, 'tome': 8664, '2moro\"': 8665, 'wont.': 8666, 'yavnt': 8667, 'see?': 8668, ':)why': 8669, 'don,t': 8670, 'popping': 8671, 'ibuprofens': 8672, 'sip': 8673, 'cappuccino': 8674, 'grown': 8675, 'chinatown': 8676, 'porridge,': 8677, 'claypot': 8678, 'rice,': 8679, 'yam': 8680, 'fishhead': 8681, 'beehoon...': 8682, 'somethin...': 8683, 'jaklin': 8684, 'nearby': 8685, 'cliffs': 8686, '4.49/month': 8687, 'bundle': 8688, 'deals': 8689, 'avble.': 8690, 'call2optout/j': 8691, 'mf': 8692, 'figures...': 8693, 'pages?': 8694, 'ooh,': 8695, '4got,': 8696, 'moseley': 8697, 'weds': 8698, 'thankyou': 8699, 'pending.i': 8700, 'days.will': 8701, 'thru.respect': 8702, 'home.check': 8703, 'mails.': 8704, 'v-aluable.': 8705, 'a-ffectionate.': 8706, 'l-oveable.': 8707, 'e-ternal.': 8708, 'n-oble.': 8709, 't-ruthful.': 8710, 'i-ntimate.': 8711, 'n-atural.': 8712, 'e-namous.': 8713, '\"valentines': 8714, 'advance': 8715, \"textin'.\": 8716, 'cousin...': 8717, '(and': 8718, 'excuses)': 8719, 'wet?': 8720, 'amigos': 8721, 'burn,': 8722, 'progress.': 8723, \"weren't\": 8724, 'kidding': 8725, 'arty': 8726, 'collages': 8727, 'mo,': 8728, 'tryin': 8729, 'classes,': 8730, '2hrs.': 8731, 'waliking': 8732, 'cartons': 8733, 'shelves': 8734, '08714712379': 8735, 'mirror': 8736, 'k718.': 8737, '09065069120': 8738, 'days...': 8739, 'tues,': 8740, 'wed,': 8741, 'jod': 8742, 'revision': 8743, 'keris': 8744, 'smidgin.': 8745, 'college?xx': 8746, 'k.k..where': 8747, 'intentions': 8748, 'accordin': 8749, 'also..': 8750, '6pm..:-)': 8751, \"no's..\": 8752, 'knocking': 8753, '\"si.como': 8754, 'no?!listened2the': 8755, 'plaid': 8756, 'album-quite': 8757, 'gd&the': 8758, 'air1': 8759, 'hilarious-also': 8760, 'bought\\x94braindance\\x94a': 8761, 'comp.ofstuff': 8762, \"aphex's\": 8763, ';abel,u': 8764, 'hav2hear': 8765, 'it!c': 8766, 'nelson': 8767, \"bb's\": 8768, 'comin.': 8769, 'drink,': 8770, 'drop.': 8771, 'unmits': 8772, 'newspapers': 8773, 'bathe...': 8774, 'soup.': 8775, 'yummmm': 8776, 'puzzeles.': 8777, 'include': 8778, '4goten': 8779, \"me?'\": 8780, 'scammers': 8781, 'smart..though': 8782, 'prem': 8783, 'msg/subscription.': 8784, 'beware!': 8785, 'passion': 8786, '09099726481': 8787, 'dena': 8788, '£1/minmobsmorelkpobox177hp51fl': 8789, 'r836.': 8790, '09065069154': 8791, 'threats': 8792, 'sales': 8793, 'shifad': 8794, 'raised': 8795, \"'doctors'\": 8796, 'reminds': 8797, '2go.did': 8798, 'lounge?': 8799, 'sun?': 8800, 'line:': 8801, '\"hurt': 8802, 'truth,': 8803, 'mind,i': 8804, 'tolerat.bcs': 8805, 'someone.....': 8806, 'comfort': 8807, 'lie\"': 8808, 'china.': 8809, 'ideas.': 8810, 'splashmobile:': 8811, 'wk!': 8812, 'subscrition': 8813, '300p.': 8814, 'dust?': 8815, '88877>free': 8816, '88877': 8817, '3pound': 8818, 'watchin': 8819, 'lido?': 8820, 'lifetime': 8821, 'meaningless': 8822, \"all's\": 8823, 'so?': 8824, 'telly?': 8825, 'brdget': 8826, 'jones!': 8827, 'inever': 8828, '=/': 8829, 'hmm...bad': 8830, 'news...hype': 8831, '$700': 8832, 'studio': 8833, 'taken...only': 8834, 'bedrm-$900...': 8835, 'reached.': 8836, 'velly': 8837, 'journey': 8838, 'terrible.': 8839, 'marking': 8840, '2stoptx': 8841, 'annie': 8842, 'romantic!': 8843, '08718738034.': 8844, 'va?i': 8845, 'so:)': 8846, 'hrishi': 8847, 'hanger': 8848, 'heavy?': 8849, 'restaurant.': 8850, 'arrow': 8851, 'blanket': 8852, '08718726971': 8853, 'tddnewsletter@emc1.co.uk': 8854, '(more': 8855, 'thedailydraw)': 8856, 'helen,': 8857, 'dozens': 8858, 'prizeswith..': 8859, 'significant': 8860, 'high.': 8861, 'waqt': 8862, 'pehle': 8863, 'naseeb': 8864, 'zyada': 8865, 'kisi': 8866, 'ko': 8867, 'kuch': 8868, 'milta,zindgi': 8869, 'hum': 8870, 'sochte': 8871, 'zindgi': 8872, 'ham': 8873, 'jeetey': 8874, 'hai..........': 8875, 'stalking': 8876, 'reminded': 8877, 'varaya': 8878, 'elaya.': 8879, '***************': 8880, '10/06/03!': 8881, '09066368753': 8882, '97n7qp,': 8883, 'anand': 8884, 'why:-)': 8885, 'store.': 8886, 'beach': 8887, 'expected...': 8888, '\"aww': 8889, 'dead!well': 8890, 'jez': 8891, 'todo': 8892, 'workand': 8893, 'whilltake': 8894, 'forever!\"': 8895, 'zogtorius.': 8896, 'financial': 8897, 'problem.i': 8898, 'help:)': 8899, 'alian': 8900, 'b/tooth': 8901, 'free-nokia': 8902, 'or2optout/hv9d': 8903, 'yijue,': 8904, 'posible': 8905, 'century': 8906, 'frwd': 8907, 'affectionate': 8908, 'sorts': 8909, 'restrictions,': 8910, 'choose.': 8911, 'buddys.': 8912, '08712402902': 8913, 'bus?': 8914, 'screamed': 8915, 'owned': 8916, '*possessive': 8917, 'no..he': 8918, 'clarification': 8919, 'coimbatore.': 8920, 'expired': 8921, 're-sub': 8922, 'monoc': 8923, 'monos': 8924, 'polyc': 8925, 'stream': 8926, '0871212025016': 8927, 'nice!': 8928, 'sheffield': 8929, 'opinions': 8930, 'categories': 8931, 'ethnicity': 8932, 'census.': 8933, 'transcribing.': 8934, 'paragon,': 8935, 'sense?': 8936, 'cut?': 8937, 'hmm,': 8938, 'unfortunately...': 8939, 'cakes.': 8940, 'draws!': 8941, '2day!': 8942, 'goodmate': 8943, 'sary!': 8944, 'asusual!1': 8945, 'cheered': 8946, 'up!': 8947, 'franyxxxxx': 8948, 'batt': 8949, 'this,': 8950, '8am.': 8951, 'me.\"...': 8952, 'gn': 8953, 'perfect!': 8954, 'becausethey': 8955, '09058098002.': 8956, 'pobox1,': 8957, 'w14rg': 8958, 'boo.': 8959, 'gained': 8960, 'pressure': 8961, 'limits': 8962, 'dumb?': 8963, 'doke.': 8964, 'laying': 8965, 'ill!': 8966, 'them...': 8967, 'neshanth..tel': 8968, 'byatch': 8969, 'whassup?': 8970, 'cl.': 8971, 'babe:': 8972, 'filthyguys.': 8973, 'bitch.': 8974, 'slo': 8975, 'hard!': 8976, 'slo(4msgs)': 8977, 'wasted...': 8978, 'chiong': 8979, 'darren...': 8980, 'dialogue': 8981, 'reltnship..!!': 8982, 'die,': 8983, 'body..!!': 8984, 'wipe': 8985, 'tears': 8986, 'time..!gud': 8987, 'aww': 8988, 'pose': 8989, 'comb': 8990, 'dryer': 8991, 'fps': 8992, 'computational': 8993, 'science...': 8994, 'answered': 8995, 'madam,regret': 8996, 'disturbance.might': 8997, 'dlf': 8998, 'premarica.kindly': 8999, 'informed.rgds,rakhesh,kerala.': 9000, 'gotto': 9001, '08702840625': 9002, 'comuk.220cm2': 9003, 'err...': 9004, '8pm.': 9005, 'fun...': 9006, 'k:)but': 9007, 'hitter.anyway': 9008, 'hey!!!': 9009, 'b-day': 9010, 'ya!!': 9011, 'custcare:08718720201': 9012, 'find.': 9013, 'offline': 9014, \"anjola's\": 9015, 'i?this': 9016, 'www.asjesus.com': 9017, 'wrote.': 9018, 'opinions.': 9019, '1/1': 9020, 'drug.': 9021, 'directors.': 9022, 'lac': 9023, 'crore\"': 9024, 'deposited': 9025, \"'taxless'\": 9026, 'crore': 9027, 'indians.': 9028, 'lane': 9029, 'roads.': 9030, 'suply': 9031, 'projects.': 9032, '/-': 9033, 'imf': 9034, 'loan.': 9035, 'blocked': 9036, 'corrupt': 9037, 'itna': 9038, 'karo': 9039, 'ki': 9040, 'pura': 9041, 'padhe.g.m.\"': 9042, 'boye.': 9043, 'torrents': 9044, 'particularly': 9045, 'slowing': 9046, 'moon.': 9047, 'commit': 9048, '83370.': 9049, 'www.music-trivia.net': 9050, 'hee..': 9051, 'rightio.': 9052, '11.48': 9053, 'church': 9054, 'brum!': 9055, 'scorable': 9056, 'care!': 9057, 'bad,': 9058, '(kadeem)': 9059, 'break,': 9060, 'paranoid': 9061, 'brin': 9062, 'sheet': 9063, 'k..give': 9064, 'complain': 9065, 'only..bettr': 9066, 'bsnl': 9067, 'offc': 9068, 'friday?': 9069, 'payed.': 9070, 'suganya.': 9071, 'dessert.': 9072, 'abeg,': 9073, 'profit.': 9074, 'start.': 9075, 'sponsors': 9076, 'event?': 9077, 'onum': 9078, 'than.': 9079, 'k.k..how': 9080, 'kids?': 9081, 'can.dont': 9082, 'change,': 9083, 'poet': 9084, 'imagination..my': 9085, 'forever....': 9086, 'car.so': 9087, 's.i': 9088, 'rr..': 9089, 'famamus....': 9090, 'together.': 9091, 'road...': 9092, 'pple...': 9093, 'problem!': 9094, 'locks': 9095, 'jenne.': 9096, 'easiest': 9097, 'barcelona.': 9098, 'sppok': 9099, 'logo&pic': 9100, 'complementary': 9101, 'wa14': 9102, '2px': 9103, 'sender:': 9104, 'k.:)do': 9105, 'da:)urgent:)': 9106, 'pansy!': 9107, 'jungle': 9108, 'years!': 9109, 'about!': 9110, 'kanji': 9111, 'took.': 9112, 'drink.pa': 9113, 'srs': 9114, 'drizzling': 9115, 'appointments': 9116, 'week.:/': 9117, 'body?': 9118, 'sad..': 9119, 'over..': 9120, 'excused.': 9121, 'drama': 9122, 'pls.i': 9123, 'struggling': 9124, 'strange': 9125, 'place.no': 9126, 'ego': 9127, \"'if\": 9128, \"invited'\": 9129, 'necessity': 9130, 'go.wait': 9131, 'reppurcussions.': 9132, 'cosign': 9133, 'alcohol,': 9134, 'hvae': 9135, '09061701444.': 9136, 'hcl': 9137, 'requires': 9138, 'freshers': 9139, 'voice': 9140, 'process.excellent': 9141, 'needed.salary': 9142, '.call': 9143, 'ms.suman': 9144, 'telephonic': 9145, '-via': 9146, 'resume': 9147, 'forgot..': 9148, 'ola': 9149, 'cut.': 9150, 'rest!u??wud': 9151, 'reliant': 9152, 'fwiw': 9153, 'afford': 9154, '...*kiss*': 9155, 'kano..whr': 9156, 'maga?': 9157, 'sq825,': 9158, 'arrival': 9159, 'yunny': 9160, 'citylink': 9161, 'props?': 9162, 'account?': 9163, 'pleasant': 9164, '-u': 9165, 'c,': 9166, 'statements': 9167, '6230': 9168, 'camera.': 9169, '83383': 9170, 'pobox114/14tcr/w1': 9171, 'bognor': 9172, 'splendid': 9173, \"yes.i'm\": 9174, 'ktv': 9175, 'oso?': 9176, 'misplaced': 9177, 'mcat.': 9178, 'atlanta': 9179, 'computers?': 9180, 'sec?': 9181, 'begun': 9182, 'registration': 9183, 'permanent': 9184, 'residency': 9185, 'costs,': 9186, 'risks,': 9187, 'benefits': 9188, 'hmmm:)how': 9189, 'selected?': 9190, 'snow,': 9191, 'predicting': 9192, 'accumulation.': 9193, 'mode.': 9194, 'meh.': 9195, 'programs': 9196, 'sister..': 9197, 'belongs': 9198, 'family..': 9199, 'tomorrow..': 9200, 'her,who': 9201, 'fated': 9202, 'shoranur': 9203, 'incident.': 9204, 'fuelled': 9205, 'concern': 9206, 'prior': 9207, 'grief': 9208, 'women.': 9209, 'text82228>>': 9210, 'ringtones,': 9211, 'logos': 9212, 'www.txt82228.com.': 9213, 'questions:': 9214, 'info@txt82228.co.uk': 9215, 'honestly': 9216, 'promptly': 9217, 'burnt': 9218, ':)my': 9219, ':-)please': 9220, 'try:-)': 9221, 'camera,': 9222, 'snap': 9223, '(quizclub': 9224, '80122300p/wk': 9225, 'sp:rwm': 9226, 'ph:08704050406)': 9227, 'gmw': 9228, 'connected': 9229, 'someplace,': 9230, 'gd.': 9231, 'goods.': 9232, 'pressies': 9233, '7ish?': 9234, 'dr': 9235, 'die.': 9236, 'room?': 9237, 'you..': 9238, 'ultimately': 9239, 'tor': 9240, 'motive': 9241, 'tui': 9242, 'achieve': 9243, 'korli.': 9244, 'we‘ll': 9245, 'dock,': 9246, 'rolled': 9247, 'newscaster': 9248, 'dabbles': 9249, 'flute': 9250, 'wheel': 9251, 'vid': 9252, 'keyword': 9253, 'video.': 9254, 'thesis!': 9255, 'erm.': 9256, 'the4th': 9257, 'october.': 9258, 'when...': 9259, 'pilates...': 9260, '83435.': 9261, '08706091795.': 9262, 'elaborating': 9263, 'safety': 9264, 'aspects': 9265, 'issues..': 9266, 'tarot': 9267, 'texts!': 9268, '85555': 9269, '1hr.': 9270, 'department': 9271, 'ours:)so': 9272, 'you:)any': 9273, 'conform': 9274, 'it:)': 9275, 'horniest': 9276, '2nite!.': 9277, 'instructions.': 9278, '69888': 9279, 'nyt.ec2a.3lp.msg@150p': 9280, 'flow': 9281, 'developed': 9282, 'ovarian': 9283, 'cysts.': 9284, 'shrink': 9285, 'on:)it': 9286, 'upping': 9287, 'grams': 9288, \"(he's\": 9289, '),': 9290, 'timin': 9291, 'apes,': 9292, 'go,': 9293, 'notice.': 9294, 'fujitsu,': 9295, 'ibm,': 9296, 'hp,': 9297, 'toshiba...': 9298, 'gosh': 9299, 'spose': 9300, 'rimac': 9301, 'arestaurant': 9302, 'squid!': 9303, '10:30': 9304, 'dosomething': 9305, 'late?\"': 9306, '\"hello': 9307, 'u.call': 9308, 'wrk.i': 9309, 'dabooks.': 9310, 'nite+2': 9311, 'wrk!\"': 9312, '&sam': 9313, 'eachother.': 9314, 'luckily': 9315, 'starring': 9316, 'madam': 9317, 'restocked': 9318, 'www.tkls.com': 9319, 'stoptxtstop£1.50/week': 9320, 'mental': 9321, 'question..': 9322, 'smoothly.': 9323, 'challenging': 9324, 'hon': 9325, 'pple...$700': 9326, '$900': 9327, 'nights...excellent': 9328, 'breakfast': 9329, 'hamper!!!': 9330, 'cc100p/min': 9331, 'website?': 9332, 'da..al': 9333, 'above': 9334, '\"polys\"': 9335, '87131.': 9336, '0870737910216yrs': 9337, '£1.50/wk.': 9338, 'unni': 9339, 'recharge..rakhesh': 9340, 'lacking': 9341, 'particular': 9342, \"dramastorm's\": 9343, 'what...': 9344, 'forfeit...': 9345, 'treated': 9346, 'digi': 9347, 'cam,': 9348, 'coupla': 9349, 'wks!': 9350, '077xxx': 9351, '09066362206': 9352, 'sundayish,': 9353, 'held': 9354, 'prasad.': 9355, 'rcb.battle': 9356, 'kochi.': 9357, 'checkup': 9358, 'smear': 9359, 'gobi': 9360, 'pandy': 9361, '4w': 9362, 'technologies': 9363, 'today.he': 9364, 'job..': 9365, 'try!': 9366, 'lost,': 9367, 'fact.': 9368, 'em,': 9369, 'olowoyey@': 9370, 'usc.edu': 9371, 'argentina.': 9372, 'secretary,': 9373, 'it,,s': 9374, 'taxt': 9375, 'massage....tie-pos': 9376, 'lool!': 9377, 'february.': 9378, 'confidence': 9379, \"taylor's\": 9380, 'shaking': 9381, 'floor?': 9382, 'da:)i': 9383, 'times:)lil': 9384, 'busy.i': 9385, 'noon..': 9386, 'sarcasm..': 9387, '.nt': 9388, 'scarcasim': 9389, 'naal': 9390, 'eruku.': 9391, 'chikku..wat': 9392, 'sexy?': 9393, 'w4': 9394, '5wq': 9395, '150p/tone': 9396, 'impressively,': 9397, 'sensible,': 9398, 'boring?!': 9399, 'yours,': 9400, 'only:-)..': 9401, 'nyt.': 9402, '£1.50/msg': 9403, 'also.or': 9404, 'da:)nalla': 9405, 'hope?': 9406, 'obedient,': 9407, 'slave?': 9408, 'ft.': 9409, 'combination!': 9410, 'needy': 9411, '?!': 9412, 'alone.': 9413, 'playng': 9414, '1)mcfly-all': 9415, 'ab..,': 9416, 'sara': 9417, 'jorge-shock..': 9418, 'smith-switch..': 9419, 'dream.': 9420, 'next.': 9421, 'yupz...': 9422, 'model..sony': 9423, 'ericson': 9424, 'der..': 9425, '..it': 9426, 'luks': 9427, 'modl': 9428, 'cheesy': 9429, 'frosty': 9430, 'witin': 9431, 'fans': 9432, 'str*': 9433, '0870141701216+': 9434, '4txt/120p': 9435, '930': 9436, 'europe': 9437, '10th': 9438, '09050000555.': 9439, 'ba128nnfwfly150ppm': 9440, 'nudist': 9441, 'themed': 9442, 'pump': 9443, 'petrol': 9444, '£12': 9445, 'signal.': 9446, 'has,': 9447, 'unusual': 9448, 'itself!': 9449, 'snogs.': 9450, 'palm,': 9451, 'printing': 9452, 'handing': 9453, 'flirt?': 9454, '83021.': 9455, 'stated': 9456, 'perpetual': 9457, 'dd': 9458, 'shop.': 9459, 'yogasana?': 9460, 'pract': 9461, 'lessons..': 9462, 'flung': 9463, 'big!': 9464, 'okie..': 9465, 'thanx..': 9466, 'buy?': 9467, 'process.': 9468, 'justbeen': 9469, 'overa': 9470, 'brains': 9471, 'mush!': 9472, 'tunde,': 9473, 'missions': 9474, '20m12aq.': 9475, '“': 9476, 'lux': 9477, '28,': 9478, 'eh74rr': 9479, 'lei..': 9480, 'sleepy.': 9481, 'stupid.': 9482, 'avo': 9483, 'point?': 9484, 'crashed': 9485, 'cuddled': 9486, 'sofa.': 9487, 'chachi': 9488, 'pl': 9489, 'tiz': 9490, 'kanagu': 9491, 'prices': 9492, 'ringing': 9493, 'houseful': 9494, 'brats': 9495, 'pulling': 9496, 'died.': 9497, 'want?': 9498, 'now.onion': 9499, 'roast.': 9500, 'prepare.': 9501, 'computer?': 9502, 'lor?': 9503, 'thanks...': 9504, 'derp.': 9505, 'worse,': 9506, 'abusers': 9507, 'lipo.': 9508, 'easter.': 9509, 'netflix': 9510, 'clash...': 9511, 'weight...': 9512, 'arr': 9513, 'oscar.': 9514, 'rebtel': 9515, 'firefox.': 9516, 'numbers.': 9517, 'okay!': 9518, '69969': 9519, 'bcmsfwc1n3xx': 9520, 'impressed.': 9521, 'funs': 9522, 'shopping!': 9523, 'footy': 9524, 'stadium?': 9525, 'large': 9526, 'coca-cola': 9527, 'teenager': 9528, 'telugu..thts': 9529, 'esplanade?': 9530, 'garage.': 9531, 'replacing.': 9532, 'mittelschmertz.': 9533, 'paracetamol': 9534, 'sales/pee': 9535, 'arrived,': 9536, 'incident?': 9537, 'cthen': 9538, 'enuff..': 9539, 'conclusion': 9540, 'references..': 9541, 'pg..': 9542, 'at/your': 9543, 'big..|': 9544, 'success.': 9545, 'u’ve': 9546, '£50': 9547, 'instant': 9548, '08715203028': 9549, '9th': 9550, '£50-£500.': 9551, '08718727870': 9552, 'wed.': 9553, 'rugby': 9554, 'library?': 9555, 'affidavit': 9556, 'twiggs': 9557, 'st,': 9558, 'division': 9559, 'courtroom': 9560, 'freemsg>fav': 9561, 'tones!reply': 9562, 'fever:)': 9563, 'fine:)': 9564, 'hands...': 9565, 'once.': 9566, 'showers': 9567, 'possessiveness': 9568, 'poured': 9569, 'ones,': 9570, 'lies,': 9571, 'golden': 9572, 'truly..': 9573, 'lasting': 9574, 'lucky.': 9575, 'skype.': 9576, 'mobs': 9577, 'breathe1': 9578, 'crazyin,': 9579, 'sleepingwith,': 9580, 'finest,': 9581, 'ymca': 9582, ':getzed.co.uk': 9583, 'pobox365o4w45wq': 9584, '300p': 9585, 'wtc': 9586, 'weiyi': 9587, 'goin...': 9588, 'join...': 9589, '*passionate': 9590, \"\\x93it's\": 9591, 'flowers': 9592, '505060': 9593, 'god..taken': 9594, 'teeth?is': 9595, 'paining': 9596, 'romcapspam': 9597, 'presence': 9598, 'outgoing.': 9599, 'sunshine.': 9600, 'sian': 9601, 'maggi': 9602, 'mee..': 9603, '08712103738': 9604, 'right,': 9605, 'cough': 9606, 'com': 9607, 'fine.,': 9608, 'bbd(pooja)': 9609, 'pimples..even': 9610, 'black..and': 9611, 'cold,': 9612, 'sweatter..': 9613, 'mate,': 9614, 'ambitious.': 9615, 'miiiiiiissssssssss': 9616, 'tunji,': 9617, 'misscall': 9618, 'frndz': 9619, '6missed': 9620, 'lover.': 9621, 'free-message:': 9622, 'jamster!get': 9623, 'frog': 9624, 'mad1,': 9625, 'mad2': 9626, '88888.': 9627, 'gbp/week!': 9628, '16+only!': 9629, 'dear?': 9630, 'wipro': 9631, 'tall': 9632, 'case...': 9633, 'sound...': 9634, 'robs': 9635, 'fault.': 9636, 'avenge': 9637, \"fren's\": 9638, 'choices': 9639, 'toss': 9640, 'gudni8': 9641, 'lovely,': 9642, 'drinkin,': 9643, 'dancin,': 9644, 'eatin,': 9645, 'cinema,': 9646, 'about...': 9647, 'explicitly': 9648, 'nora': 9649, 'smith': 9650, 'da.i': 9651, 'gayle.': 9652, 'crucify': 9653, 'moved,': 9654, 'butting': 9655, 'vs.': 9656, 'cedar': 9657, '(come': 9658, 'tho)': 9659, 'durham': 9660, 'reserved': 9661, '69855,': 9662, '24hrs': 9663, 'stopbcm': 9664, 'sf': 9665, 'painting': 9666, 'wall?': 9667, 'printer': 9668, 'groovy.': 9669, 'groovying': 9670, \"harish's\": 9671, 'transfred': 9672, 'acnt.': 9673, 'nowadays:)lot': 9674, 'showrooms:)city': 9675, 'shaping': 9676, 'attending': 9677, 'talks?': 9678, 'hon!': 9679, 'doinat': 9680, 'mo?': 9681, 'callon': 9682, \"ron's\": 9683, 'watch...': 9684, 'k...k...yesterday': 9685, 'pdate_now': 9686, 'call2optout/!yhl': 9687, 'configure': 9688, 'settings': 9689, '..now': 9690, 'bill,': 9691, 'in:': 9692, 'i’m': 9693, 'isn’t': 9694, 'anal': 9695, 'ha.': 9696, 'pears': 9697, 'celebrate.': 9698, 'such': 9699, 'sight': 9700, 'white.': 9701, 'oooooh': 9702, '09058094454': 9703, 'that...now': 9704, 'thinking.': 9705, '54': 9706, 'weeks>': 9707, 'resubmit': 9708, 'expiry.': 9709, 'chikku..:-)': 9710, 'nyt:-*': 9711, '2geva,': 9712, 'mint!': 9713, 'u!xxxx': 9714, 'sitting.': 9715, 'humans': 9716, 'god..': 9717, 'studyn': 9718, 'shows...': 9719, 'everyboy': 9720, 'xxxxxxxx': 9721, \"hi'\": 9722, '2%': 9723, 'students': 9724, 'solved': 9725, \"'xam...\": 9726, '5+3+2=': 9727, '9+2+4=': 9728, '8+6+3=': 9729, '7+2+5=?????': 9730, 'brilliant...1thing.i': 9731, 'answr.': 9732, 'liquor?': 9733, 'loko': 9734, '730.': 9735, 'lined': 9736, '\"wow': 9737, \"tm'ing\": 9738, '?!\"': 9739, '*laughs*': 9740, 'fireplace.': 9741, 'icon': 9742, '08712400200.': 9743, 'job,': 9744, 'fifth': 9745, 'woozles': 9746, 'weasels...': 9747, 'still,': 9748, '08718723815.': 9749, 'sooner.': 9750, 'machines': 9751, '3!': 9752, 'fucks': 9753, 'sake?!': 9754, 'ignorant.': 9755, 'mys': 9756, 'downs': 9757, 'fletcher': 9758, '£1,500': 9759, '27/6/03.': 9760, '08714714011': 9761, 'teaching': 9762, 'twelve,': 9763, 'two.': 9764, 'bowls': 9765, 'cozy.': 9766, 'night.nobody': 9767, 'closed.': 9768, 'buzzzz!': 9769, 'ass?': 9770, 'vibrator': 9771, 'shake': 9772, 'covers': 9773, 'trends': 9774, 'pros': 9775, 'cons...': 9776, 'description': 9777, 'nuclear': 9778, 'fusion': 9779, 'iter': 9780, 'jet': 9781, 'pages..': 9782, '\"none!nowhere': 9783, 'ikno': 9784, 'doesdiscount!shitinnit\"': 9785, 'jabo': 9786, 'driving,': 9787, 'slower': 9788, 'maniac?': 9789, 'had..ya': 9790, 'sapna': 9791, 'aunty': 9792, 'manege': 9793, \"y'day\": 9794, 'hogidhe..chinnu': 9795, 'swalpa': 9796, 'agidhane..': 9797, 'type..lyk': 9798, 'footbl,crckt..': 9799, 'swell': 9800, 'sary': 9801, 'tim': 9802, 'bollox': 9803, '&it': 9804, 'tol': 9805, 'ingredients!': 9806, 'pocy': 9807, 'non': 9808, 'stop...': 9809, 'elsewhere?': 9810, 'dvd!': 9811, 'call2optout/4qf2': 9812, 'sleeping?': 9813, 'nap..': 9814, 'senor': 9815, 'giggle': 9816, 'possibly': 9817, 'person2die': 9818, 'nvq,': 9819, 'for!': 9820, 'how...': 9821, 'professional': 9822, 'tiger': 9823, 'woods': 9824, 'play?': 9825, 'grinder?': 9826, 'you.:)k:)where': 9827, 'buyers.': 9828, 'figuring': 9829, 'entirely': 9830, 'underwear.': 9831, 'know..he': 9832, 'computer..': 9833, 'disconnected': 9834, 'onluy': 9835, 'matters': 9836, 'offcampus': 9837, '18+only': 9838, 'excellent,': 9839, \"riley's\": 9840, 'ew': 9841, 'them?': 9842, 'wesley': 9843, \"how've\": 9844, 'lingo.': 9845, 'rental:': 9846, '400mins...call': 9847, 'call2optout=j5q': 9848, 'see..': 9849, \"me?don't\": 9850, 'worry..': 9851, \"l'm\": 9852, 'goodnoon..:)': 9853, 'anyone?': 9854, '69200': 9855, 'chrgd@50p': 9856, '2exit.': 9857, 'approaching.': 9858, 'sankranti': 9859, 'republic': 9860, 'shivratri': 9861, 'ugadi': 9862, 'fools': 9863, 'independence': 9864, 'friendship,mother,father,teachers,childrens': 9865, 'festival': 9866, 'dasara': 9867, 'mornings': 9868, 'afternoons,': 9869, 'rememberi': 9870, \"these...your's\": 9871, 'joys': 9872, 'lifeis': 9873, 'daywith': 9874, 'thoughts': 9875, 'somewheresomeone': 9876, 'tosend': 9877, 'greeting..': 9878, 'selflessness.': 9879, 'plenty.': 9880, 'lady.': 9881, '\"don\\'t': 9882, 'initiate\"': 9883, 'game?': 9884, 'tallent': 9885, 'wasting.': 9886, 'payment': 9887, 'portal.': 9888, \"don't4get2text\": 9889, 'pleasure...': 9890, ';-)': 9891, 'lennon.': 9892, 'bothering': 9893, 'answers.': 9894, 'shore..the': 9895, 'crab..': 9896, 'asked:': 9897, 'footprints?': 9898, 'replied:': 9899, 'fox': 9900, 'off:)': 9901, 'frndsship': 9902, 'dwn': 9903, 'slaaaaave': 9904, 'summon': 9905, 'anymore?': 9906, '£33.65': 9907, 'bad!': 9908, 'appendix': 9909, 'range.': 9910, 'impossible.': 9911, 'yeah?': 9912, 'h&m': 9913, 'friday,': 9914, 'wait.': 9915, 'slob-': 9916, 'answer:': 9917, 'life?\"': 9918, 'smiled': 9919, 'answered:': 9920, '\"she': 9921, 'fine!\"': 9922, 'gudnite': 9923, 'topic..sorry': 9924, 'that..': 9925, 'date?': 9926, 'webpage': 9927, 'available!': 9928, 'yeesh': 9929, 'unsubscribed': 9930, 'hunks': 9931, 'http://gotbabes.co.uk.': 9932, 'subscriptions.': 9933, 'all,': 9934, 'gopalettan.': 9935, 'participate': 9936, 'k..k...from': 9937, 'at!': 9938, 'jordan,': 9939, 'abroad': 9940, 'lonely,': 9941, 'xxsp': 9942, 'stopcost': 9943, '08712400603': 9944, 'agent': 9945, 'mob!': 9946, 'goodies!': 9947, 'mat': 9948, 'ay': 9949, 'sat?ü': 9950, 'steal': 9951, 'recently.': 9952, 'isaiah.=d': 9953, 'penis.': 9954, 'expert': 9955, '*deep': 9956, 's.s:)i': 9957, 'thinl': 9958, 'sachin.just': 9959, 'hit.': 9960, 'importantly,': 9961, 'process?': 9962, 'tightly.': 9963, \"'wnevr\": 9964, 'fal': 9965, 'books,': 9966, 'fals': 9967, \"me..!''\": 9968, 'yen': 9969, 'madodu,': 9970, 'nav': 9971, 'pretsorginta,': 9972, 'nammanna': 9973, 'pretsovru': 9974, 'alwa....!!:)': 9975, 'eveb-).': 9976, 'window:-)': 9977, 'lord': 9978, 'rings:return': 9979, 'now!reply': 9980, 'soundtrack': 9981, 'stdtxtrate.': 9982, 'home.love': 9983, 'staff.science.nus.edu.sg/~phyhcmk/teaching/pc1323': 9984, 'emigrated': 9985, 'hopeful...': 9986, 'olol': 9987, 'replacement.': 9988, 'stagwood': 9989, 'winterstone': 9990, 'victors': 9991, 'jp': 9992, 'mofo?': 9993, 'pathaya': 9994, 'enketa': 9995, 'maraikara': 9996, \"pa'\": 9997, 'priest': 9998, 'lousy,': 9999, 'dead...': 10000, 'hrs.': 10001, 'reserves': 10002, 'intrude': 10003, 'hun': 10004, 'walkabout': 10005, 'cashed': 10006, 'case.': 10007, 'announced': 10008, 'blog.': 10009, '28th': 10010, '06.': 10011, 'prove\"': 10012, 'mrng...': 10013, 'got.': 10014, 'footie': 10015, 'phil': 10016, 'neville?': 10017, 'park...': 10018, 'abbey!': 10019, 'returning': 10020, 'roger.': 10021, 'auction:)punj': 10022, 'str8': 10023, 'classic': 10024, 'polys.': 10025, 'nokia/150p': 10026, 'poly/200p': 10027, 'photos.': 10028, 'sexy!': 10029, 'pre': 10030, 'sacked': 10031, 'ever,': 10032, 'by?': 10033, 'lookatme!:': 10034, 'clip': 10035, 'lookatme!,': 10036, '35p.': 10037, 'better?': 10038, 'mmsto': 10039, '32323.': 10040, 'barred': 10041, 'q': 10042, 'life!?this': 10043, 'twat': 10044, 'dungerees': 10045, 'decking?': 10046, 'punch': 10047, 'in!!': 10048, 'mentionned': 10049, 'chinese.': 10050, 'porn!': 10051, 'fun?': 10052, 'recd': 10053, 'vat': 10054, ':)going': 10055, 'only.don': 10056, 'boy;': 10057, 'hogolo': 10058, 'kodstini': 10059, 'madstini': 10060, 'hogli': 10061, 'mutai': 10062, 'eerulli': 10063, 'kodthini!': 10064, 'kano;-)': 10065, '\"shit': 10066, 'babe..': 10067, 'thasa': 10068, 'messed': 10069, 'up.yeh,': 10070, 'shudvetold': 10071, 'urgran': 10072, 'know?neway,': 10073, 'illspeak': 10074, 'u2moro': 10075, 'asleep...\"': 10076, 'late!': 10077, 'tex': 10078, 'mecause': 10079, 'werebored!': 10080, 'okden': 10081, 'uin': 10082, \"sat?sound's\": 10083, 'likeyour': 10084, 'gr8fun': 10085, 'updat': 10086, 'countinlots': 10087, 'xxxxx.\"': 10088, 'yo!': 10089, 'l': 10090, 'tagged': 10091, 'challenge?': 10092, 'hdd': 10093, 'casing': 10094, 'solved!': 10095, 'opened': 10096, 'batch!': 10097, 'describe': 10098, '09053750005': 10099, '310303.': 10100, '08718725756.': 10101, '140ppm': 10102, 'asus': 10103, 'reformat.': 10104, 'facebook,': 10105, 'b,': 10106, 'le..u': 10107, 'maga..': 10108, 'plumbers': 10109, 'wrench': 10110, 'borrow?': 10111, 'http://www.e-tlp.co.uk/reward.': 10112, 'bcum': 10113, 'usual...': 10114, 'oredi?': 10115, ':-):-)': 10116, 'films.': 10117, 'appeal': 10118, 'thriller': 10119, 'director': 10120, 'mac': 10121, '8.30.': 10122, 'elephant': 10123, 'shove': 10124, 'um': 10125, 'ass!!': 10126, 'cr': 10127, '20%': 10128, 'pookie': 10129, 'pie!': 10130, 'you....dear.with': 10131, 'love.rakhesh': 10132, 'nri': 10133, 'x2': 10134, 'deserve.': 10135, '88039.skilgme.tscs087147403231winawk!age16+£1.50perwksub': 10136, 'aft?': 10137, 'mouth': 10138, 'well?': 10139, 'text!': 10140, 'diddy': 10141, 'neighbor': 10142, 'toothpaste': 10143, 'one,ta.': 10144, 'poking': 10145, 'canada': 10146, 'abi!': 10147, 'suntec...': 10148, 'de.am': 10149, 'asked.': 10150, 'conditions?': 10151, 'coccooning': 10152, 'mus': 10153, 'asap?': 10154, 'yeah,and': 10155, 'newquay-send': 10156, '!1': 10157, 'gone(u': 10158, '1im': 10159, 'talkin': 10160, 'bout!)xx': 10161, 'divorce.': 10162, 'pin?': 10163, 'bread': 10164, 'windy.': 10165, '09066358361': 10166, 'y87.': 10167, 'stop..': 10168, 'know:)this': 10169, 'tirunelvai': 10170, 'dusk': 10171, 'puzzles': 10172, 'x29.': 10173, '09065989180': 10174, 'stairs': 10175, '*phews*': 10176, \"thangam.it's\": 10177, 'mistake.': 10178, 'need...': 10179, 'dick': 10180, 'sup,': 10181, 'do..': 10182, 'recycling:': 10183, 'twice-': 10184, 'earning': 10185, 'time!;-)': 10186, 'morning..': 10187, 'toledo.': 10188, 'tai': 10189, 'feng': 10190, 'reservations.': 10191, 'swimsuit': 10192, 'friendship:': 10193, 'true\"....': 10194, 'squeeeeeze!!': 10195, 'hug..': 10196, 'frndshp': 10197, 'back..': 10198, 'cute:)': 10199, 'luvd:*': 10200, 'lucky;)': 10201, 'none?': 10202, 'them..:-p': 10203, 'volcanoes': 10204, 'erupt,': 10205, 'arise,': 10206, 'hurricanes': 10207, 'sway': 10208, 'aroundn': 10209, 'disasters': 10210, 'wot?': 10211, 'lighters': 10212, 'four,': 10213, '7pm': 10214, '......forward': 10215, 'k:)k..its': 10216, 'good:)when': 10217, 'lasagna': 10218, 'vodka...': 10219, 'going,': 10220, 'chickened': 10221, 'woould': 10222, '08718726978': 10223, 'city.': 10224, 'drove': 10225, 'lift...': 10226, 'shore': 10227, 'ex?': 10228, '44': 10229, '7732584351,': 10230, 'on-edge': 10231, 'raviyog': 10232, 'peripherals': 10233, 'bhayandar': 10234, 'sunoco': 10235, 'howard?': 10236, 'musical': 10237, 'eating.': 10238, 'plate.': 10239, 'leftovers': 10240, 'starving.': 10241, 'cooked.': 10242, 'diet?': 10243, 'fatty': 10244, 'interview?': 10245, 'badrith': 10246, 'chennai:)i': 10247, 'us:)no': 10248, 'mate...': 10249, 'leave...': 10250, 'owe': 10251, 'yck': 10252, 'nic': 10253, 'checkin': 10254, 'number-so': 10255, 'it?t.b*': 10256, 'house,': 10257, 'armenia': 10258, 'swann': 10259, 'howard': 10260, '09058097189': 10261, '330.': 10262, '1120': 10263, '1205': 10264, 'mind?': 10265, '\"wylie': 10266, 'justify': 10267, 'little.': 10268, 'comes..': 10269, 'comes,': 10270, 'hunt': 10271, 'goodmorning:)': 10272, 'leona?': 10273, '5226': 10274, '?350': 10275, 'hava': 10276, '1131': 10277, \"rct'\": 10278, 'thnq': 10279, 'adrian': 10280, 'rgds': 10281, 'vatian': 10282, 'everyones': 10283, 'babysitting': 10284, \"it'll\": 10285, 'tough,': 10286, 'gonnamissu': 10287, 'much!!i': 10288, 'buttheres': 10289, 'aboutas': 10290, 'merememberin': 10291, 'asthere': 10292, 'ofsi': 10293, 'breakin': 10294, 'contract!!': 10295, 'yaxx': 10296, 'poortiyagi': 10297, 'odalebeku:': 10298, 'hanumanji': 10299, '1-hanuman': 10300, '2-bajarangabali': 10301, '3-maruti': 10302, '4-pavanaputra': 10303, '5-sankatmochan': 10304, '6-ramaduth': 10305, '7-mahaveer': 10306, 'janarige': 10307, 'ivatte': 10308, 'kalisidare': 10309, 'olage': 10310, 'ondu': 10311, 'keluviri...!': 10312, 'maretare': 10313, 'inde': 10314, 'dodda': 10315, 'problum': 10316, 'nalli': 10317, 'siguviri': 10318, 'idu': 10319, 'matra': 10320, 'true..': 10321, 'neglet.': 10322, 'bishan?': 10323, 'trouble?': 10324, 'ijust': 10325, 'talked': 10326, 'morning!': 10327, 'opps,': 10328, 'confused...': 10329, \"tt's\": 10330, 'gei.': 10331, 'happend': 10332, 'tron.': 10333, 'dl': 10334, 'selfish': 10335, 'worries,': 10336, 'spiffing': 10337, 'workage.': 10338, 'craving': 10339, 'ice.': 10340, 'fml': 10341, 'office?': 10342, 'supose': 10343, 'much.i': 10344, 'babysit': 10345, 'there.xx': 10346, 'since.': 10347, 'spaces.': 10348, 'embassy': 10349, 'work...': 10350, 'painting?': 10351, '11?': 10352, 'lightly,': 10353, 'checkboxes': 10354, 'hundred.he': 10355, 'batsman:-)': 10356, \"yetty's\": 10357, 'theory': 10358, 'book?': 10359, 'may.': 10360, 'jiayin.': 10361, '09050000928.': 10362, '*covers': 10363, 'kisses*': 10364, 'walmart.': 10365, 'welcome...': 10366, 'baby.': 10367, 'talk?': 10368, 'brand?': 10369, 'emailed': 10370, 'yifeng': 10371, 'oredi..': 10372, 'him..': 10373, \"they'll\": 10374, 'slurp!': 10375, '3miles': 10376, 'taxi.': 10377, 'ing': 10378, 'cinema.': 10379, 'brainless': 10380, 'doll..:-d;-),': 10381, 'vehicle': 10382, 'sariyag': 10383, 'madoke': 10384, 'barolla..': 10385, '07090201529': 10386, 'phone:)': 10387, 'postponed,': 10388, 'stocked': 10389, 'pa..': 10390, 'tiime': 10391, 'tears.': 10392, 'fml.': 10393, 'smoke,': 10394, 'afternon,': 10395, 'interviews.': 10396, 'shuhui?': 10397, 'resizing': 10398, 'finished.': 10399, '09066364349': 10400, 'box434sk38wp150ppm18+': 10401, 'opposed': 10402, 'sunday?': 10403, 'msg:we': 10404, 'shortcode': 10405, '83332.please': 10406, '08081263000': 10407, 'refunded.this': 10408, 'somerset...': 10409, 'far!': 10410, 'overtime': 10411, 'nigpun?': 10412, 'dismissial': 10413, 'test:-).': 10414, 'screwd': 10415, '08712402972': 10416, 'cooking': 10417, 'bull.': 10418, 'floating': 10419, '09058095201': 10420, 'heehee': 10421, 'arithmetic': 10422, 'percentages.': 10423, 'least,': 10424, 'honey.': 10425, \"'an\": 10426, \"quote''\": 10427, '\"sometimes': 10428, 'wrong!!': 10429, 'tear....\"': 10430, 'chillaxin,': 10431, 'das': 10432, 'cool...': 10433, 'iknow': 10434, 'wellda': 10435, 'peril': 10436, 'studentfinancial': 10437, 'crisis!spk': 10438, 'l8r.\"': 10439, 'hill.....': 10440, 'monster!': 10441, 'though!': 10442, 'obey': 10443, 'didnt.': 10444, 'pic.': 10445, 're-send.': 10446, 'uhhhhrmm': 10447, 'enuff': 10448, 'mb...': 10449, 'gbp/sms': 10450, '600': 10451, '400': 10452, 'deltomorrow': 10453, '09066368470': 10454, 'welcome!': 10455, 'begin.': 10456, 'e.g': 10457, '24m': 10458, '1-month': 10459, 'calls!': 10460, 'smartcall': 10461, '68866.': 10462, 'subscriptn3gbp/wk': 10463, 'help:': 10464, '08448714184': 10465, 'stop?txt': 10466, 'landlineonly': 10467, '£s': 10468, 'texts/weekend': 10469, 'callback': 10470, 'orno': 10471, 'fink': 10472, '09099726553': 10473, 'promised': 10474, 'carlie': 10475, 'calls£1/minmobsmore': 10476, 'lkpobox177hp51fl': 10477, 'youphone': 10478, 'athome': 10479, 'youwanna': 10480, 'chat.\"': 10481, 'jack': 10482, 'say/ask': 10483, 'helpful': 10484, 'pretend': 10485, 'hypotheticalhuagauahahuagahyuhagga': 10486, 'brainy': 10487, 'occasion': 10488, 'celebrated': 10489, 'reflection': 10490, 'ur...': 10491, 'values...,': 10492, 'desires...,': 10493, 'affections...&amp;': 10494, 'traditions....': 10495, 'christmas...': 10496, 'cantdo': 10497, 'anythingtomorrow': 10498, 'myparents': 10499, 'aretaking': 10500, 'outfor': 10501, 'meal.': 10502, 'katexxx\"': 10503, 'level': 10504, 'record:)': 10505, 'gate?': 10506, '89105.': 10507, 'lingerie': 10508, 'www.bridal.petticoatdreams.co.uk': 10509, 'weddingfriend': 10510, 'board': 10511, 'overheating': 10512, 'reslove.': 10513, 'inst': 10514, 'pending.': 10515, \"8'o\": 10516, 'la,': 10517, 'western': 10518, 'food...': 10519, 'prefer...': 10520, 'incident..': 10521, 'nowadays': 10522, 'notixiquating': 10523, 'laxinorficated': 10524, 'bambling': 10525, 'entropication....': 10526, 'oblisingately': 10527, 'opted': 10528, 'books': 10529, 'masteriastering': 10530, 'amplikater': 10531, 'fidalfication?': 10532, 'champlaxigating,': 10533, 'atrocious..': 10534, 'wotz': 10535, 'opinion????': 10536, 'junna': 10537, 'thk.': 10538, 'bathe.': 10539, 'door:)': 10540, 'knickers': 10541, '01223585236': 10542, 'nikiyu4.net': 10543, 'a30.': 10544, 'divert': 10545, 'wadebridge.i': 10546, 'brilliant': 10547, 'k..': 10548, 'vill': 10549, 'nb.': 10550, '2,': 10551, 'orc': 10552, '4...': 10553, 'seeking': 10554, 'sheets.': 10555, 'figures,': 10556, 'day:)except': 10557, 'sunday..': 10558, 'bus!': 10559, 'ended.': 10560, \"wherre's\": 10561, 'phone750': 10562, 'prospects.': 10563, '*a': 10564, 'resolution.': 10565, 'reply.be': 10566, 'frank...good': 10567, 'windows': 10568, 'logoff': 10569, 'sound..': 10570, 'parkin': 10571, 'vale...': 10572, 'asa': 10573, '09050000878.': 10574, 'prince': 10575, 'charming': 10576, 'hard...': 10577, 'mention': 10578, 'served': 10579, 'arnt': 10580, 'xxxxxxxxxxxxxx': 10581, 'dorothy@kiefer.com': 10582, 'thurs...': 10583, 'alle': 10584, 'mone,eppolum': 10585, 'oru': 10586, 'pole': 10587, 'allalo': 10588, 'fundamentals': 10589, 'life:': 10590, '\"walk,': 10591, 'king\"...!': 10592, '\"walk': 10593, 'care,whoever': 10594, 'king\"!...': 10595, '10.1mega': 10596, 'pixels,': 10597, '3optical': 10598, '5digital': 10599, 'dooms.': 10600, 'holiday,': 10601, 'both!': 10602, \"petey!noi'm\": 10603, 'time-hope': 10604, 'alrite.have': 10605, 'nit': 10606, 'js': 10607, 'am.x': 10608, 'burgundy': 10609, 'captaining': 10610, 'amrita': 10611, 'profile': 10612, 'bpo..': 10613, 'nighters.': 10614, 'persevered': 10615, 'apologise': 10616, 'advance.': 10617, 'cheaper.': 10618, 'regretted': 10619, 'spouse': 10620, 'pmt': 10621, 'sumthin!': 10622, '4give': 10623, 'shldxxxx': 10624, 'mate!!': 10625, \"that'd\": 10626, 'scenario': 10627, 'tonite...': 10628, 'spun-out': 10629, 'mo...': 10630, 'wrld.': 10631, 'nytho,': 10632, 'tx': 10633, 'fonin': 10634, 'hon,': 10635, '2mwen': 10636, 'frmcloud': 10637, '09071517866': 10638, '150ppmpobox10183bhamb64xe': 10639, 'club,': 10640, '10am': 10641, '8pm,': 10642, 'thurs,': 10643, 'fast!': 10644, '(getting': 10645, '8th)': 10646, '9,': 10647, 'pounded': 10648, 'actually,': 10649, 'oic': 10650, 'sea*': 10651, 'broadband': 10652, 'processed': 10653, 'successfully.': 10654, 'installation': 10655, 'tensed': 10656, '3,': 10657, 'coughing': 10658, 'lt': 10659, 'survey...': 10660, 'send.': 10661, 'warned': 10662, 'sprint': 10663, 'gower': 10664, 'am!?!': 10665, 'man?': 10666, \"'morrow.\": 10667, 'wk?': 10668, '4?': 10669, 'random!': 10670, 'chik.': 10671, \"100's\": 10672, '&xxx': 10673, 'filth': 10674, '69669.': 10675, 'saristar': 10676, 'e14': 10677, '9yt': 10678, '08701752560.': 10679, '450p': 10680, 'stop2': 10681, 'sick?': 10682, '420': 10683, '50%': 10684, '9061100010': 10685, 'wire3.net': 10686, '1st4terms': 10687, 'pobox84': 10688, 'mobcudb': 10689, 'already..sabarish': 10690, 'go..': 10691, '09050000460': 10692, 'j89.': 10693, 'box245c2150pm': 10694, 'inpersonation': 10695, 'flea': 10696, 'forums.': 10697, 'banneduk': 10698, 'highest': 10699, '£54.': 10700, 'maximum': 10701, '£71.': 10702, 'bid,': 10703, '(to': 10704, '£10)': 10705, '83383.': 10706, 'luck.': 10707, \"ny's\": 10708, 'taj': 10709, 'lesser': 10710, 'known': 10711, 'facts': 10712, \"shahjahan's\": 10713, 'wifes.': 10714, 'shahjahan': 10715, 'arises': 10716, 'love?:-|': 10717, '-the': 10718, 'hari-': 10719, 'ok..come': 10720, 'chat..': 10721, \"valentine's\": 10722, 'text:': 10723, '69101.': 10724, 'www.rtf.sphosting.com': 10725, 'webadres': 10726, 'geting': 10727, 'confirmed': 10728, 'passport': 10729, 'dat..': 10730, 'account..': 10731, 'multiply': 10732, 'independently': 10733, 'division,': 10734, 'showed': 10735, 'be.': 10736, 'twins': 10737, 'maga': 10738, 'strt': 10739, 'ltdhelpdesk:': 10740, '02085076972': 10741, 'equally': 10742, 'uneventful': 10743, 'pesky': 10744, 'cyclists': 10745, ';).': 10746, 'were/are': 10747, 'nalla': 10748, 'adi': 10749, 'entey': 10750, 'nattil': 10751, 'kittum': 10752, 'wkend.': 10753, 'hire': 10754, 'hitman': 10755, 'year!': 10756, 'august': 10757, 'draw.': 10758, '09066660100': 10759, '2309.': 10760, 'cps': 10761, 'outages': 10762, 'conserve': 10763, 'energy.': 10764, 'ask:-)': 10765, 'pa...': 10766, 'jordan': 10767, 'voted': 10768, 'nite!': 10769, 'epi,': 10770, 'bare': 10771, 'cal.': 10772, 'bhaskar,': 10773, 'extra,': 10774, 'individual': 10775, 'gong.': 10776, 'kaypoh..': 10777, 'collecting.': 10778, 'basketball.': 10779, 'outdoors.': 10780, 'range': 10781, 'interfued': 10782, 'listed': 10783, ':zed': 10784, 'apology': 10785, 'hustle': 10786, 'forth': 10787, 'harlem.': 10788, 'workout': 10789, 'fats...': 10790, 'zac': 10791, 'sent:)': 10792, 'fri!': 10793, 'sexy...': 10794, 'those!': 10795, 'hui': 10796, 'xin': 10797, 'lib.': 10798, 'difference.': 10799, 'versus': 10800, 'cry.': 10801, 'else,': 10802, 'pushes': 10803, 'edge.': 10804, 'underdtand': 10805, '\"me': 10806, 'it+both': 10807, '+cheer': 10808, 'up+not': 10809, 'muchxxlove': 10810, 'locaxx\"': 10811, '07090298926': 10812, 'ref:9307622': 10813, 'skateboarding': 10814, 'thrown': 10815, 'winds': 10816, 'bandages': 10817, '\"stop': 10818, 'mix\"': 10819, 'my-tone.com/enjoy.': 10820, 'html': 10821, 'terms.': 10822, 'gbp4.50/week.': 10823, 'mfl,': 10824, '1146': 10825, '(2/3)': 10826, 'upstairs.': 10827, 'hectic': 10828, 'swoop.': 10829, 'date.': 10830, 'wamma': 10831, 'laid?want': 10832, 'doggin': 10833, 'dogs': 10834, 'now!nyt.': 10835, '£1.50/msg.': 10836, 'cancel,': 10837, 'forgiven!': 10838, 'langport.': 10839, 'virtual': 10840, 'hug?...': 10841, 'apnt': 10842, '5pm.': 10843, 'really??': 10844, 'air?': 10845, 'talent?': 10846, 'pants.': 10847, 'wait.i': 10848, 'out..': 10849, 'weekend!': 10850, 'langport?': 10851, 'xmas!': 10852, 'go2sri': 10853, 'lanka?': 10854, 'word.....not': 10855, 'merely': 10856, 'relationship.....its': 10857, 'wherevr..': 10858, 'whenevr..': 10859, 'forevr...': 10860, 'gudnyt': 10861, 'cannot?': 10862, 'mistakes?': 10863, 'sweet...': 10864, 'sweetheart': 10865, 'plum': 10866, '*smacks': 10867, 'ass*': 10868, '50s?': 10869, 'alot': 10870, 'class:-)': 10871, 'formatting...': 10872, 'attracts': 10873, 'promotion': 10874, 'number:': 10875, '8714714': 10876, 'lou': 10877, 'reply-': 10878, 'lancaster,': 10879, 'neway': 10880, 'soc...': 10881, 'ar...': 10882, 'morning:)': 10883, 'bsn': 10884, 'advising': 10885, 'lobby': 10886, 'showered': 10887, \"er'ything!\": 10888, 'lubly!': 10889, 'rs.5': 10890, '087147123779am-7pm.': 10891, 's:)but': 10892, 'luck.2': 10893, 'catches': 10894, 'down:)': 10895, 'specify': 10896, 'domain': 10897, 'nusstu...': 10898, 'oh...i': 10899, 'haha...take': 10900, 'pouch?': 10901, 'loverboy!': 10902, 'studying?': 10903, 'vale': 10904, 'habit..': 10905, 'bari': 10906, 'hudgi': 10907, 'yorge': 10908, 'pataistha': 10909, 'ertini': 10910, 'kano:-)': 10911, 'pa?': 10912, 'commercial': 10913, 'hasbro...in': 10914, 'august!': 10915, 'jump': 10916, 'hoops': 10917, 'late,so': 10918, 'morning.take': 10919, 'dreams....u': 10920, 'me...ummifying...bye.': 10921, 'associate.': 10922, 'rip': 10923, 'uterus.': 10924, 'jacuzzi': 10925, 'x49.': 10926, '09065989182.': 10927, 'from:': 10928, '[colour=red]text[/colour]txtstar': 10929, 'blank.': 10930, 'blank?': 10931, 'movie...': 10932, '2nights': 10933, 'uve': 10934, 'xchat,': 10935, 'wildest': 10936, 'chat!': 10937, 'spl..wat': 10938, 'whr': 10939, 'yet..': 10940, 'aldrine,': 10941, 'rakhesh': 10942, 'rtm': 10943, 'here.pls': 10944, 'call.urgent.': 10945, 'sources': 10946, 'unhappiness!': 10947, 'comes!': 10948, 'any,': 10949, 'necesity': 10950, 'life?': 10951, 'witout': 10952, 'frnd..': 10953, \"hw'd\": 10954, 'colleg?': 10955, \"wat'll\": 10956, 'wth': 10957, 'cell?': 10958, 'functions?': 10959, 'events': 10960, \"espe'll\": 10961, 'cared,': 10962, 'irritated': 10963, '4wrd': 10964, 'dear-loving': 10965, 'wthout': 10966, 'takecare..:)': 10967, 'univ.': 10968, 'rajas': 10969, 'burrito,': 10970, 'stitch': 10971, 'trouser': 10972, '2/2': 10973, '146tf150p': 10974, 'cheetos': 10975, 'penis': 10976, 'synced': 10977, 'shangela.': 10978, 'passes': 10979, '08704439680.': 10980, 'buzz!': 10981, 'again*loving': 10982, 'crazy,': 10983, 'early?': 10984, 'poo': 10985, 'gloucesterroad': 10986, 'uup': 10987, 'ouch': 10988, 'asked,': 10989, 'forgiveness?\"': 10990, '\"it': 10991, 'fruit': 10992, 'stone..': 10993, 'night......': 10994, 'ask.': 10995, 'glo': 10996, '09058095107': 10997, 's3xy': 10998, 'yes.mum': 10999, 'strong:)': 11000, 'sore...': 11001, 'wlcome': 11002, 'timi': 11003, 'hrishi.': 11004, 'again..': 11005, 'fishrman': 11006, 'mrng.': 11007, 'dark.': 11008, 'sack': 11009, 'stones.': 11010, 'strtd': 11011, 'throwin': 11012, 'thm': 11013, '1stone,': 11014, 'stones,': 11015, 'diamonds.': 11016, 'moral:\"dont': 11017, \"mrng''\": 11018, 'spree,': 11019, '08717895698': 11020, 'mobstorequiz10ppm': 11021, 'physics': 11022, 'a-?': 11023, 'ar.praveesh.': 11024, 'delicious': 11025, 'transaction?': 11026, 'salad': 11027, 'desert': 11028, 'something...': 11029, 'beers': 11030, 'whore': 11031, 'unbelievable.': 11032, '\"get': 11033, 'warm?': 11034, '*adoring': 11035, 'twinks,': 11036, 'bears,': 11037, 'scallies,': 11038, 'skins': 11039, 'jocks': 11040, '08712466669': 11041, '08712460324(nat': 11042, 'flood': 11043, 'cum...': 11044, 'dr.': 11045, 'beads': 11046, 'ever.': 11047, 'wishlist': 11048, 'section': 11049, 'forums': 11050, 'nitro': 11051, 'requests.': 11052, \"'need'\": 11053, \"'comfort'\": 11054, \"'luxury'\": 11055, 'sold': 11056, 'india..!!': 11057, 'onion-rs.': 11058, 'petrol-rs.': 11059, 'beer-rs.': 11060, 'nvm,': 11061, \"armand's\": 11062, 'bro.': 11063, 'creative.': 11064, 'fake..my': 11065, 'reffering': 11066, 'u..if': 11067, 'link,': 11068, 'getiing': 11069, 'rs..i': 11070, 'rs..': 11071, 'weirdy': 11072, 'brownies': 11073, 'cookies.': 11074, '09061701851.': 11075, 'k61.': 11076, '12hours': 11077, 'restrict': 11078, 'audrey': 11079, '7.30': 11080, '8.30': 11081, 'age.': 11082, 'god.not': 11083, 'jesus.': 11084, 'her...': 11085, 'chikku..k,': 11086, 'irritating': 11087, 'msging': 11088, 'vivek..': 11089, '74355': 11090, 'exams,': 11091, 'at,': 11092, 'issue.': 11093, 'out--if': 11094, 'there--': 11095, 'greece.': 11096, 'recorded': 11097, 'someday': 11098, 'goodmorning,my': 11099, 'grandfather': 11100, 'expired..so': 11101, 'november': 11102, '09061104276': 11103, 'cost£3.75max': 11104, 'yuou': 11105, 'spot': 11106, 'agree.': 11107, 'bunch': 11108, 'lotto': 11109, 'tickets.': 11110, 'deal?': 11111, 'auction..': 11112, 'bird!': 11113, 'purchases': 11114, 'rent.': 11115, 'authorise': 11116, 'payment.': 11117, 'erm': 11118, '6.45pm.': 11119, 'honey?did': 11120, 'holiday?': 11121, 'gimmi': 11122, 'goss!x': 11123, 'pain.it': 11124, 'today.do': 11125, 'ystrday.ice': 11126, 'chile,': 11127, 'subletting': 11128, 'feb-april': 11129, 'season.': 11130, 'ammae....life': 11131, 'steering...': 11132, 'thought,': 11133, \"anything's\": 11134, 'mmmm....': 11135, 'excuses': 11136, 'cuddling..': 11137, 'sleeps': 11138, 'rounder:)so': 11139, 'required:)': 11140, 'true..k,do': 11141, 'lambu': 11142, 'ji': 11143, 'come..til': 11144, 'batchlor': 11145, 'party:-)': 11146, 'open.': 11147, 'zoom': 11148, 'cine...': 11149, 'area!': 11150, 'now!send': 11151, '62220cncl': 11152, 'stopcs': 11153, '08717890890£1.50': 11154, 'cheese.': 11155, '\\x93harry': 11156, 'yep.': 11157, 'ringtone!from:': 11158, 'http://tms.': 11159, 'wml?id=1b6a5ecef91ff9*37819&first=true18:0430-jul-05': 11160, 'god!': 11161, 'glad,': 11162, 'xafter': 11163, 'cst': 11164, 'chg': 11165, 'pure': 11166, 'hearted': 11167, 'his/her': 11168, 'enemies': 11169, 'enemy..': 11170, 'smile..:)': 11171, 'smiley': 11172, 'sunday..:)': 11173, 'girl,': 11174, 'gail': 11175, 'wrong!!take': 11176, 'worry.c': 11177, 'hun!love': 11178, 'yaxxx': 11179, 'theoretically': 11180, 'hooked': 11181, 'of,': 11182, 'formally.pls': 11183, 'praying.will': 11184, 'is-': 11185, 'more\"': 11186, ':-):-).': 11187, 'multimedia': 11188, 'e-mail?': 11189, 'fat...': 11190, 'senthil.hsbc': 11191, 'vague.': 11192, 'accounting': 11193, 'delayed': 11194, 'housing': 11195, 'agency': 11196, 'renting': 11197, 'juan.': 11198, 'presents.': 11199, 'nicky': 11200, \"gumby's\": 11201, 'cheese': 11202, '$2': 11203, 'http://alto18.co.uk/wave/wave.asp?o=44345': 11204, 'sized': 11205, 'same,': 11206, 'tarpon': 11207, 'springs': 11208, 'cab': 11209, 'available.they': 11210, 'steps.': 11211, 'ok....take': 11212, 'care.umma': 11213, 'limited': 11214, 'call2optout/hf8': 11215, '09061702893.': 11216, 'confirmed...': 11217, 'depends.': 11218, 'treated?': 11219, '08719181259': 11220, 'xxxxx': 11221, '26.03.05': 11222, 'dear.take': 11223, 'plan!': 11224, 'cold!': 11225, 'radiator!': 11226, 'proper': 11227, 'tongued': 11228, 'shorts...': 11229, 'qi...': 11230, 'suddenly': 11231, 'this...': 11232, 'wish!': 11233, 'flurries': 11234, 'eek!': 11235, 'born!': 11236, 'free>ringtone!': 11237, 'real1': 11238, 'pushbutton': 11239, 'dontcha': 11240, 'babygoodbye': 11241, 'golddigger': 11242, 'webeburnin': 11243, 'perform,': 11244, 'cards': 11245, 'raining?': 11246, 'right..': 11247, 'rebooting': 11248, 'nigh': 11249, 'urself.': 11250, 'present.': 11251, 'nooooooo': 11252, 'cable': 11253, 'outage.': 11254, 'sos!': 11255, 'playin': 11256, 'poker,': 11257, 'guoyang': 11258, 'rahul': 11259, 'dengra.': 11260, 'bird': 11261, 'antelope': 11262, 'toplay': 11263, 'fieldof': 11264, 'selfindependence': 11265, 'contention': 11266, 'grow.random!': 11267, 'doctor?': 11268, 'gnarls': 11269, 'barkleys': 11270, '\"crazy\"': 11271, 'borderline': 11272, '545': 11273, '??': 11274, 'early,': 11275, 'nightnight': 11276, 'possibility': 11277, 'grooved': 11278, 'along.': 11279, 'oso.': 11280, 'mising': 11281, 'bit...': 11282, 'refused': 11283, 'loan?': 11284, 'secured': 11285, 'unsecured?': 11286, 'credit?': 11287, '195': 11288, '6669': 11289, 'will!': 11290, 'pop.': 11291, 'yest?': 11292, '=)': 11293, 'training:-)': 11294, 'lanre': 11295, \"fakeye's\": 11296, 'eckankar': 11297, 'ph?': 11298, '\"3000': 11299, 'bruv!': 11300, 'heater?': 11301, 'heater': 11302, 'degrees.': 11303, 'sacrifice.': 11304, 'process': 11305, 'classes': 11306, 'dodgey': 11307, 'tomo!': 11308, 'recovery,': 11309, 'call2optout/674&': 11310, 'j?': 11311, 'seing': 11312, 'face...............asssssholeeee................': 11313, 'unsold': 11314, 'rate..': 11315, 'ceri': 11316, 'rebel!': 11317, 'dreamz': 11318, 'buddy!!': 11319, '2moro!': 11320, 'blokes': 11321, 'ringtoneking': 11322, '84484': 11323, 'have?': 11324, 'nationwide': 11325, 'that)': 11326, 'newport': 11327, 'juliana.': 11328, 'nachos.': 11329, 'eta.': 11330, 'dizzamn,': 11331, 'suitemates': 11332, 'nimbomsons.': 11333, 'cuddle!': 11334, 'continent?': 11335, 'k...k...when': 11336, 'treat?': 11337, '087104711148': 11338, 'gift?': 11339, 'emerging': 11340, 'fiend/make': 11341, 'much/impede': 11342, 'hesitant': 11343, 'ow': 11344, 'dey.i': 11345, '60,400thousad.i': 11346, 'funny!': 11347, 'afternoon?': 11348, 'sumthin?xx': 11349, 'ring.': 11350, 'nose': 11351, 'essay': 11352, 'everywhere...': 11353, 'tram.': 11354, 'cousin': 11355, 'vic': 11356, 'coherently,': 11357, 'triple': 11358, 'echo': 11359, 'cheap:-)': 11360, 'eek': 11361, '\"gran': 11362, 'onlyfound': 11363, 'afew': 11364, 'ago.cusoon': 11365, 'honi\"': 11366, 'bx526,': 11367, 'southern': 11368, 'rayan': 11369, 'macleran': 11370, 'balls.': 11371, 'conform.': 11372, 'moan?': 11373, '[…]': 11374, 'olave': 11375, 'mandara': 11376, 'kano': 11377, 'trishul': 11378, 'woo': 11379, 'hoo': 11380, 'dude!': 11381, 'panties?': 11382, 'thout': 11383, 'flatter': 11384, 'pints': 11385, 'carlin': 11386, 'please....': 11387, 'scared!': 11388, 'ciao!': 11389, 'x49.your': 11390, '09065989182': 11391, 'starve': 11392, 'impression': 11393, 'motivate': 11394, 'darkness,': 11395, 'time.you': 11396, 'wknd': 11397, 'starting.': 11398, 'yalrigu': 11399, 'heltini..iyo': 11400, 'me..so': 11401, 'uttered': 11402, 'trusting': 11403, 'others..': 11404, 'me..ok,': 11405, 'chikku:-);-)b-)': 11406, 'noice.': 11407, 'esaplanade': 11408, 'accessible.': 11409, '08709501522': 11410, 'details!': 11411, '139,': 11412, 'la3': 11413, '2wu.': 11414, '£1.50/week.': 11415, 'occurs': 11416, 'ages.': 11417, 'prof:': 11418, 'student:': 11419, 'enna': 11420, 'kalaachutaarama..!!': 11421, 'prof:????': 11422, 'mrng!': 11423, 'coco': 11424, 'sporadically': 11425, '09064017305': 11426, 'pobox75ldns7': 11427, 'tbs/persolvo.': 11428, 'for£38': 11429, 'kath.': 11430, 'manchester.': 11431, 'burden': 11432, 'noworriesloans.com': 11433, '08717111821': 11434, 'harder': 11435, 'nbme': 11436, 'sickness': 11437, 'round.': 11438, '87077:': 11439, '2wks': 11440, 'goals': 11441, 'villa': 11442, 'sathya': 11443, 'sathya.': 11444, 'gam': 11445, 'smash': 11446, 'religiously.': 11447, 'feb.': 11448, 'tm.': 11449, 'move,': 11450, 'guilty...': 11451, 'heroes,': 11452, 'tips': 11453, '07973788240': 11454, '08715203649': 11455, 'dealing': 11456, 'muhommad,': 11457, 'penny': 11458, 'fiting': 11459, 'load': 11460, 'abi': 11461, 'hw,keep': 11462, 'luv.': 11463, 'mj': 11464, 'unconvinced': 11465, 'elaborate': 11466, 'willpower': 11467, 'everything\".': 11468, '\".': 11469, 'absence....': 11470, 'answerin': 11471, 'sleepy': 11472, '»10': 11473, 'evey': 11474, 'mnth': 11475, 'prin': 11476, '…thanks': 11477, 'gsoh?': 11478, 'spam': 11479, 'ladies?u': 11480, 'gigolo?': 11481, 'mens': 11482, 'oncall.': 11483, 'mjzgroup.': 11484, '08714342399.2stop': 11485, 'msg@£1.50rcvd': 11486, 'ashwini': 11487, '08707500020': 11488, 'tomorrow/today?': 11489, '<ukp>2000': 11490, '09061790125': 11491, 'joke--thet': 11492, 'skinny': 11493, 'line--you': 11494, 'casting': 11495, 'look.': 11496, 'hockey': 11497, 'elections': 11498, 'shouldn‘t': 11499, '116': 11500, 'hlday': 11501, 'camp': 11502, 'amrca': 11503, 'serena:)': 11504, 'yunny...': 11505, 'prescribed': 11506, 'loverboy.': 11507, 'meatballs': 11508, 'approve': 11509, 'panalam...but': 11510, 'posts..': 11511, 'spjanuary': 11512, 'workin.': 11513, 'job...': 11514, 'someone.': 11515, 'fortune': 11516, 'u...\"': 11517, 'allday!': 11518, 'town.': 11519, 'perf?': 11520, 'legal.': 11521, 'outsider': 11522, 'receipts—well': 11523, '(…)': 11524, 'what‘s': 11525, 'meh': 11526, 'heavy...': 11527, '98321561': 11528, 'familiar': 11529, 'expression': 11530, 'everyone...': 11531, 'depression': 11532, 'ones..': 11533, 'ni8;-)': 11534, 'infact': 11535, 'simpsons': 11536, 'band': 11537, 'film?': 11538, 'a-green': 11539, 'b-blue': 11540, 'c-red': 11541, '(send': 11542, 'c)': 11543, 'shame!': 11544, 'cornwall.': 11545, 'shite.': 11546, 'kip': 11547, 'hont.': 11548, 'amanda': 11549, 'regard': 11550, 'renewing': 11551, 'upgrading': 11552, 'handset': 11553, '3680': 11554, 'subject': 11555, 'nannys': 11556, 'eaten?': 11557, 'fighting?': 11558, 'puts': 11559, 'perspective': 11560, 'so...not': 11561, 'conveying': 11562, 'reason..': 11563, 'he...': 11564, 'planned?': 11565, 'debating': 11566, 'http://www.wtlp.co.uk/text.': 11567, 'flaked.': 11568, 'jb': 11569, 'you,so': 11570, \"joke's\": 11571, 'florida': 11572, 'wisdom': 11573, 'hidden': 11574, 'remove.': 11575, 'queen.': 11576, 'lag.': 11577, 'teams': 11578, 'swhrt': 11579, 'dey,hope': 11580, '2day.love': 11581, 'miss.take': 11582, 'planned.': 11583, '0906346330.': 11584, '47': 11585, 'po19': 11586, '2ez': 11587, 'vote?': 11588, 'sore!': 11589, 'general': 11590, '/oz,': 11591, 'if/when/how': 11592, 'day,has': 11593, 'value-morning': 11594, 'hope,afternoon': 11595, 'faith,evening': 11596, 'luv,night': 11597, 'rest,wish': 11598, 'today.good': 11599, 'jetton': 11600, 'friend-of-a-friend': 11601, 'cmon': 11602, 'horny,': 11603, '*turn*': 11604, '-)': 11605, 'replies': 11606, '£1.50.': 11607, 'wylie': 11608, 'dealer': 11609, 'lunsford': 11610, 'decision': 11611, 'enjoying': 11612, 'semester?': 11613, '0796xxxxxx.': 11614, 'day!2': 11615, 'prizeawaiting': 11616, 'first..': 11617, 'kfc': 11618, 'meals': 11619, 'gravy.': 11620, 'mark.': 11621, 'da:)he': 11622, 'da..always': 11623, 'this:)don': 11624, 'message.pandy': 11625, 'mental:)': 11626, 'oi': 11627, '07008009200': 11628, 'attended': 11629, 'mw': 11630, 'tuth': 11631, 'ad.': 11632, 'xy?': 11633, \"mine's\": 11634, 'eviction': 11635, 'spiral': 11636, 'michael': 11637, 'riddance': 11638, 'them!': 11639, 'suffers': 11640, 'silence': 11641, 'people!\",': 11642, 'night....': 11643, 'raglan': 11644, 'edward': 11645, 'cricket': 11646, 'closeby': 11647, 'da..please:)': 11648, 'skye': 11649, 'bookedthe': 11650, 'hut?': 11651, 'off?': 11652, 'drastic.': 11653, '3750': 11654, 'garments': 11655, 'random.': 11656, 'sez,': 11657, 'arab': 11658, 'evry1': 11659, 'eshxxxxxxxxxxx': 11660, 'lay': 11661, 'bimbo': 11662, \"ugo's\": 11663, 'numbers,': 11664, 'detroit.': 11665, 'colours!': 11666, '2-4-1': 11667, '3lions': 11668, 'info!': 11669, 'toshiba': 11670, 'portege': 11671, 'm100': 11672, 'gd?': 11673, 'semiobscure': 11674, '69669': 11675, 'ringtones.': 11676, 'gprs': 11677, 'repeat,': 11678, 'loosu': 11679, 'careless.': 11680, 'eighth?': 11681, 'freaking': 11682, 'myspace': 11683, 'logged': 11684, \"partner's\": 11685, 'method': 11686, 'calculation.': 11687, 'must.': 11688, 'blur': 11689, 'blur...': 11690, 'clothes,': 11691, 'jewelry,': 11692, 'breaker': 11693, 'deluxe': 11694, 'features': 11695, 'graphics': 11696, 't-mobile.': 11697, '£5': 11698, 'bbdeluxe': 11699, 'aah!': 11700, 'fumbling!': 11701, 'stone': 11702, 'taunton.': 11703, 'weekdays': 11704, 'price...': 11705, 'nails': 11706, 'wat,': 11707, \"nobody's\": 11708, 'asia.': 11709, 'stil': 11710, 'tobed': 11711, '430': 11712, 'pimples': 11713, 'connections': 11714, 'those?': 11715, 'asthma': 11716, 'attack,': 11717, 'ball': 11718, 'lot.will': 11719, 'spin': 11720, ':)so': 11721, 'bat:)': 11722, 'haiyoh...': 11723, 'million': 11724, \"aunty's\": 11725, 'glad.': 11726, 'dreams.': 11727, 'finally...': 11728, 'urgent.': 11729, '02': 11730, 'prsn': 11731, 'dem.': 11732, 'somtimes': 11733, 'saves': 11734, 'quiet': 11735, 'relation..': 11736, 'eveb-)': 11737, 'science': 11738, 'bcoz,i': 11739, 'audiitions': 11740, 'relocate.': 11741, 'pocked': 11742, 'congrats.': 11743, 'motivating': 11744, 'sharing': 11745, 'me.........': 11746, 'care:-)': 11747, 'brison': 11748, 'language': 11749, 'okay,': 11750, 'problem,': 11751, 'thanx!': 11752, 'information,': 11753, 'spelled': 11754, 'caps.': 11755, 'yelling.': 11756, 'bullshit': 11757, 'less.': 11758, 'g.w.r': 11759, 'drunk': 11760, 'motherfucker': 11761, 'kit': 11762, 'strip': 11763, '1013': 11764, 'ig11': 11765, 'oja': 11766, '08712402578': 11767, 'thesmszone.com': 11768, 'anonymous': 11769, 'masked': 11770, 'messages..im': 11771, 'there..do': 11772, 'abuse???': 11773, 'erm...': 11774, 'woodland': 11775, 'avenue': 11776, 'somewhere.': 11777, 'parish': 11778, 'magazine,': 11779, 'available?': 11780, 'type.': 11781, 'billy': 11782, 'jogging,': 11783, 'concert?': 11784, 'awww': 11785, 'useless': 11786, 'loo': 11787, 'hello-ed': 11788, 'swollen': 11789, 'glands': 11790, 'big?': 11791, 'report.': 11792, 'room:)': 11793, 'speak,': 11794, 'bcaz': 11795, 'stu': 11796, '2.im': 11797, 'truble': 11798, 'evone': 11799, 'hates': 11800, 'bck': 11801, 's...i': 11802, 'only:)': 11803, 'gautham?': 11804, 'view': 11805, 'gays': 11806, 'dual': 11807, 'hostile': 11808, 'haircut.': 11809, 'breezy': 11810, '1apple/day=no': 11811, '1tulsi': 11812, 'leaf/day=no': 11813, '1lemon/day=no': 11814, 'fat.': 11815, '1cup': 11816, 'milk/day=no': 11817, 'problms': 11818, 'litres': 11819, 'watr/day=no': 11820, 'diseases': 11821, 'snd': 11822, 'care..:-)': 11823, 'hill': 11824, 'lavender?': 11825, 'manky': 11826, 'scouse': 11827, 'steve,like!': 11828, 'travelling': 11829, 'home.wot': 11830, 'inmind': 11831, 'recreation': 11832, 'gym.': 11833, 'ha!': 11834, 'seemed.': 11835, 'judgemental....i': 11836, 'fridays': 11837, 'best?': 11838, 'hi:)did': 11839, 'waheeda': 11840, 'half-8th': 11841, 'bot': 11842, 'notes': 11843, 'got...': 11844, 'save.': 11845, 'dear?y': 11846, 'smiling?': 11847, 'fact:': 11848, 'eventually': 11849, 'tolerance': 11850, 'smokes,': 11851, 'hits': 11852, '0789xxxxxxx.': 11853, 'hellogorgeous,': 11854, 'nitw': 11855, 'texd': 11856, 'hopeu': 11857, '4ward': 11858, 'c-in': 11859, 'jaz': 11860, 'shy!': 11861, '09058091870': 11862, 'page...': 11863, 'exorcism': 11864, 'emily': 11865, 'snogs!': 11866, 'second,': 11867, 'evry': 11868, 'emotion': 11869, 'words.evry': 11870, 'prayrs..': 11871, 'smile,d': 11872, 'u.othrwise': 11873, 'u.so': 11874, 'ujhhhhhhh': 11875, 'shipped': 11876, 'sandiago': 11877, 'parantella': 11878, 'lane.': 11879, 'hugging': 11880, 'both.': 11881, 'sweater': 11882, 'mango': 11883, 'irritating.': 11884, 'involved': 11885, '£600.': 11886, 'question:': 11887, 'landmark,': 11888, 'a.': 11889, 'bob,': 11890, 'barry': 11891, 'c.': 11892, '?.': 11893, '83738.': 11894, 'consent': 11895, 'forms': 11896, 'tonexs': 11897, 'renewed': 11898, 'www.clubzed.co.uk': 11899, '*billing': 11900, '9ja.': 11901, 'can‘t': 11902, 'mathews': 11903, 'tait': 11904, 'edwards': 11905, 'anderson': 11906, 'haunt': 11907, 'promoting': 11908, 'hex': 11909, '.by': 11910, 'crowd': 11911, '8000930705': 11912, 'snowboarding': 11913, 'go..a': 11914, 'cheers,': 11915, \"s.i'm\": 11916, 'christmassy': 11917, 'ready,': 11918, 'plans?': 11919, 'recpt': 11920, '1/3.': 11921, 'ringtone.': 11922, 'processed...': 11923, 'baaaaaaaabe!': 11924, 'ignoring': 11925, 'was.': 11926, ':-/': 11927, 'shola': 11928, 'medicine': 11929, 'department,': 11930, 'secretary': 11931, 'sagamu': 11932, 'lautech.': 11933, 'vital': 11934, 'completes': 11935, 'education': 11936, 'zealand.': 11937, 'qet...': 11938, 'other..': 11939, 'other...': 11940, 'words,': 11941, 'browser': 11942, 'surf...': 11943, 'subscribers': 11944, 'g.b.': 11945, 'enter.': 11946, 'well.you': 11947, 'life.you': 11948, 'that.i': 11949, 'conversations': 11950, 'us.get': 11951, 'time.your': 11952, 'senses.respect': 11953, 'overemphasise.or': 11954, 'headset': 11955, '\"adp\"': 11956, 'internal': 11957, 'extract': 11958, 'de:-)': 11959, 'god.you': 11960, 'immed.': 11961, 'to,': 11962, 'skint': 11963, 'fancied': 11964, 'bevies.waz': 11965, '&othrs': 11966, 'spoon': 11967, 'watchng': 11968, 'planet': 11969, 'earth&sofa': 11970, 'comfey;': 11971, 'quitting': 11972, 'least5times': 11973, \"wudn't\": 11974, 'darlings': 11975, 'coast...': 11976, 'back...': 11977, 'advice.': 11978, \"i'ma\": 11979, 'sleep...': 11980, 'frequently': 11981, 'message.it': 11982, 'money?': 11983, 'cupboard': 11984, 'noe?': 11985, 'route': 11986, '2mro': 11987, 'lib': 11988, 'floppy...': 11989, 'snappy': 11990, 'happy!': 11991, 'risk': 11992, 'grasp': 11993, 'tea.': 11994, 'flavour': 11995, 'laready': 11996, 'reaching?': 11997, 'denying': 11998, 'dom': 11999, 'roger?': 12000, 'ffffuuuuuuu': 12001, \"b'day,\": 12002, 'annie!': 12003, '\"julianaland\"': 12004, 'oblivious': 12005, \"upset--it's\": 12006, 'upset': 12007, 'mad.': 12008, 'dehydrated.': 12009, 'reach?': 12010, 'mapquest': 12011, '\"usf': 12012, 'dogwood': 12013, 'drive\",': 12014, 'tiny': 12015, 'archive.': 12016, 'sad...': 12017, 'uk-mobile-date': 12018, '08719839835.': 12019, 'mgs': 12020, '\"go': 12021, 'stop\"': 12022, '89123': 12023, 'speechless.': 12024, 'lengths': 12025, 'behalf': 12026, 'stunning.': 12027, 'visa': 12028, 'gucci': 12029, 'bags.': 12030, 'sha.': 12031, \"shit's\": 12032, 'roommate,': 12033, 'babe.sozi': 12034, 'culdnt': 12035, 'talkbut': 12036, 'wannatell': 12037, 'wenwecan': 12038, 'smsing': 12039, 'wa...': 12040, 'efficient...': 12041, '5.15pm': 12042, ':-)only': 12043, 'erutupalam': 12044, 'thandiyachu': 12045, 'invention': 12046, \"fly..i'm\": 12047, 'joking.,': 12048, 'no..its': 12049, 'lyrics..': 12050, 'nevr': 12051, 'unrecognized.': 12052, 'somone': 12053, 'mistakes': 12054, 'valuing': 12055, 'definitly': 12056, 'undrstnd': 12057, 'ger': 12058, 'toking': 12059, 'syd': 12060, 'leh...haha': 12061, 'khelate': 12062, 'kintu': 12063, 'opponenter': 12064, 'dhorte': 12065, 'lage.': 12066, 'rule.': 12067, 'wins.': 12068, 'fried': 12069, 'spares': 12070, 'looovvve': 12071, 'warwick,': 12072, 'tmw,': 12073, 'canceled,': 12074, \"havn't\": 12075, 'ages,': 12076, 'sometime!': 12077, 'tops': 12078, 'grandma': 12079, 'parade': 12080, '+£400': 12081, 'proze': 12082, 'with:': 12083, '83355': 12084, 'norcorp': 12085, 'ltd.£1,50/mtmsgrcvd18+': 12086, 'decision?': 12087, 'bitch?': 12088, 'posting': 12089, 'chennai:)because': 12090, '7cfca1a': 12091, 'grumble': 12092, 'linear': 12093, 'algebra': 12094, '(an': 12095, 'decorating)': 12096, 'lesson,': 12097, 'wining': 12098, '946': 12099, 'roomate': 12100, 'graduated': 12101, 'intelligent,': 12102, 'caring,': 12103, 'loving,': 12104, 'adjustable,': 12105, 'cooperative': 12106, 'wife.': 12107, 'allows': 12108, 'wife....': 12109, 'valentine?': 12110, 'nottingham': 12111, '63miles.': 12112, '40mph.': 12113, 'clearly.': 12114, 'mornin..': 12115, 'thanku': 12116, 'same..': 12117, 'part..': 12118, 'guessed': 12119, 'cock!': 12120, \"hubby's\": 12121, '89938': 12122, 'strings': 12123, 'action.': 12124, '(txt': 12125, 'end,': 12126, '£1.50ea.': 12127, 'otbox': 12128, '731': 12129, 'la1': 12130, '7ws.': 12131, 'college!': 12132, 'it?xx': 12133, 'beside': 12134, 'brisk': 12135, 'walks': 12136, 'tonite?': 12137, 'invited?': 12138, 'sexiest': 12139, 'dirtiest': 12140, 'steve': 12141, 'tellmiss': 12142, 'daily:)': 12143, 'ask...': 12144, 'car?': 12145, \"party's\": 12146, '(but': 12147, 'contribute': 12148, 'greatly': 12149, 'appreciated)': 12150, 'urgh,': 12151, 'coach': 12152, 'smells': 12153, 'fat!': 12154, 'duvet': 12155, '(not': 12156, 'predictive': 12157, 'word).': 12158, 'hiya.': 12159, 'clothes': 12160, 'meet?': 12161, 'moby.': 12162, 'pic?': 12163, 'chat?im': 12164, 'w8in': 12165, '4utxt': 12166, 'success': 12167, 'lazy...': 12168, 'url': 12169, 'weight': 12170, 'eyes...': 12171, 'share...': 12172, '24th': 12173, 'sept.': 12174, '\"hey!': 12175, 'beverage': 12176, 'v.pist': 12177, 'surrender': 12178, '\"symptoms\"': 12179, '\"1.u': 12180, '2.u': 12181, '3.u': 12182, 'on...': 12183, 'rdy': 12184, 'it.(now': 12185, 'backwards)': 12186, 'abstract?': 12187, \"vikky..i'm\": 12188, 'torch.': 12189, 'g?': 12190, 'africa?': 12191, 'avin': 12192, 'laugh?': 12193, 'chit-chat': 12194, 'logon': 12195, '8883': 12196, '4217': 12197, 'w1a': 12198, '6zf': 12199, '118p/msg': 12200, '\"cha': 12201, 'quiteamuzing': 12202, \"that'scool\": 12203, 'babe,probpop': 12204, 'cu': 12205, 'satthen': 12206, '4brekkie!': 12207, 'psxtra': 12208, 'lrg': 12209, 'portions': 12210, '\"urgent!': 12211, '£1000call': 12212, '09071512432': 12213, '300603t&csbcm4235wc1n3xx.callcost150ppmmobilesvary.': 12214, '50\"': 12215, 'behind...': 12216, 'rows': 12217, '....my': 12218, 'engagement': 12219, 'fixd': 12220, 'bt....hmm': 12221, 'njan': 12222, 'vilikkam....t': 12223, 'sudn;-(.': 12224, 'maths': 12225, 'chapter': 12226, 'finish.': 12227, 'freak!': 12228, 'chop': 12229, 'off:-)': 12230, 'noooooooo': 12231, 'fair.': 12232, '09065171142-stopsms-08718727870150ppm': 12233, 'bit,': 12234, 'firsg': 12235, 'split': 12236, 'wasnt': 12237, 'yours!': 12238, 'change.': 12239, 'heat': 12240, 'pa:-)': 12241, 'applyed': 12242, 'oil': 12243, 'lt...': 12244, 'rest?': 12245, 'sumfing': 12246, 'better,': 12247, 'hopeso': 12248, 'hunny.': 12249, 'amnow': 12250, 'ithink': 12251, 'tonsolitusaswell!': 12252, 'layin': 12253, 'bedreal': 12254, 'lotsof': 12255, 'gee,': 12256, 'kaiez,': 12257, 'hiphop': 12258, 'managed': 12259, 'oxygen!': 12260, 'resort': 12261, 'roller': 12262, 'option!': 12263, 'pending': 12264, 'hard?': 12265, '4.30': 12266, 'quiz!': 12267, 'recorder': 12268, 'canname': 12269, 'australia?': 12270, 'mquiz': 12271, 'bottom...': 12272, 'nvm...': 12273, 'shoes': 12274, 'anyway...': 12275, 'showr': 12276, 'received,': 12277, 'upon!': 12278, 'ceiling.': 12279, 'presnts': 12280, 'bcz': 12281, '\"jeevithathile': 12282, 'irulinae': 12283, 'neekunna': 12284, 'prakasamanu': 12285, 'sneham\"': 12286, 'prakasam': 12287, 'ennal': 12288, \"'that\": 12289, 'mns': 12290, \"is'love'\": 12291, 'blowing': 12292, '7634': 12293, '7684': 12294, 'difficult:)': 12295, 'adventure': 12296, 'gay.': 12297, 'firmware': 12298, 'hair...': 12299, 'vijaykanth': 12300, 'tv..he': 12301, 'anythiing': 12302, 'havent.': 12303, 'ripped': 12304, 'www.clubmoby.com': 12305, '08717509990': 12306, 'poly/true/pix/ringtones/games': 12307, 'keypad.': 12308, 'chennai?': 12309, 'btwn': 12310, 'hands..': 12311, 'happened..!': 12312, 'decades..!': 12313, 'petrol!': 12314, 'goverment': 12315, 'expects': 12316, '\"drink\".': 12317, '\"drive': 12318, 'spice': 12319, 'prasanth': 12320, 'ettans': 12321, '08718738002': 12322, '48922': 12323, '21/11/04': 12324, 'india:-):': 12325, 'appy': 12326, 'fizz.': 12327, 'contains': 12328, 'genus': 12329, 'robinson': 12330, 'not..tel': 12331, 'name..': 12332, 'outs': 12333, 'soz': 12334, 'imat': 12335, 'mums': 12336, 'idiot\".': 12337, 'competition\".': 12338, 'freinds': 12339, 'forever!': 12340, 'msg..sometext': 12341, 'missing,': 12342, '07099833605': 12343, 'ref:9280114': 12344, 'chloe,': 12345, '150p/text': 12346, 'wewa': 12347, '130.': 12348, 'iriver': 12349, '255.': 12350, '128': 12351, 'mb.': 12352, 'bw': 12353, 'da..jst': 12354, 'hmmm.but': 12355, 'try,': 12356, 'surly': 12357, 'review.': 12358, 'ending,': 12359, 'complete.': 12360, 'sugar.': 12361, 'slowly.': 12362, '07808726822': 12363, '0871-872-9758': 12364, 'dumb': 12365, 'dokey,': 12366, 'anytime...': 12367, 'mmmmmmm': 12368, '*snuggles': 12369, 'you*': 12370, '...*deep': 12371, 'contented': 12372, '*whispers*': 12373, 'error.': 12374, 'healthy.': 12375, 'package.': 12376, 'bold,': 12377, '2bold?': 12378, 'giv..its': 12379, 'kano..anyway': 12380, 'salary..:-);-)': 12381, 'brother‘s': 12382, 'scraped': 12383, 'barrel': 12384, 'misfits': 12385, 'enuff...': 12386, 'ü..': 12387, 's:)8': 12388, 'lunch:)': 12389, 'care,': 12390, 'okie,': 12391, 'sections': 12392, 'clearer..': 12393, 'peach!': 12394, 'cake': 12395, 'tasts': 12396, 'rayman': 12397, 'golf': 12398, 'post,': 12399, 'activ8.': 12400, 'termsapply': 12401, \"there'll\": 12402, 'shindig': 12403, 'interested?': 12404, 'mins/texts.': 12405, '(career': 12406, 'tel)': 12407, 'phonebook': 12408, 'k:)eng': 12409, 'rocking': 12410, 'ashes:)': 12411, \"xin's\": 12412, 'hostel?': 12413, 'shijutta...........': 12414, 'k:)after': 12415, 'possession,': 12416, 'offense': 12417, 'bbd..thts': 12418, 'dvg': 12419, 'cold..heard': 12420, 'vinobanagar': 12421, 'condition..and': 12422, 'ovulate.when': 12423, '3wks.': 12424, '\"woah\"': 12425, 'realising': 12426, '\"oh\"': 12427, '\"thinking': 12428, 'orh': 12429, 'show.': 12430, 'second..': 12431, 'hides': 12432, 'secrets.': 12433, 'n8': 12434, 'darlin!im': 12435, 'soon.xxx': 12436, 'cool-mob': 12437, '!this': 12438, 'frog-axel': 12439, 'f>>>': 12440, 'akon-lonely>>>': 12441, 'eyed-dont': 12442, '>>>more': 12443, 'wasted': 12444, 'cashbin.co.uk': 12445, '(get': 12446, 'weekend!)': 12447, 'www.cashbin.co.uk': 12448, 'away!!': 12449, 'these..': 12450, 'canteen': 12451, 'stressfull..': 12452, 'laugh..': 12453, 'adds': 12454, 'years!!': 12455, 'ni8..swt': 12456, 'continued': 12457, 'president?': 12458, '$140': 12459, 'ard...é': 12460, '$180': 12461, 'least...which': 12462, 'bedrm': 12463, '($900)': 12464, 'pleasured': 12465, 'hi.:)technical': 12466, 'support.providing': 12467, 'assistance': 12468, 'email:)': 12469, 'whens': 12470, 'show?': 12471, '1172.': 12472, 'built': 12473, 'lonlines': 12474, 'lotz': 12475, 'memories!': 12476, 'feeling..': 12477, 'lou!': 12478, 'came!': 12479, 'gailxx': 12480, 'hi..i': 12481, 'repeat': 12482, 'complacent...': 12483, 'pop': 12484, 'seen.': 12485, 'mina?': 12486, 'finance': 12487, 'miwa': 12488, 'jiayin': 12489, 'hsbc.': 12490, 'statement,': 12491, 'nyc!': 12492, '-call': 12493, '09066649731from': 12494, 'flies,': 12495, 'mth': 12496, 'opposite': 12497, 'heavily': 12498, 'outside.': 12499, 'resume:-)': 12500, 'dolls': 12501, 'patrick': 12502, 'swayze': 12503, '09061702893': 12504, '09077818151': 12505, 'calls1.50ppm': 12506, '30s': 12507, 'www.santacalling.com': 12508, 'miserable': 12509, 'quarter,': 12510, 'paperwork': 12511, 'nervous': 12512, 'fired?': 12513, 'er,': 12514, 'limping': 12515, 'aa': 12516, '078498****7': 12517, '08719180219': 12518, '06.05.05': 12519, 'oga.': 12520, 'poorly': 12521, 'punishment': 12522, 'brb': 12523, 'kill': 12524, 'honey,': 12525, 'predicte': 12526, 'reaching...': 12527, 'situations:': 12528, 'first-': 12529, 'second-': 12530, 'loosing': 12531, 'prescription': 12532, 'paper?': 12533, 'smaller': 12534, 'capacity': 12535, 'videos': 12536, 'sms.shsex.netun': 12537, 'fgkslpopw': 12538, 'fgkslpo': 12539, '0871277810710p/min': 12540, 'interesting': 12541, 'defer': 12542, 'admission': 12543, '\"checkmate\"': 12544, 'chess': 12545, 'persian': 12546, 'phrase': 12547, '\"shah': 12548, 'maat\"': 12549, 'means;': 12550, 'dead..\"': 12551, 'goodmorning..': 12552, 'day..:)': 12553, ':-):):-):-):-).': 12554, 'rats.': 12555, 'themes?': 12556, '£1.': 12557, 'txtauction.': 12558, 'pee': 12559, 'tonite.': 12560, 'rite.': 12561, 'pete,': 12562, 'week+': 12563, '2geva': 12564, 'together!': 12565, '....photoshop': 12566, 'california': 12567, 'manageable': 12568, '08715203652': 12569, '42810': 12570, '29/10/0': 12571, 'hmmm....': 12572, 'hotel...': 12573, 'inshah': 12574, 'ashley': 12575, 's.this': 12576, 'increase': 12577, 'winning.': 12578, 'instead???': 12579, 'wife.dont': 12580, 'it.i': 12581, 'too.lets': 12582, 'north': 12583, 'carolina': 12584, 'texas': 12585, 'gre': 12586, 'stretch': 12587, 'pussy!': 12588, 'bomb': 12589, 'say!': 12590, 'breathing': 12591, 'bud,': 12592, '\"response\"': 12593, 'powerful': 12594, 'weapon': 12595, \"'heart'...\": 12596, 'u\"...': 12597, 'night..swt': 12598, 'dreams..take': 12599, 'lovly..': 12600, '**free': 12601, 'message**thanks': 12602, '150p/msgrcvd': 12603, 'customercare': 12604, 'play..i': 12605, 'clas..': 12606, 'lit': 12607, 'fire': 12608, 'trip!': 12609, 'loooooool': 12610, '\"sleep': 12611, 'couch\"': 12612, 'rents?': 12613, 'dokey': 12614, 'swashbuckling': 12615, '5.terror': 12616, '6.cruel': 12617, '7.romantic': 12618, '8.lovable': 12619, '9.decent': 12620, '.joker': 12621, \"dip's\": 12622, 'dead.': 12623, 'mean.': 12624, 'gek1510...': 12625, 'pete!': 12626, 'mayb?': 12627, 'lyricalladie(21/f)': 12628, 'yes-910': 12629, 'no-910.': 12630, 'www.sms.ac/u/hmmross': 12631, \"world's\": 12632, 'happiest': 12633, 'characters...': 12634, 'differences...': 12635, 'lists.': 12636, 'list.': 12637, \"tyler's\": 12638, 'crisis': 12639, 'when/where': 12640, 'antibiotic': 12641, 'abdomen': 12642, 'gynae': 12643, 'infections': 12644, 'infections.': 12645, '6times': 12646, 'exposed': 12647, 'vomiting.': 12648, 'chastity': 12649, 'device': 12650, 'beatings': 12651, 'dog.': 12652, 'uses': 12653, 'stops.': 12654, 'miserable.': 12655, 'effects': 12656, 'gut': 12657, 'wrenching': 12658, 'months.': 12659, 'friendship:-)': 12660, \"fuck's\": 12661, 'sake': 12662, 'tallahassee': 12663, 'ou': 12664, 'taka': 12665, 'free*': 12666, 'pobox202': 12667, 'nr31': 12668, '7zs': 12669, '450pw': 12670, '\"i;m': 12671, 'stops.\"': 12672, \"*didn't*\": 12673, 'wrote': 12674, 'ritten': 12675, 'clean,': 12676, 'fold': 12677, 'laundry,': 12678, 'etc.?': 12679, '83118': 12680, 'colin': 12681, 'farrell': 12682, 'swat': 12683, '@warner': 12684, 'med.': 12685, 'popcorn!just': 12686, 'msg+ticket@kiosk.valid': 12687, '4-7/12.': 12688, '@kiosk.': 12689, 'mre': 12690, 'solihull,': 12691, 'anything?': 12692, 'nhs': 12693, 'mistake.u': 12694, 'born.please': 12695, '2b': 12696, 'terminated.we': 12697, 'inconvenience': 12698, 'dentists': 12699, 'goal!': 12700, '(henry,': 12701, 'henry': 12702, 'yards': 12703, 'bergkamp': 12704, 'margin': 12705, '78': 12706, 'parent.': 12707, \"it'snot\": 12708, \"child's\": 12709, 'parent...not': 12710, 'unintentional.': 12711, 'nonetheless.': 12712, 'hooch': 12713, 'toaday': 12714, 'splat!': 12715, 'grazed': 12716, 'knees': 12717, 'everything!': 12718, 'tomorrow!': 12719, 'call;': 12720, 'confirm/deny': 12721, 'hearin': 12722, 'now....': 12723, 'evng.': 12724, 'yah...': 12725, 'intro...': 12726, 'torture': 12727, 'england?': 12728, 'art?!': 12729, ':d': 12730, 'hopeing': 12731, 'wasn‘t': 12732, 'sisters': 12733, 'sexychat': 12734, 'chatting.': 12735, 'lips': 12736, 'started.india': 12737, 'buy:)': 12738, 'k..k.:)congratulation': 12739, 'court.': 12740, 'liao?': 12741, 'chapel': 12742, 'frontierville?': 12743, 'stuff?': 12744, 'mountain': 12745, 'deer': 12746, 'mail.i': 12747, 'mailed': 12748, 'varma': 12749, 'membership.take': 12750, 'care.insha': 12751, 'allah.': 12752, 'secure': 12753, 'amy,': 12754, 'days,': 12755, 'parties...': 12756, 'bored!': 12757, 'farting': 12758, '7:30': 12759, 'ortxt': 12760, 'select,': 12761, 'benefits.': 12762, 'trained': 12763, 'advisors': 12764, 'dialling': 12765, '402.': 12766, 'woot': 12767, 'woot!': 12768, 'stuffing': 12769, 'face!': 12770, 'ahhhh...just': 12771, 'up!had': 12772, 'tho,so': 12773, 'vivek:)i': 12774, 'check,': 12775, '9-6.': 12776, 'da:)do': 12777, 'dining': 12778, 'experiencehttp://www.vouch4me.com/etlp/dining.asp': 12779, 'kaila': 12780, '09058094507': 12781, \"unicef's\": 12782, 'asian': 12783, 'tsunami': 12784, 'disaster': 12785, 'fund': 12786, '864233.': 12787, 'tomorrow.....!': 12788, 'today...!': 12789, 'present...': 12790, 'cme': 12791, 'hos': 12792, '2morow.': 12793, 'cme.': 12794, 'trip...': 12795, 'online!': 12796, 'msn...': 12797, 'called.': 12798, 'collapsed': 12799, 'crazy.': 12800, 'yar...': 12801, 'gorgeous!': 12802, 'cumming': 12803, 'jade': 12804, 'paul.': 12805, 'barmed?': 12806, 'slept?': 12807, 'thinkthis': 12808, 'pm)': 12809, 'dangerous': 12810, 'goldviking': 12811, '(29/m)': 12812, 'yes-762': 12813, 'no-762': 12814, 'him:': 12815, 'www.sms.ac/u/goldviking': 12816, 'stress': 12817, 'busy...': 12818, 'rushing.': 12819, 'channel:-):-):):-).': 12820, 'coulda': 12821, \"wasn't?\": 12822, 'nothing!!': 12823, 'phony': 12824, 'xxxx': 12825, 'eta': 12826, '12:30': 12827, 'planned,': 12828, 'okday?!': 12829, ':-xx': 12830, 'kate,': 12831, 'buz': 12832, 'wedlunch.': 12833, 'outsomewhere': 12834, 'adrink': 12835, 'town..cud': 12836, '2watershd': 12837, 'fromwrk': 12838, 'bthere.': 12839, 'petexxx.\"': 12840, 'read.': 12841, 'monday,': 12842, 'else...': 12843, 'hmph.': 12844, 'head,': 12845, 'baller.': 12846, 'punto.': 12847, 'worse.': 12848, 'ayo': 12849, 'travelled,': 12850, '4u:': 12851, '£125': 12852, 'freeentry': 12853, 'xt': 12854, 'toyota': 12855, 'camry': 12856, \"olayiwola's\": 12857, 'mileage': 12858, 'k.its': 12859, 'landing': 12860, 'clover': 12861, 'number.pls': 12862, 'id.convey': 12863, 'achan,amma.rakhesh.qatar': 12864, \"'rencontre'\": 12865, 'mountains': 12866, 'dont....': 12867, '08714712412': 12868, 'gals...u': 12869, 'nìte?': 12870, 'puppy': 12871, 'noise': 12872, 'sarasota': 12873, '150p/meg.': 12874, '08715203685': 12875, 'code:4xx26': 12876, '13/10/04': 12877, 'crossing': 12878, 'deepest': 12879, 'darkest': 12880, 'fantasies.': 12881, '09094646631': 12882, 'inconvenient': 12883, 'vl..do': 12884, 'adsense': 12885, 'approved..': 12886, 'dudette,': 12887, 'perumbavoor': 12888, 'stage': 12889, 'laugh.': 12890, '(you': 12891, 'me)': 12892, 'clarify': 12893, 'preponed': 12894, 'kerala.': 12895, 'natalie': 12896, '(20/f)': 12897, 'yes-165': 12898, 'no-165': 12899, 'www.sms.ac/u/natalie2k9': 12900, 'younger': 12901, 'babies': 12902, 'jamster!': 12903, '88888': 12904, '08701213186.': 12905, 'ic': 12906, 'desires-': 12907, 'liver.': 12908, 'stylish.': 12909, 'managed.': 12910, 'hmmm.still': 12911, 'opener?': 12912, 'guides': 12913, 'watched': 12914, 'loneliness': 12915, 'skyving': 12916, 'ho!': 12917, 'thangam': 12918, 'course...': 12919, 'bugis...': 12920, 'that...': 12921, 'sat....': 12922, 'call2optout/674': 12923, \"dad's\": 12924, 'show...': 12925, 'haf...': 12926, 'onwords': 12927, 'mtnl': 12928, 'mumbai.': 12929, '83039': 12930, '62735=£450': 12931, 'accommodationvouchers': 12932, 'mustprovide': 12933, '15541': 12934, 'friends...': 12935, 'number..:)': 12936, 'rajitha': 12937, '(ranju)': 12938, '5p': 12939, 'styles?': 12940, '88039.': 12941, 'tscs08714740323': 12942, '1winawk!': 12943, '£1.50perweeksub.': 12944, '09066361921': 12945, 'disagreeable': 12946, 'madam.': 12947, 'afterwards.': 12948, '\"keep': 12949, 'heart,': 12950, \"b'coz\": 12951, 'battle.': 12952, '-vivekanand-': 12953, '9t..': 12954, 'sd..': 12955, 'uawake?feellikw': 12956, 'shit.justfound': 12957, 'aletter': 12958, 'thatmum': 12959, 'gotmarried': 12960, '4thnov.behind': 12961, 'ourbacks': 12962, \"fuckinnice!selfish,deviousbitch.anyway,i'l\": 12963, 'rearrange': 12964, 'meaning...': 12965, 'dormitory': 12966, 'astronomer': 12967, 'starer': 12968, 'election': 12969, 'lies': 12970, 'recount': 12971, 'mother-in-law': 12972, 'hitler': 12973, 'eleven': 12974, '=twelve': 12975, 'amazing...': 12976, '!:-)': 12977, 'worms': 12978, 'suffering': 12979, 'dysentry': 12980, '..will': 12981, 'sing?': 12982, 'andre,': 12983, \"virgil's\": 12984, 'lor,goin': 12985, 'tt...': 12986, 'gokila': 12987, 'aha:)': 12988, 'shanil,rakhesh': 12989, 'here.thanks,i': 12990, 'exchanged': 12991, 'uncut': 12992, 'diamond': 12993, 'stuff.leaving': 12994, 'dino': 12995, 'prem.': 12996, 'k.k.this': 12997, 'kotees': 12998, 'themob>hit': 12999, 'panther': 13000, 'sugababes,': 13001, 'zebra': 13002, 'badass': 13003, 'hoody': 13004, 'wallpaper-all': 13005, '-tho': 13006, 'resent': 13007, 'error': 13008, 'queries': 13009, 'customersqueries@netvision.uk.com': 13010, 'hassling': 13011, 'andres': 13012, 'haughaighgtujhyguj': 13013, 'fassyole!': 13014, 'blacko': 13015, 'londn': 13016, 'responsibilities.': 13017, '08715205273': 13018, 'vco': 13019, 'humanities': 13020, '1st?': 13021, 'reassurance!': 13022, 'aslamalaikkum....insha': 13023, 'tohar': 13024, 'beeen': 13025, 'muht': 13026, 'albi': 13027, 'mufti': 13028, 'mahfuuz...meaning': 13029, 'training?': 13030, '078': 13031, '\"not': 13032, 'enufcredeit': 13033, 'tocall.shall': 13034, 'ileave': 13035, '+get': 13036, 'house?\"': 13037, 'treats': 13038, 'sub,': 13039, 'okors,': 13040, 'ibored.': 13041, 'adding': 13042, 'zeros.': 13043, 'savings.': 13044, 'hmm...': 13045, 'leh,': 13046, 'goigng': 13047, 'small.': 13048, 'perfume,': 13049, 'keep.': 13050, 'sday': 13051, 'joined.so': 13052, 'grocers.': 13053, 'pubs': 13054, 'frankie': 13055, 'bennys': 13056, 'cinema?': 13057, 'before...': 13058, 'yoga?': 13059, 'changing': 13060, 'diapers': 13061, 'owed': 13062, 'unlike': 13063, 'patients': 13064, 'turkeys.': 13065, 'ideas': 13066, 'link.': 13067, 'helens': 13068, 'princes': 13069, 'da:)where': 13070, 'unintentionally': 13071, 'along!': 13072, 'warning.': 13073, 'k..then': 13074, 'wenever': 13075, 'time..:-)': 13076, 'family...may': 13077, 'stability': 13078, 'tranquility': 13079, 'vibrant': 13080, 'colourful': 13081, 'life:):)': 13082, 'renewal.': 13083, 'bawling': 13084, 'failure': 13085, 'failing': 13086, 'boyfriend.': 13087, 'velusamy': 13088, \"sir's\": 13089, 'facilities': 13090, 'k:)': 13091, 'karnan': 13092, '6pm': 13093, 'bluray': 13094, 'sch?': 13095, 'i‘ve': 13096, 'salt,': 13097, 'wounds': 13098, 'like!': 13099, 'logging': 13100, 'desert.': 13101, 'geoenvironmental': 13102, 'implications.': 13103, 'strange.': 13104, \"hasn't,\": 13105, 'gently': 13106, 'fuuuuck': 13107, 'cooked': 13108, 'salmon': 13109, 'uploaded': 13110, 'wrkin?': 13111, 'ree': 13112, '5000': 13113, 'compensation': 13114, 'sarasota?': 13115, 'dinner...': 13116, 'awkward.': 13117, 'cheap!': 13118, 'splash': 13119, 'better..': 13120, 'difficulties': 13121, 'request.': 13122, 'leg': 13123, 'hurts.': 13124, 'musta': 13125, 'overdid': 13126, 'www.telediscount.co.uk': 13127, 'student': 13128, 'books?': 13129, 'hi.what': 13130, 'match?': 13131, 'installing.': 13132, 'k.k.how': 13133, 'selected.': 13134, 'wrk,': 13135, 'foned': 13136, 'chuck.:-)': 13137, 'nights...we': 13138, 'port': 13139, 'liao...too': 13140, 'stuffs.': 13141, 'fuck.': 13142, 'juswoke': 13143, 'boatin': 13144, 'docks.': 13145, 'spinout!': 13146, 're-met': 13147, 'dealing!': 13148, '<fone': 13149, 'no>': 13150, '08715203656': 13151, '42049': 13152, '26/10/04': 13153, 'nope,': 13154, 'bother.': 13155, 'aha': 13156, 'uworld': 13157, 'site.': 13158, 'qbank': 13159, 'assessment': 13160, 'also?': 13161, 'someonone': 13162, 'service!': 13163, '09064015307': 13164, 'first,': 13165, 'tke': 13166, 'care..': 13167, 'temales': 13168, 'thank.': 13169, 'booty...': 13170, 'vid..not': 13171, 'finishd..': 13172, '&cs': 13173, '177': 13174, 'before,': 13175, 'dull': 13176, 'fun!': 13177, 'studies': 13178, 'anyones': 13179, 'study.': 13180, 'dreams...': 13181, 'surprise!': 13182, 'cbe.': 13183, 'chennai.': 13184, 'swoop': 13185, 'treadmill': 13186, 'craigslist': 13187, 'absolutely': 13188, 'park!': 13189, 'film:)': 13190, 'friendship.': 13191, 'ni8.swt': 13192, 'drms.take': 13193, 'swan': 13194, '\"er,': 13195, 'mo..yep.': 13196, 'sall': 13197, 'hehe': 13198, ';>': 13199, 'shexy?': 13200, 'xx\"': 13201, 'teeth?if': 13202, 'asap.ok': 13203, 'hello.how': 13204, 'doing?what': 13205, '2?when': 13206, 'lamp,': 13207, 'caroline!': 13208, 'late:)but': 13209, 'k.wish': 13210, 'walk,': 13211, 'eight.': 13212, 'clearly': 13213, 'foward': 13214, 'friendship..': 13215, 'night:-)': 13216, '09061790126': 13217, '*childish': 13218, 'misundrstud': 13219, 'frnd:': 13220, 'urself:-(': 13221, 'gn:-)': 13222, '2u2.': 13223, 'havent...': 13224, '177.': 13225, 'genes': 13226, 'www.ldew.com1win150ppmx3age16subscription': 13227, 'resuming.': 13228, 'reapply?': 13229, \"treatin'\": 13230, 'treacle?': 13231, 'fixed.': 13232, 'mumhas': 13233, 'beendropping': 13234, 'theplace!': 13235, 'adress?\"': 13236, 'thursday.': 13237, 'yay.': 13238, '7.30.': 13239, \"k.k:)i'm\": 13240, '..i': 13241, '.so': 13242, 'money.i': 13243, 'oyster...': 13244, 'sashimi...': 13245, 'rumbling...': 13246, 'tv...': 13247, 'marandratha.': 13248, 'topic': 13249, 'problem...': 13250, 'correctly...': 13251, 'thanks,': 13252, 'aah': 13253, 'bless!': 13254, 'arm?': 13255, 'sir,salam': 13256, 'alaikkum.pride': 13257, 'shop.we': 13258, 'qatar.rakhesh': 13259, 'indian.pls': 13260, 'number.respectful': 13261, 'regards.': 13262, 'gal-can': 13263, 'hand?': 13264, 'boy-y?': 13265, 'away?': 13266, 'gal-no,': 13267, 'heaven': 13268, 'prince..gn:-)': 13269, 'letter.': 13270, 'pisces.': 13271, 'aquarius': 13272, '2yrs.': 13273, 'steyn': 13274, 'wicket:)': 13275, '[in': 13276, 'sterm': 13277, 'voice]': 13278, 'resolved,': 13279, 'eggs,': 13280, 'jam,': 13281, 'bread,': 13282, 'hannaford': 13283, 'wheat': 13284, 'chex': 13285, 'pride.': 13286, 'kid.': 13287, 'grownup': 13288, 'stuff--why': 13289, 'costume.': 13290, 'jerk!': 13291, 'stink!': 13292, 'textcomp': 13293, 'comp.': 13294, 'wk?s': 13295, 'follows,': 13296, 'subsequent': 13297, 'wks': 13298, 'charged@150p/msg.2': 13299, '84128,custcare': 13300, '08712405020': 13301, 'openings': 13302, 'upcharge.': 13303, '8-hr': 13304, 'paragon...': 13305, 'guai...': 13306, 'naughty...': 13307, 'jogging...': 13308, 'difficult...;-)': 13309, 'bottle.': 13310, 'white?': 13311, 'select': 13312, 'astrology....': 13313, 'waiting.': 13314, \"ryan's\": 13315, 'program.': 13316, 'slacking.': 13317, 'office..still': 13318, 'forms.don': 13319, 'mentor': 13320, 'percent': 13321, '09095350301': 13322, 'erotic': 13323, 'ecstacy.': 13324, 'attempt.': 13325, 'dept.': 13326, '13/4/04.': 13327, '08717507382': 13328, 'dating:i': 13329, 'these.': 13330, 'coincidence?': 13331, 'lol,': 13332, 'mins,': 13333, 'sane.': 13334, 'helping.': 13335, 'leading': 13336, '151.': 13337, 'pause': 13338, 'care:': 13339, 'gr8prizes': 13340, '8800,': 13341, 'psp': 13342, 'wk.txt': 13343, '80878': 13344, 'http//www.gr8prizes.com': 13345, '08715705022': 13346, 'website': 13347, 'spacebucks': 13348, \"weather's\": 13349, '0207-083-6089': 13350, 'squeezed': 13351, 'me.remove': 13352, 'maintaining': 13353, 'babes.': 13354, 'nights': 13355, \"5.i'm\": 13356, 'dreading': 13357, 'thou': 13358, 'problems?': 13359, 'suggestion': 13360, 'lands': 13361, 'helps': 13362, 'forgt': 13363, 'nite!!': 13364, 'ajith': 13365, 'ooooooh': 13366, 'yoville': 13367, 'asda': 13368, 'counts': 13369, 'doing!': 13370, 'oni.': 13371, 'officer': 13372, 'respectful': 13373, 'bffs': 13374, 'carly': 13375, 'true:': 13376, 'someone....that': 13377, 'seperated...!鈥┾??〨ud': 13378, 'evening...': 13379, 'brolly': 13380, 'franxx': 13381, 'well!i': 13382, 'kisses': 13383, 'cream...': 13384, 'prometazine': 13385, 'syrup.': 13386, '5mls': 13387, 'feed.': 13388, 'then?': 13389, 'me:': 13390, 'yijue?': 13391, 'daddy,': 13392, 'singapore': 13393, 'victoria': 13394, 'traffic.': 13395, 'album': 13396, 'pocay': 13397, 'wocay': 13398, '2morrowxxxx': 13399, 'coast': 13400, 'broth': 13401, 'ramen': 13402, 'slave!': 13403, 'light!': 13404, 'really.': 13405, 'fowler': 13406, '(long': 13407, 'story)': 13408, 'confirmed?': 13409, 'k..sry': 13410, 'siva..tats': 13411, 'askd..': 13412, 'gal...': 13413, 'diet': 13414, 'flew': 13415, 'window': 13416, '09058094583': 13417, '15:26,': 13418, 'pub/cafe': 13419, 'attention': 13420, 'help!': 13421, 'tix': 13422, \"biola's\": 13423, 'fne': 13424, 'youdoing': 13425, 'worc': 13426, 'foregate': 13427, 'shrub': 13428, 'watch,': 13429, 'get4an18th.': 13430, 'much!': 13431, '32000': 13432, '(18+).': 13433, 'legitimat': 13434, 'efreefone': 13435, 'think???': 13436, 'shop--the': 13437, 'hour.': 13438, 'receipts.': 13439, 'pendent?': 13440, 'toilet': 13441, 'stolen,': 13442, 'cops': 13443, 'on:)': 13444, 'hu.': 13445, 'navigate': 13446, 'through.': 13447, 'choosing': 13448, 'require': 13449, 'guidance.': 13450, 'what????': 13451, 'talks': 13452, 'chick': 13453, 'boobs.': 13454, 'revealing': 13455, '\"for': 13456, 'sparkling': 13457, 'breaks': 13458, '45': 13459, 'person;': 13460, '0121': 13461, '2025050': 13462, 'www.shortbreaks.org.uk\"': 13463, 'loud': 13464, 'gyno': 13465, 'belong': 13466, 'www.gamb.tv': 13467, 'treasure': 13468, 'http//tms.': 13469, 'wml?id=820554ad0a1705572711&first=true¡c': 13470, 'ringtone¡': 13471, 'holiday!': 13472, '09050000332': 13473, \"mummy's\": 13474, 'positive': 13475, 'negative': 13476, 'hmmmm?': 13477, 'dhoni': 13478, 'title.so': 13479, 'win:)': 13480, 'command...': 13481, 'stressful.': 13482, 'holby?!': 13483, '09064017295': 13484, 'k52': 13485, 'li': 13486, 'hai...': 13487, 'lecturer': 13488, 'repeating': 13489, 'yeovil': 13490, 'motor': 13491, 'max.': 13492, 'rhode': 13493, 'bong': 13494, 'ofcourse': 13495, '08448350055': 13496, 'planettalkinstant.com': 13497, \"c's.\": 13498, 'lot..i': 13499, 'eggs': 13500, 'marvel': 13501, 'ultimate': 13502, 'spider-man': 13503, '(£4.50)': 13504, 'spider': 13505, '83338': 13506, '8ball': 13507, 'tamilnadu..then': 13508, 'tip': 13509, 'yes...': 13510, 'alive....': 13511, '07808247860': 13512, '08719899229': 13513, '40411': 13514, '06/11/04': 13515, 'apo': 13516, 'perhaps': 13517, 'identification,': 13518, 'spoken.': 13519, 'limit.': 13520, 'measure.': 13521, 'boundaries.': 13522, 'endless': 13523, 'blessings': 13524, 'machan': 13525, 'reassuring,': 13526, 'dinner,': 13527, 'lor...we': 13528, 'young': 13529, 'referin': 13530, \"mei's\": 13531, 'treat,': 13532, 'liao...so': 13533, 'gd,': 13534, 'onwards...': 13535, 'smiles': 13536, 'difference..?': 13537, ':-)keep': 13538, 'smiling..': 13539, 'saibaba': 13540, 'colany': 13541, 'chic.': 13542, 'declare': 13543, '49557': 13544, '26/11/04': 13545, 'disappointment,': 13546, 'effect': 13547, 'irritation.': 13548, \"tantrum's\": 13549, 'compliments': 13550, 'system.': 13551, 'adventuring': 13552, 'chief,': 13553, 'june.': 13554, 'gsex': 13555, '2667': 13556, 'wc1n': 13557, '3xx': 13558, '3mobile': 13559, 'chatlines': 13560, 'inclu': 13561, 'servs': 13562, 'l8er': 13563, 'bill.': 13564, 'bailiff': 13565, 'walmart,': 13566, 'mouse': 13567, 'desk': 13568, 'durban': 13569, 'childporn': 13570, 'records.': 13571, ';v': 13572, 'wear.': 13573, 'shirts,': 13574, 'jumpers,': 13575, 'hat,': 13576, 'belt,': 13577, 'cribbs': 13578, 'spiritual': 13579, 'deep.': 13580, 'barring': 13581, 'sudden': 13582, 'influx': 13583, 'yeh.': 13584, 'kane': 13585, 'he.': 13586, 'shud': 13587, 'pshew...missing': 13588, 'calculation': 13589, 'units': 13590, 'accent.': 13591, '4years': 13592, 'dental': 13593, 'nmde': 13594, 'exam.': 13595, 'dump': 13596, 'heap.': 13597, 'lowes.': 13598, 'salesman...': 13599, 'considering...': 13600, 'o2:': 13601, '2.50': 13602, 'name,': 13603, '£750': 13604, '087187272008': 13605, 'now1!': 13606, 'pity,': 13607, 'so...any': 13608, 'suggestions?': 13609, 'bitching': 13610, 'rofl.': 13611}\n",
      "13612\n",
      "13610\n"
     ]
    }
   ],
   "source": [
    "texts = df['text'].apply(tokenize).tolist()\n",
    "vocab, vocab_size = build_vocab(texts)\n",
    "print(vocab)\n",
    "print(vocab_size)\n",
    "# DELETE LATER\n",
    "print(len(vocab))"
   ]
  },
  {
   "cell_type": "code",
   "execution_count": 5,
   "metadata": {
    "id": "B7nS2r5-q-ZN"
   },
   "outputs": [],
   "source": [
    "# Convert tokens to integers, if token is not in vocab, assign unknown_index\n",
    "def encode(tokens):\n",
    "    return [vocab.get(token, unknown_index) for token in tokens]\n",
    "\n",
    "encoded_texts = [encode(tokens) for tokens in texts]\n",
    "\n",
    "# Convert labels to integers\n",
    "le = LabelEncoder()\n",
    "labels = le.fit_transform(df['type']).tolist()"
   ]
  },
  {
   "cell_type": "code",
   "execution_count": 6,
   "metadata": {
    "id": "iI9ksK2_g_GG"
   },
   "outputs": [],
   "source": [
    "class TextDataset(Dataset):\n",
    "    def __init__(self, texts, labels):\n",
    "        self.texts = texts\n",
    "        self.labels = labels\n",
    "\n",
    "    def __len__(self):\n",
    "        return len(self.texts)\n",
    "\n",
    "    def __getitem__(self, idx):\n",
    "        return torch.LongTensor(self.texts[idx]), torch.LongTensor([self.labels[idx]])\n",
    "\n",
    "# Padding function\n",
    "def collate_fn(batch):\n",
    "    texts, labels = zip(*batch)\n",
    "    text_lengths = [len(text) for text in texts]\n",
    "    texts = pad_sequence(texts, padding_value=pad_index, batch_first=True)\n",
    "    labels = torch.LongTensor(labels)\n",
    "    return texts, labels, text_lengths\n",
    "\n",
    "# Train/test split\n",
    "X_train, X_test, y_train, y_test = train_test_split(encoded_texts, labels, test_size=0.2, random_state=42)\n",
    "\n",
    "train_dataset = TextDataset(X_train, y_train)\n",
    "test_dataset = TextDataset(X_test, y_test)\n",
    "\n",
    "train_loader = DataLoader(train_dataset, batch_size=32, shuffle=True, collate_fn=collate_fn)\n",
    "test_loader = DataLoader(test_dataset, batch_size=32, shuffle=False, collate_fn=collate_fn)\n"
   ]
  },
  {
   "cell_type": "markdown",
   "metadata": {
    "id": "XGvzluWS_rsI"
   },
   "source": [
    "**Question 1 (5 points):** Define network architecture\n",
    "\n",
    "You can read this documentation: https://pytorch.org/docs/stable/generated/torch.nn.LSTM.html"
   ]
  },
  {
   "cell_type": "code",
   "execution_count": 7,
   "metadata": {
    "id": "xzhAhtwyhA2a"
   },
   "outputs": [],
   "source": [
    "class LSTMClassifier(nn.Module):\n",
    "    def __init__(self, vocab_size, embedding_dim, hidden_dim, output_dim, pad_idx):\n",
    "        super().__init__()\n",
    "\n",
    "\n",
    "        # YOUR CODE HERE\n",
    "        # Define self.embedding\n",
    "        self.embedding = nn.Embedding(vocab_size, embedding_dim, padding_idx=pad_idx)\n",
    "        # Define lstm layer\n",
    "        self.lstm = nn.LSTM(input_size = embedding_dim, hidden_size = hidden_dim, batch_first = True)\n",
    "        # Define fully connected layer\n",
    "        self.fc = nn.Linear(hidden_dim, output_dim)\n",
    "        #raise NotImplementedError()\n",
    "\n",
    "\n",
    "    def forward(self, text, text_lengths):\n",
    "        embedded = self.embedding(text)\n",
    "        packed_embedded = pack_padded_sequence(embedded, text_lengths, batch_first=True, enforce_sorted=False)\n",
    "        packed_output, (hidden, _) = self.lstm(packed_embedded)\n",
    "        return self.fc(hidden.squeeze(0))\n"
   ]
  },
  {
   "cell_type": "markdown",
   "metadata": {
    "id": "02UaoAZ6AF73"
   },
   "source": [
    "**Question 2 (5 points):** Define training logic"
   ]
  },
  {
   "cell_type": "code",
   "execution_count": 8,
   "metadata": {
    "id": "965x_R2WhDR8"
   },
   "outputs": [],
   "source": [
    "device = torch.device('cuda' if torch.cuda.is_available() else 'cpu')\n",
    "\n",
    "EMBEDDING_DIM = 100\n",
    "HIDDEN_DIM = 256\n",
    "OUTPUT_DIM = len(np.unique(labels))\n",
    "model = LSTMClassifier(vocab_size, EMBEDDING_DIM, HIDDEN_DIM, OUTPUT_DIM, pad_index).to(device)\n",
    "\n",
    "optimizer = optim.Adam(model.parameters())\n",
    "criterion = nn.CrossEntropyLoss().to(device)\n",
    "\n",
    "def train(model, loader, optimizer, criterion):\n",
    "    model.train()\n",
    "    epoch_loss = 0\n",
    "    for texts, labels, text_lengths in loader:\n",
    "        # YOUR CODE HERE\n",
    "        # Define your training logic here\n",
    "        optimizer.zero_grad()\n",
    "        \n",
    "        \n",
    "        # Convert data to same device with model\n",
    "        texts, labels = texts.to(device), labels.to(device)\n",
    "        \n",
    "        # Generate model outputs\n",
    "        outputs = model(texts, text_lengths)\n",
    "        \n",
    "        # Loss calculation\n",
    "        loss = criterion(outputs, labels.squeeze())\n",
    "        \n",
    "        # Backpropagation\n",
    "        loss.backward()\n",
    "        optimizer.step()\n",
    "        #raise NotImplementedError()\n",
    "\n",
    "        epoch_loss += loss.item()\n",
    "    return epoch_loss / len(loader)\n",
    "\n"
   ]
  },
  {
   "cell_type": "markdown",
   "metadata": {
    "id": "CogxGP1zAoXC"
   },
   "source": [
    "**Question 3 (5 points):** Define eval logic"
   ]
  },
  {
   "cell_type": "code",
   "execution_count": 9,
   "metadata": {
    "id": "tmeA6-K7vaxF"
   },
   "outputs": [],
   "source": [
    "def evaluate(model, loader, criterion):\n",
    "    model.eval()\n",
    "    epoch_loss = 0\n",
    "    correct = 0\n",
    "    total = 0\n",
    "\n",
    "    with torch.no_grad():\n",
    "        for texts, labels, text_lengths in loader:\n",
    "            # YOUR CODE HERE\n",
    "            \n",
    "            # Convert data to the same device as the model\n",
    "            texts, labels = texts.to(device), labels.to(device)\n",
    "\n",
    "            # Forward pass\n",
    "            outputs = model(texts, text_lengths)\n",
    "\n",
    "            # Calculate loss for eval data\n",
    "            loss = criterion(outputs, labels.squeeze())\n",
    "            epoch_loss += loss.item()\n",
    "\n",
    "            # Count correct predictions\n",
    "            _, predicted = torch.max(outputs, 1)\n",
    "            total += labels.size(0)\n",
    "            correct += (predicted == labels.squeeze()).sum().item()\n",
    "\n",
    "\n",
    "            #raise NotImplementedError()\n",
    "\n",
    "\n",
    "    accuracy = correct / total\n",
    "    return epoch_loss / len(loader), accuracy"
   ]
  },
  {
   "cell_type": "code",
   "execution_count": 10,
   "metadata": {
    "id": "KuTF98Xzvay4"
   },
   "outputs": [
    {
     "name": "stdout",
     "output_type": "stream",
     "text": [
      "Epoch: 1/8\n",
      "\tTrain Loss: 0.2565\n",
      "\tTest Loss: 0.0963\n",
      "Epoch: 2/8\n",
      "\tTrain Loss: 0.0882\n",
      "\tTest Loss: 0.0816\n",
      "Epoch: 3/8\n",
      "\tTrain Loss: 0.0516\n",
      "\tTest Loss: 0.0860\n",
      "Epoch: 4/8\n",
      "\tTrain Loss: 0.0225\n",
      "\tTest Loss: 0.0797\n",
      "Epoch: 5/8\n",
      "\tTrain Loss: 0.0173\n",
      "\tTest Loss: 0.0857\n",
      "Epoch: 6/8\n",
      "\tTrain Loss: 0.0082\n",
      "\tTest Loss: 0.0984\n",
      "Epoch: 7/8\n",
      "\tTrain Loss: 0.0072\n",
      "\tTest Loss: 0.1016\n",
      "Epoch: 8/8\n",
      "\tTrain Loss: 0.0024\n",
      "\tTest Loss: 0.0929\n"
     ]
    }
   ],
   "source": [
    "NUM_EPOCHS = 8\n",
    "for epoch in range(NUM_EPOCHS):\n",
    "    train_loss = train(model, train_loader, optimizer, criterion)\n",
    "    test_loss, _ = evaluate(model, test_loader, criterion)\n",
    "\n",
    "    print(f\"Epoch: {epoch+1}/{NUM_EPOCHS}\")\n",
    "    print(f\"\\tTrain Loss: {train_loss:.4f}\")\n",
    "    print(f\"\\tTest Loss: {test_loss:.4f}\")"
   ]
  },
  {
   "cell_type": "code",
   "execution_count": 11,
   "metadata": {
    "id": "Ms9SfJAiiryn"
   },
   "outputs": [
    {
     "name": "stdout",
     "output_type": "stream",
     "text": [
      "\tTest Accuracy: 97.94%\n"
     ]
    }
   ],
   "source": [
    "_, test_acc = evaluate(model, test_loader, criterion)\n",
    "print(f\"\\tTest Accuracy: {test_acc*100:.2f}%\")"
   ]
  },
  {
   "cell_type": "markdown",
   "metadata": {
    "id": "lvjqc0DFnzdG"
   },
   "source": [
    "# Part 2: Transformer (15 points)\n",
    "\n",
    "Useful resource: https://huggingface.co/docs/transformers/training"
   ]
  },
  {
   "cell_type": "markdown",
   "metadata": {
    "id": "fwDHUTJ4oQFg"
   },
   "source": [
    "Import the needed packages"
   ]
  },
  {
   "cell_type": "code",
   "execution_count": 12,
   "metadata": {
    "id": "T6usoztWoQFh"
   },
   "outputs": [],
   "source": [
    "import pandas as pd\n",
    "import torch\n",
    "from sklearn.model_selection import train_test_split\n",
    "from transformers import BertTokenizer, BertForSequenceClassification, AdamW, get_linear_schedule_with_warmup\n",
    "from torch.utils.data import DataLoader, TensorDataset, random_split\n",
    "from sklearn.metrics import accuracy_score, classification_report\n",
    "import numpy as np\n",
    "from tqdm.notebook import tqdm"
   ]
  },
  {
   "cell_type": "markdown",
   "metadata": {
    "id": "wMoW74vk18x_"
   },
   "source": [
    "Load the data from the csv files."
   ]
  },
  {
   "cell_type": "markdown",
   "metadata": {
    "id": "eQrcExnUoQFh"
   },
   "source": [
    "**Question 4 (2 points):** To process text data with the transformer, we should load the text file (.csv) with pandas. Please finish that"
   ]
  },
  {
   "cell_type": "code",
   "execution_count": 13,
   "metadata": {
    "id": "iHFwpGW62D8F"
   },
   "outputs": [],
   "source": [
    "def load_data(filepath):\n",
    "    # Load the file with pandas\n",
    "    # YOUR CODE HERE\n",
    "    df = pd.read_csv('sms_spam.csv')\n",
    "    return df\n",
    "    #raise NotImplementedError()"
   ]
  },
  {
   "cell_type": "markdown",
   "metadata": {
    "id": "fKrbKtV7oQFi"
   },
   "source": [
    "The loaded files shown in the following"
   ]
  },
  {
   "cell_type": "code",
   "execution_count": 14,
   "metadata": {
    "colab": {
     "base_uri": "https://localhost:8080/",
     "height": 466
    },
    "id": "c8WA3yLJoQFj",
    "outputId": "a75cdf62-6988-4d8e-d992-a2fc467b6440"
   },
   "outputs": [
    {
     "name": "stdout",
     "output_type": "stream",
     "text": [
      "The csv file is shown in below:\n",
      "\n"
     ]
    },
    {
     "data": {
      "text/html": [
       "<div>\n",
       "<style scoped>\n",
       "    .dataframe tbody tr th:only-of-type {\n",
       "        vertical-align: middle;\n",
       "    }\n",
       "\n",
       "    .dataframe tbody tr th {\n",
       "        vertical-align: top;\n",
       "    }\n",
       "\n",
       "    .dataframe thead th {\n",
       "        text-align: right;\n",
       "    }\n",
       "</style>\n",
       "<table border=\"1\" class=\"dataframe\">\n",
       "  <thead>\n",
       "    <tr style=\"text-align: right;\">\n",
       "      <th></th>\n",
       "      <th>type</th>\n",
       "      <th>text</th>\n",
       "    </tr>\n",
       "  </thead>\n",
       "  <tbody>\n",
       "    <tr>\n",
       "      <th>0</th>\n",
       "      <td>ham</td>\n",
       "      <td>Go until jurong point, crazy.. Available only ...</td>\n",
       "    </tr>\n",
       "    <tr>\n",
       "      <th>1</th>\n",
       "      <td>ham</td>\n",
       "      <td>Ok lar... Joking wif u oni...</td>\n",
       "    </tr>\n",
       "    <tr>\n",
       "      <th>2</th>\n",
       "      <td>spam</td>\n",
       "      <td>Free entry in 2 a wkly comp to win FA Cup fina...</td>\n",
       "    </tr>\n",
       "    <tr>\n",
       "      <th>3</th>\n",
       "      <td>ham</td>\n",
       "      <td>U dun say so early hor... U c already then say...</td>\n",
       "    </tr>\n",
       "    <tr>\n",
       "      <th>4</th>\n",
       "      <td>ham</td>\n",
       "      <td>Nah I don't think he goes to usf, he lives aro...</td>\n",
       "    </tr>\n",
       "    <tr>\n",
       "      <th>...</th>\n",
       "      <td>...</td>\n",
       "      <td>...</td>\n",
       "    </tr>\n",
       "    <tr>\n",
       "      <th>5569</th>\n",
       "      <td>spam</td>\n",
       "      <td>This is the 2nd time we have tried 2 contact u...</td>\n",
       "    </tr>\n",
       "    <tr>\n",
       "      <th>5570</th>\n",
       "      <td>ham</td>\n",
       "      <td>Will ü b going to esplanade fr home?</td>\n",
       "    </tr>\n",
       "    <tr>\n",
       "      <th>5571</th>\n",
       "      <td>ham</td>\n",
       "      <td>Pity, * was in mood for that. So...any other s...</td>\n",
       "    </tr>\n",
       "    <tr>\n",
       "      <th>5572</th>\n",
       "      <td>ham</td>\n",
       "      <td>The guy did some bitching but I acted like i'd...</td>\n",
       "    </tr>\n",
       "    <tr>\n",
       "      <th>5573</th>\n",
       "      <td>ham</td>\n",
       "      <td>Rofl. Its true to its name</td>\n",
       "    </tr>\n",
       "  </tbody>\n",
       "</table>\n",
       "<p>5574 rows × 2 columns</p>\n",
       "</div>"
      ],
      "text/plain": [
       "      type                                               text\n",
       "0      ham  Go until jurong point, crazy.. Available only ...\n",
       "1      ham                      Ok lar... Joking wif u oni...\n",
       "2     spam  Free entry in 2 a wkly comp to win FA Cup fina...\n",
       "3      ham  U dun say so early hor... U c already then say...\n",
       "4      ham  Nah I don't think he goes to usf, he lives aro...\n",
       "...    ...                                                ...\n",
       "5569  spam  This is the 2nd time we have tried 2 contact u...\n",
       "5570   ham               Will ü b going to esplanade fr home?\n",
       "5571   ham  Pity, * was in mood for that. So...any other s...\n",
       "5572   ham  The guy did some bitching but I acted like i'd...\n",
       "5573   ham                         Rofl. Its true to its name\n",
       "\n",
       "[5574 rows x 2 columns]"
      ]
     },
     "execution_count": 14,
     "metadata": {},
     "output_type": "execute_result"
    }
   ],
   "source": [
    "df = load_data(\"sms_spam.csv\")\n",
    "print('The csv file is shown in below:\\n')\n",
    "df"
   ]
  },
  {
   "cell_type": "code",
   "execution_count": 15,
   "metadata": {
    "colab": {
     "base_uri": "https://localhost:8080/"
    },
    "id": "vGxmqxNJ2M_x",
    "outputId": "41580315-b1f8-4c20-97dc-439b25b993c1"
   },
   "outputs": [
    {
     "name": "stderr",
     "output_type": "stream",
     "text": [
      "Truncation was not explicitly activated but `max_length` is provided a specific value, please use `truncation=True` to explicitly truncate examples to max length. Defaulting to 'longest_first' truncation strategy. If you encode pairs of sequences (GLUE-style) with the tokenizer you can select this strategy more precisely by providing a specific strategy to `truncation`.\n",
      "/p/cs245/anaconda3/envs/project-II/lib/python3.9/site-packages/transformers/tokenization_utils_base.py:2622: FutureWarning: The `pad_to_max_length` argument is deprecated and will be removed in a future version, use `padding=True` or `padding='longest'` to pad to the longest sequence in the batch, or use `padding='max_length'` to pad to a max length. In this case, you can give a specific length with `max_length` (e.g. `max_length=45`) or leave max_length to None to pad to the maximal input size of the model (e.g. 512 for Bert).\n",
      "  warnings.warn(\n"
     ]
    }
   ],
   "source": [
    "def preprocess_data(df):\n",
    "    tokenizer = BertTokenizer.from_pretrained('bert-base-uncased')\n",
    "    labels = df[\"type\"].unique().tolist()\n",
    "    label_dict = {label: i for i, label in enumerate(labels)}\n",
    "    df['label'] = df[\"type\"].replace(label_dict)\n",
    "\n",
    "    input_ids = []\n",
    "    attention_masks = []\n",
    "\n",
    "    for text in df[\"text\"]:\n",
    "        encoded_dict = tokenizer.encode_plus(text, add_special_tokens=True, max_length=64, pad_to_max_length=True, return_attention_mask=True)\n",
    "        input_ids.append(encoded_dict['input_ids'])\n",
    "        attention_masks.append(encoded_dict['attention_mask'])\n",
    "\n",
    "    return torch.tensor(input_ids), torch.tensor(attention_masks), torch.tensor(df['label'].values), label_dict\n",
    "\n",
    "input_ids, attention_masks, labels, label_dict = preprocess_data(df)"
   ]
  },
  {
   "cell_type": "code",
   "execution_count": 16,
   "metadata": {
    "id": "nSvYVI4t2fmC"
   },
   "outputs": [],
   "source": [
    "def split_dataset(input_ids, attention_masks, labels):\n",
    "    dataset = TensorDataset(input_ids, attention_masks, labels)\n",
    "    train_size = int(0.8 * len(dataset))\n",
    "    test_size = len(dataset) - train_size\n",
    "    return random_split(dataset, [train_size, test_size])\n",
    "\n",
    "train_dataset, test_dataset = split_dataset(input_ids, attention_masks, labels)\n",
    "train_dataloader = DataLoader(train_dataset, shuffle=True, batch_size=8)\n",
    "test_dataloader = DataLoader(test_dataset, shuffle=True, batch_size=8)\n"
   ]
  },
  {
   "cell_type": "code",
   "execution_count": 17,
   "metadata": {
    "colab": {
     "base_uri": "https://localhost:8080/"
    },
    "id": "2UUP44T82sRf",
    "outputId": "af79cbfb-1b01-4998-d167-e08d8dd3182b"
   },
   "outputs": [
    {
     "name": "stderr",
     "output_type": "stream",
     "text": [
      "Some weights of BertForSequenceClassification were not initialized from the model checkpoint at bert-base-uncased and are newly initialized: ['classifier.weight', 'classifier.bias']\n",
      "You should probably TRAIN this model on a down-stream task to be able to use it for predictions and inference.\n"
     ]
    }
   ],
   "source": [
    "def create_model(label_dict):\n",
    "    model = BertForSequenceClassification.from_pretrained(\"bert-base-uncased\", num_labels=len(label_dict))\n",
    "    return model\n",
    "model = create_model(label_dict)"
   ]
  },
  {
   "cell_type": "markdown",
   "metadata": {
    "id": "YNEKgpacoQFl"
   },
   "source": [
    "**Question 5 (3 points):** Please define the optimizer with Adam, AdamW, or SGD."
   ]
  },
  {
   "cell_type": "code",
   "execution_count": 18,
   "metadata": {
    "id": "wQQktipt2zRK"
   },
   "outputs": [
    {
     "name": "stderr",
     "output_type": "stream",
     "text": [
      "/p/cs245/anaconda3/envs/project-II/lib/python3.9/site-packages/transformers/optimization.py:411: FutureWarning: This implementation of AdamW is deprecated and will be removed in a future version. Use the PyTorch implementation torch.optim.AdamW instead, or set `no_deprecation_warning=True` to disable this warning\n",
      "  warnings.warn(\n"
     ]
    }
   ],
   "source": [
    "def setup_training(model):\n",
    "    # YOUR CODE HERE\n",
    "    optimizer = AdamW(model.parameters(), lr=5e-5)\n",
    "    #raise NotImplementedError()\n",
    "\n",
    "    epochs = 2\n",
    "    scheduler = get_linear_schedule_with_warmup(optimizer, num_warmup_steps=0, num_training_steps=len(train_dataloader) * epochs)\n",
    "    return optimizer, epochs, scheduler\n",
    "\n",
    "optimizer, epochs, scheduler = setup_training(model)\n",
    "\n"
   ]
  },
  {
   "cell_type": "markdown",
   "metadata": {
    "id": "brESWGnaoQFl"
   },
   "source": [
    "**Question 6 (7 points):** please define  training strategy with model, and loss function"
   ]
  },
  {
   "cell_type": "code",
   "execution_count": 19,
   "metadata": {
    "id": "snuh3_BE2714"
   },
   "outputs": [
    {
     "name": "stdout",
     "output_type": "stream",
     "text": [
      "[epoch: 001][iter: 0000][loss: 0.601646]\n",
      "[epoch: 001][iter: 0020][loss: 0.459457]\n",
      "[epoch: 001][iter: 0040][loss: 0.003186]\n",
      "[epoch: 001][iter: 0060][loss: 0.799033]\n",
      "[epoch: 001][iter: 0080][loss: 0.000676]\n",
      "[epoch: 001][iter: 0100][loss: 0.002586]\n",
      "[epoch: 001][iter: 0120][loss: 0.000974]\n",
      "[epoch: 001][iter: 0140][loss: 0.008085]\n",
      "[epoch: 001][iter: 0160][loss: 1.478441]\n",
      "[epoch: 001][iter: 0180][loss: 0.000600]\n",
      "[epoch: 001][iter: 0200][loss: 0.000447]\n",
      "[epoch: 001][iter: 0220][loss: 0.000898]\n",
      "[epoch: 001][iter: 0240][loss: 0.000656]\n",
      "[epoch: 001][iter: 0260][loss: 0.022088]\n",
      "[epoch: 001][iter: 0280][loss: 0.600906]\n",
      "[epoch: 001][iter: 0300][loss: 0.001950]\n",
      "[epoch: 001][iter: 0320][loss: 0.000850]\n",
      "[epoch: 001][iter: 0340][loss: 0.000483]\n",
      "[epoch: 001][iter: 0360][loss: 0.000342]\n",
      "[epoch: 001][iter: 0380][loss: 0.000289]\n",
      "[epoch: 001][iter: 0400][loss: 0.000287]\n",
      "[epoch: 001][iter: 0420][loss: 0.002159]\n",
      "[epoch: 001][iter: 0440][loss: 0.000270]\n",
      "[epoch: 001][iter: 0460][loss: 0.000237]\n",
      "[epoch: 001][iter: 0480][loss: 0.001015]\n",
      "[epoch: 001][iter: 0500][loss: 0.000728]\n",
      "[epoch: 001][iter: 0520][loss: 0.000938]\n",
      "[epoch: 001][iter: 0540][loss: 0.003143]\n",
      "Average Training Loss: 0.0739\n",
      "[epoch: 002][iter: 0000][loss: 0.000520]\n",
      "[epoch: 002][iter: 0020][loss: 0.000602]\n",
      "[epoch: 002][iter: 0040][loss: 0.000418]\n",
      "[epoch: 002][iter: 0060][loss: 0.000302]\n",
      "[epoch: 002][iter: 0080][loss: 0.000471]\n",
      "[epoch: 002][iter: 0100][loss: 0.000177]\n",
      "[epoch: 002][iter: 0120][loss: 0.000220]\n",
      "[epoch: 002][iter: 0140][loss: 0.000220]\n",
      "[epoch: 002][iter: 0160][loss: 0.000094]\n",
      "[epoch: 002][iter: 0180][loss: 0.031012]\n",
      "[epoch: 002][iter: 0200][loss: 0.000093]\n",
      "[epoch: 002][iter: 0220][loss: 0.000111]\n",
      "[epoch: 002][iter: 0240][loss: 0.000095]\n",
      "[epoch: 002][iter: 0260][loss: 0.000117]\n",
      "[epoch: 002][iter: 0280][loss: 0.000075]\n",
      "[epoch: 002][iter: 0300][loss: 0.000125]\n",
      "[epoch: 002][iter: 0320][loss: 0.000159]\n",
      "[epoch: 002][iter: 0340][loss: 0.000160]\n",
      "[epoch: 002][iter: 0360][loss: 0.000133]\n",
      "[epoch: 002][iter: 0380][loss: 0.000079]\n",
      "[epoch: 002][iter: 0400][loss: 0.000106]\n",
      "[epoch: 002][iter: 0420][loss: 0.000099]\n",
      "[epoch: 002][iter: 0440][loss: 0.000095]\n",
      "[epoch: 002][iter: 0460][loss: 0.000110]\n",
      "[epoch: 002][iter: 0480][loss: 0.000087]\n",
      "[epoch: 002][iter: 0500][loss: 0.000080]\n",
      "[epoch: 002][iter: 0520][loss: 0.000075]\n",
      "[epoch: 002][iter: 0540][loss: 0.000084]\n",
      "Average Training Loss: 0.0088\n"
     ]
    }
   ],
   "source": [
    "def train_model(model, train_dataloader, optimizer, scheduler, epochs):\n",
    "    for epoch in range(epochs):\n",
    "        total_train_loss = 0\n",
    "        for step, batch in enumerate(train_dataloader):\n",
    "            b_input_ids = batch[0].to('cuda')\n",
    "            b_attention_mask = batch[1].to('cuda')\n",
    "            b_labels = batch[2].to('cuda')\n",
    "\n",
    "            model.zero_grad()\n",
    "            # YOUR CODE HERE\n",
    "            # Please define the training strategy with model, optimizer and loss backward etc.\n",
    "\n",
    "            # Forward Pass\n",
    "            outputs = model(input_ids=b_input_ids, attention_mask=b_attention_mask)\n",
    "            logits = outputs.logits\n",
    "\n",
    "            # Define the loss function (CrossEntropyLoss)\n",
    "            loss = F.cross_entropy(logits, b_labels)\n",
    "\n",
    "            # Backward pass\n",
    "            loss.backward()\n",
    "\n",
    "            # Clip the norm of the gradients to prevent exploding gradients\n",
    "            torch.nn.utils.clip_grad_norm_(model.parameters(), 1.0)\n",
    "\n",
    "            # Update weights\n",
    "            optimizer.step()\n",
    "\n",
    "            # Update the learning rate\n",
    "            scheduler.step()\n",
    "\n",
    "            total_train_loss += loss.item()\n",
    "\n",
    "            \n",
    "            #raise NotImplementedError()\n",
    "\n",
    "            if step % 20 == 0:\n",
    "                print('[epoch: %03d][iter: %04d][loss: %.6f]'%(epoch+1, step, loss.item()))\n",
    "\n",
    "        avg_train_loss = total_train_loss / len(train_dataloader)\n",
    "        print(f'Average Training Loss: {avg_train_loss:.4f}')\n",
    "\n",
    "train_model(model.to('cuda'), train_dataloader, optimizer, scheduler, epochs)\n"
   ]
  },
  {
   "cell_type": "markdown",
   "metadata": {
    "id": "zMCi7BZsoQFm"
   },
   "source": [
    "**Question 7 (3 points):** please define evaluation strategy with trained model"
   ]
  },
  {
   "cell_type": "code",
   "execution_count": 20,
   "metadata": {
    "id": "vWMfjdL53KaL"
   },
   "outputs": [],
   "source": [
    "def evaluate_model(model, test_dataloader):\n",
    "    model.eval()\n",
    "    predictions, true_labels = [], []\n",
    "\n",
    "    for batch in test_dataloader:\n",
    "        b_input_ids = batch[0].to('cuda')\n",
    "        b_attention_mask = batch[1].to('cuda')\n",
    "        b_labels = batch[2].to('cuda')\n",
    "\n",
    "        with torch.no_grad():\n",
    "            # YOUR CODE HERE\n",
    "            # define the model eval process\n",
    "            outputs = model(input_ids=b_input_ids, attention_mask=b_attention_mask)\n",
    "            logits = outputs.logits\n",
    "            #raise NotImplementedError()\n",
    "\n",
    "        logits = logits.detach().cpu().numpy()\n",
    "        label_ids = b_labels.to('cpu').numpy()\n",
    "        predictions.append(logits)\n",
    "        true_labels.append(label_ids)\n",
    "\n",
    "    return predictions, true_labels\n",
    "\n",
    "predictions, true_labels = evaluate_model(model, test_dataloader)\n"
   ]
  },
  {
   "cell_type": "markdown",
   "metadata": {
    "id": "WwUNHetpoQFm"
   },
   "source": [
    "Then, let us eval the model"
   ]
  },
  {
   "cell_type": "code",
   "execution_count": 21,
   "metadata": {
    "id": "lO_NDhrB3M_e"
   },
   "outputs": [
    {
     "name": "stdout",
     "output_type": "stream",
     "text": [
      "Accuracy: 99.64%\n"
     ]
    }
   ],
   "source": [
    "def compute_accuracy(predictions, true_labels):\n",
    "    flat_predictions = [item for sublist in predictions for item in sublist]\n",
    "    predicted_label_ids = np.argmax(flat_predictions, axis=1).flatten()\n",
    "    flat_true_labels = [item for sublist in true_labels for item in sublist]\n",
    "    return accuracy_score(flat_true_labels, predicted_label_ids)\n",
    "\n",
    "accuracy = compute_accuracy(predictions, true_labels)\n",
    "print(f'Accuracy: {accuracy * 100:.2f}%')"
   ]
  },
  {
   "cell_type": "code",
   "execution_count": 22,
   "metadata": {
    "id": "FDvAp3uG5m5s"
   },
   "outputs": [
    {
     "name": "stdout",
     "output_type": "stream",
     "text": [
      "              precision    recall  f1-score   support\n",
      "\n",
      "         ham       1.00      1.00      1.00       967\n",
      "        spam       1.00      0.97      0.99       148\n",
      "\n",
      "    accuracy                           1.00      1115\n",
      "   macro avg       1.00      0.99      0.99      1115\n",
      "weighted avg       1.00      1.00      1.00      1115\n",
      "\n"
     ]
    }
   ],
   "source": [
    "flat_predictions = [item for sublist in predictions for item in sublist]\n",
    "predicted_label_ids = np.argmax(flat_predictions, axis=1).flatten()\n",
    "flat_true_labels = [item for sublist in true_labels for item in sublist]\n",
    "report = classification_report(flat_true_labels, predicted_label_ids, target_names=label_dict.keys())\n",
    "print(report)"
   ]
  },
  {
   "cell_type": "markdown",
   "metadata": {
    "id": "t0KGg1gG9nr4"
   },
   "source": [
    "# Part 3: Text CNN (Grad student only) (10 points)"
   ]
  },
  {
   "cell_type": "markdown",
   "metadata": {
    "id": "_Og-U9gZCAmu"
   },
   "source": [
    "You can read this article first: https://medium.com/voice-tech-podcast/text-classification-using-cnn-9ade8155dfb9\n",
    "\n",
    "Useful paper: https://arxiv.org/abs/1408.5882"
   ]
  },
  {
   "cell_type": "markdown",
   "metadata": {
    "id": "P5BF3y8m-BgK"
   },
   "source": [
    "**Question 8 (5 points)**: Define TextCNN"
   ]
  },
  {
   "cell_type": "code",
   "execution_count": 23,
   "metadata": {
    "id": "8w7Fc0UIi20U"
   },
   "outputs": [],
   "source": [
    "class TextCNN(nn.Module):\n",
    "    def __init__(self, vocab_size, embedding_dim, n_filters, filter_sizes, output_dim, dropout, pad_idx):\n",
    "        super().__init__()\n",
    "\n",
    "        # YOUR CODE HERE\n",
    "        # Embedding\n",
    "        self.embedding = nn.Embedding(vocab_size, embedding_dim, padding_idx=pad_idx)\n",
    "        \n",
    "        # Convolutional components\n",
    "        self.convs = nn.ModuleList([\n",
    "            nn.Conv2d(in_channels=1, out_channels=n_filters, kernel_size=(fs, embedding_dim))\n",
    "            for fs in filter_sizes\n",
    "        ])\n",
    "        \n",
    "        # Fully connected layer\n",
    "        self.fc = nn.Linear(len(filter_sizes) * n_filters, output_dim)\n",
    "        \n",
    "        # Dropout layer\n",
    "        self.dropout = nn.Dropout(dropout)\n",
    "        #raise NotImplementedError()\n",
    "\n",
    "    def forward(self, text):\n",
    "        # Embedding layer is applied to the input 'text'\n",
    "        embedded = self.embedding(text)\n",
    "\n",
    "        # Add a dimension to the 'embedded' tensor to make it suitable for convolution operations\n",
    "        embedded = embedded.unsqueeze(1)\n",
    "        \n",
    "        # Apply convolution operations with ReLU activation to the 'embedded' tensor using each filter in 'self.convs'\n",
    "        conved = [F.relu(conv(embedded)).squeeze(3) for conv in self.convs]\n",
    "        \n",
    "        # Perform 1D max pooling operation along the third dimension of each convolution result in 'conved'\n",
    "        pooled = [F.max_pool1d(conv, conv.shape[2]).squeeze(2) for conv in conved]\n",
    "        \n",
    "        # Concatenate the pooled results along the second dimension\n",
    "        cat = self.dropout(torch.cat(pooled, dim=1))\n",
    "        # Pass the concatenated and dropout-applied tensor through a fully connected (linear) layer 'self.fc'\n",
    "        # to obtain the final output of the neural network\n",
    "        output = self.fc(cat)\n",
    "        return output\n",
    "        #raise NotImplementedError()\n"
   ]
  },
  {
   "cell_type": "code",
   "execution_count": 24,
   "metadata": {
    "id": "Zw5oOVh0ynhW"
   },
   "outputs": [],
   "source": [
    "EMBEDDING_DIM = 100\n",
    "N_FILTERS = 100\n",
    "FILTER_SIZES = [2,3,4]\n",
    "OUTPUT_DIM = len(np.unique(labels))\n",
    "DROPOUT = 0.5\n",
    "PAD_IDX = pad_index\n",
    "\n",
    "model = TextCNN(vocab_size, EMBEDDING_DIM, N_FILTERS, FILTER_SIZES, OUTPUT_DIM, DROPOUT, PAD_IDX).to('cuda')\n",
    "optimizer = optim.Adam(model.parameters())\n",
    "#criterion = nn.CrossEntropyLoss()"
   ]
  },
  {
   "cell_type": "markdown",
   "metadata": {
    "id": "CD_S2AMC-Mta"
   },
   "source": [
    "**Question 9 (3 points):** Define training logic"
   ]
  },
  {
   "cell_type": "code",
   "execution_count": 25,
   "metadata": {
    "id": "Z2REQzL_y9me"
   },
   "outputs": [],
   "source": [
    "def train(model, loader, optimizer, criterion):\n",
    "    # YOUR CODE HERE\n",
    "    # return loss\n",
    "\n",
    "    model.train()\n",
    "    epoch_loss = 0\n",
    "    for batch in loader:\n",
    "\n",
    "        # Print batch to check its structure\n",
    "        #print(batch)\n",
    "        \n",
    "        # Unpack the batch\n",
    "        text, labels, text_lengths = batch\n",
    "\n",
    "        text, labels = text.to(device), labels.to(device)\n",
    "\n",
    "        # Clear gradients\n",
    "        optimizer.zero_grad()\n",
    "\n",
    "        # Forward pass\n",
    "        predictions = model(text.to('cuda'))\n",
    "\n",
    "        # Calculate the loss\n",
    "        loss = criterion(predictions, labels)\n",
    "\n",
    "        # Backward pass\n",
    "        loss.backward()\n",
    "\n",
    "        # Update weights\n",
    "        optimizer.step()\n",
    "\n",
    "        epoch_loss += loss.item()\n",
    "\n",
    "    return epoch_loss / len(loader)\n",
    "    #raise NotImplementedError()"
   ]
  },
  {
   "cell_type": "markdown",
   "metadata": {
    "id": "8BKhELgG-XJ1"
   },
   "source": [
    "**Question 10 (2 points)** Define evaluation logic"
   ]
  },
  {
   "cell_type": "code",
   "execution_count": 26,
   "metadata": {
    "id": "isSaiLhry9_u"
   },
   "outputs": [],
   "source": [
    "def evaluate(model, loader, criterion):\n",
    "    # YOUR CODE HERE\n",
    "\n",
    "    model.eval()\n",
    "    epoch_loss = 0\n",
    "    correct = 0\n",
    "    total = 0\n",
    "\n",
    "    with torch.no_grad():\n",
    "        for batch in loader:\n",
    "            # Print batch to check its structure\n",
    "            #print(batch)\n",
    "            \n",
    "            # Unpack the batch\n",
    "            text, labels, text_lengths = batch\n",
    "\n",
    "            predictions = model(text.to('cuda'))  # Move input to GPU\n",
    "            labels = labels.to('cuda')  # Move labels to GPU\n",
    "\n",
    "            # Forward pass\n",
    "            predictions = model(text.to('cuda'))\n",
    "\n",
    "            # Calculate loss for eval data\n",
    "            loss = criterion(predictions, labels)\n",
    "\n",
    "            # Count correct predictions\n",
    "            _, predicted = torch.max(predictions.data, 1)\n",
    "            total += labels.size(0)\n",
    "            correct += (predicted == labels).sum().item()\n",
    "\n",
    "            epoch_loss += loss.item()\n",
    "\n",
    "    accuracy = correct / total\n",
    "    return epoch_loss / len(loader), accuracy\n",
    "    \n",
    "    #raise NotImplementedError()\n",
    "    # return loss, accuracy\n"
   ]
  },
  {
   "cell_type": "code",
   "execution_count": 27,
   "metadata": {
    "id": "ZP5NWw2RyrEn"
   },
   "outputs": [
    {
     "name": "stdout",
     "output_type": "stream",
     "text": [
      "Epoch: 1/10\n",
      "\tTrain Loss: 0.3042\n",
      "\tTest Loss: 0.1459\n",
      "Epoch: 2/10\n",
      "\tTrain Loss: 0.1133\n",
      "\tTest Loss: 0.0887\n",
      "Epoch: 3/10\n",
      "\tTrain Loss: 0.0590\n",
      "\tTest Loss: 0.0785\n",
      "Epoch: 4/10\n",
      "\tTrain Loss: 0.0360\n",
      "\tTest Loss: 0.0773\n",
      "Epoch: 5/10\n",
      "\tTrain Loss: 0.0206\n",
      "\tTest Loss: 0.0763\n",
      "Epoch: 6/10\n",
      "\tTrain Loss: 0.0226\n",
      "\tTest Loss: 0.0799\n",
      "Epoch: 7/10\n",
      "\tTrain Loss: 0.0100\n",
      "\tTest Loss: 0.0758\n",
      "Epoch: 8/10\n",
      "\tTrain Loss: 0.0072\n",
      "\tTest Loss: 0.0841\n",
      "Epoch: 9/10\n",
      "\tTrain Loss: 0.0065\n",
      "\tTest Loss: 0.0869\n",
      "Epoch: 10/10\n",
      "\tTrain Loss: 0.0073\n",
      "\tTest Loss: 0.0873\n"
     ]
    }
   ],
   "source": [
    "NUM_EPOCHS = 10\n",
    "for epoch in range(NUM_EPOCHS):\n",
    "    train_loss = train(model, train_loader, optimizer, criterion)\n",
    "    test_loss, test_acc = evaluate(model, test_loader, criterion)\n",
    "\n",
    "    print(f\"Epoch: {epoch+1}/{NUM_EPOCHS}\")\n",
    "    print(f\"\\tTrain Loss: {train_loss:.4f}\")\n",
    "    print(f\"\\tTest Loss: {test_loss:.4f}\")\n"
   ]
  },
  {
   "cell_type": "code",
   "execution_count": 28,
   "metadata": {
    "id": "zJaeUAizysjY"
   },
   "outputs": [
    {
     "name": "stdout",
     "output_type": "stream",
     "text": [
      "\tTest Accuracy: 97.85%\n"
     ]
    }
   ],
   "source": [
    "_, test_acc = evaluate(model, test_loader, criterion)\n",
    "print(f\"\\tTest Accuracy: {test_acc*100:.2f}%\")"
   ]
  },
  {
   "cell_type": "code",
   "execution_count": null,
   "metadata": {
    "id": "r4jE7OVRzrPM"
   },
   "outputs": [],
   "source": []
  }
 ],
 "metadata": {
  "accelerator": "GPU",
  "colab": {
   "gpuType": "T4",
   "provenance": []
  },
  "kernelspec": {
   "display_name": "Python 3 (ipykernel)",
   "language": "python",
   "name": "python3"
  },
  "language_info": {
   "codemirror_mode": {
    "name": "ipython",
    "version": 3
   },
   "file_extension": ".py",
   "mimetype": "text/x-python",
   "name": "python",
   "nbconvert_exporter": "python",
   "pygments_lexer": "ipython3",
   "version": "3.9.18"
  }
 },
 "nbformat": 4,
 "nbformat_minor": 4
}
